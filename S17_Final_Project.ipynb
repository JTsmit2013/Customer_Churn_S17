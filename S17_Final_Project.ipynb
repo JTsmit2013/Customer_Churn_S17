{
 "cells": [
  {
   "cell_type": "markdown",
   "metadata": {},
   "source": [
    "# Final Project S17: Telecom User Retention\n",
    "\n",
    "The goal of this project is to forecast the churn customers to determine which customers could be offered promotions and attempt to keep them with the company.\n",
    "\n",
    "\n",
    "***Interconnect mainly provides two types of services:***\n",
    "- Landline communication. The telephone can be connected to several lines simultaneously.\n",
    "- Internet. The network can be set up via a telephone line (DSL, digital subscriber line) or through a fiber optic cable.\n",
    "\n",
    "***Some other services the company provides include:***\n",
    "- Internet security: antivirus software (DeviceProtection) and a malicious website blocker (OnlineSecurity)\n",
    "- A dedicated technical support line (TechSupport)\n",
    "- Cloud file storage and data backup (OnlineBackup)\n",
    "- TV streaming (StreamingTV) and a movie directory (StreamingMovies)\n",
    "\n",
    "Clients can choose monthly payment or sign a 1- or 2-year contract. \n"
   ]
  },
  {
   "cell_type": "markdown",
   "metadata": {},
   "source": [
    "## The Data\n",
    "\n",
    "- contract.csv — contract information\n",
    "- personal.csv — the client's personal data\n",
    "- internet.csv — information about Internet services\n",
    "- phone.csv — information about telephone services\n",
    "\n",
    "The data is from October 1, 2013 to  February 1, 2020\n",
    "\n",
    "Expounded Data:\n",
    "\n",
    "***contract.csv:***\n",
    "\n",
    "- **customerID**: Unique identifier for each customer  \n",
    "\n",
    "- **BeginDate**: The start date of the customer's subscription  \n",
    "\n",
    "- **EndDate**: The end date of the subscription (or 'No' if still active)  \n",
    "\n",
    "- **Type**: Contract type (e.g., 'Month-to-month', 'One year')  \n",
    "\n",
    "- **PaperlessBilling**: Indicates if the customer is enrolled in paperless billing (Yes/No)  \n",
    "\n",
    "- **PaymentMethod**: Method used for payments (e.g., 'Electronic check', 'Mailed check')  \n",
    "\n",
    "- **MonthlyCharges**: The amount charged per month (float)  \n",
    "\n",
    "- **TotalCharges**: Total amount charged over the subscription period (float) \n",
    "\n",
    "***personal.csv:***\n",
    "\n",
    "- **customerID**: Unique identifier for each customer  \n",
    "\n",
    "- **gender**: Customer's gender (e.g., Male, Female)  \n",
    "\n",
    "- **SeniorCitizen**: Indicates if the customer is a senior citizen (1 for Yes, 0 for No)  \n",
    "\n",
    "- **Partner**: Indicates if the customer has a partner (Yes/No)  \n",
    "\n",
    "- **Dependents**: Indicates if the customer has dependents (Yes/No)  \n",
    "\n",
    "\n",
    "***internet.csv:***\n",
    "\n",
    "- **customerID**: Unique identifier for each customer  \n",
    "\n",
    "- **InternetService**: Type of internet service subscribed (e.g., DSL, Fiber optic)  \n",
    "\n",
    "- **OnlineSecurity**: Indicates if the customer has online security service (Yes/No)  \n",
    "\n",
    "- **OnlineBackup**: Indicates if the customer has online backup service (Yes/No)  \n",
    "\n",
    "- **DeviceProtection**: Indicates if the customer has device protection service (Yes/No)  \n",
    "\n",
    "- **TechSupport**: Indicates if the customer has tech support service (Yes/No)  \n",
    "\n",
    "- **StreamingTV**: Indicates if the customer has a streaming TV service (Yes/No)  \n",
    "\n",
    "- **StreamingMovies**: Indicates if the customer has a streaming movie service (Yes/No)  \n",
    "\n",
    "\n",
    "***phone.csv:***\n",
    "\n",
    "- **customerID**: Unique identifier for each customer  \n",
    "\n",
    "- **MultipleLines**: Indicates if the customer has multiple phone lines (Yes/No)  \n"
   ]
  },
  {
   "cell_type": "code",
   "execution_count": 2,
   "metadata": {},
   "outputs": [],
   "source": [
    "# graphing and data manipulation\n",
    "import pandas as pd\n",
    "import seaborn as sns\n",
    "import matplotlib.pyplot as plt\n",
    "import numpy as np\n",
    "\n",
    "# modeling\n",
    "from sklearn.model_selection import train_test_split\n",
    "from sklearn.ensemble import GradientBoostingClassifier\n",
    "from sklearn.linear_model import LogisticRegression\n",
    "from sklearn.metrics import (\n",
    "    classification_report, confusion_matrix, accuracy_score,\n",
    "    roc_auc_score, roc_curve, precision_score, recall_score, f1_score\n",
    ")\n"
   ]
  },
  {
   "cell_type": "code",
   "execution_count": 3,
   "metadata": {},
   "outputs": [],
   "source": [
    "contact = pd.read_csv('/datasets/final_provider/contract.csv')\n",
    "personal = pd.read_csv('/datasets/final_provider/personal.csv')\n",
    "internet = pd.read_csv('/datasets/final_provider/internet.csv')\n",
    "phone = pd.read_csv('/datasets/final_provider/phone.csv')"
   ]
  },
  {
   "cell_type": "markdown",
   "metadata": {},
   "source": [
    "## Project Plan:"
   ]
  },
  {
   "cell_type": "code",
   "execution_count": 4,
   "metadata": {},
   "outputs": [
    {
     "name": "stdout",
     "output_type": "stream",
     "text": [
      "<class 'pandas.core.frame.DataFrame'>\n",
      "RangeIndex: 7043 entries, 0 to 7042\n",
      "Data columns (total 8 columns):\n",
      " #   Column            Non-Null Count  Dtype  \n",
      "---  ------            --------------  -----  \n",
      " 0   customerID        7043 non-null   object \n",
      " 1   BeginDate         7043 non-null   object \n",
      " 2   EndDate           7043 non-null   object \n",
      " 3   Type              7043 non-null   object \n",
      " 4   PaperlessBilling  7043 non-null   object \n",
      " 5   PaymentMethod     7043 non-null   object \n",
      " 6   MonthlyCharges    7043 non-null   float64\n",
      " 7   TotalCharges      7043 non-null   object \n",
      "dtypes: float64(1), object(7)\n",
      "memory usage: 440.3+ KB\n",
      "<class 'pandas.core.frame.DataFrame'>\n",
      "RangeIndex: 7043 entries, 0 to 7042\n",
      "Data columns (total 5 columns):\n",
      " #   Column         Non-Null Count  Dtype \n",
      "---  ------         --------------  ----- \n",
      " 0   customerID     7043 non-null   object\n",
      " 1   gender         7043 non-null   object\n",
      " 2   SeniorCitizen  7043 non-null   int64 \n",
      " 3   Partner        7043 non-null   object\n",
      " 4   Dependents     7043 non-null   object\n",
      "dtypes: int64(1), object(4)\n",
      "memory usage: 275.2+ KB\n",
      "<class 'pandas.core.frame.DataFrame'>\n",
      "RangeIndex: 5517 entries, 0 to 5516\n",
      "Data columns (total 8 columns):\n",
      " #   Column            Non-Null Count  Dtype \n",
      "---  ------            --------------  ----- \n",
      " 0   customerID        5517 non-null   object\n",
      " 1   InternetService   5517 non-null   object\n",
      " 2   OnlineSecurity    5517 non-null   object\n",
      " 3   OnlineBackup      5517 non-null   object\n",
      " 4   DeviceProtection  5517 non-null   object\n",
      " 5   TechSupport       5517 non-null   object\n",
      " 6   StreamingTV       5517 non-null   object\n",
      " 7   StreamingMovies   5517 non-null   object\n",
      "dtypes: object(8)\n",
      "memory usage: 344.9+ KB\n",
      "<class 'pandas.core.frame.DataFrame'>\n",
      "RangeIndex: 6361 entries, 0 to 6360\n",
      "Data columns (total 2 columns):\n",
      " #   Column         Non-Null Count  Dtype \n",
      "---  ------         --------------  ----- \n",
      " 0   customerID     6361 non-null   object\n",
      " 1   MultipleLines  6361 non-null   object\n",
      "dtypes: object(2)\n",
      "memory usage: 99.5+ KB\n"
     ]
    }
   ],
   "source": [
    "contact.info()\n",
    "personal.info()\n",
    "internet.info()\n",
    "phone.info()"
   ]
  },
  {
   "cell_type": "markdown",
   "metadata": {},
   "source": [
    "***Project Plan after intial look at DFs***\n",
    "\n",
    "1. Download Data\n",
    "2. Take an initial look at each data frame\n",
    "3. Clean data\n",
    "    - change all yes and no data to 1 and 0\n",
    "    - change no values in end date to the final date in the data frame and don't include this date as a date customers have left\n",
    "    - check for duplication of lines\n",
    "    - check for null data in the data frames\n",
    "    - change Begin and End Date to dateTime\n",
    "4. Combined the Data frames into one data frame on customerID\n",
    "5. Check the new data frame \n",
    "    - hasn't increased in lines \n",
    "    - no duplicate lines\n",
    "6. Do feature Engineering\n",
    "    - add column with length of subscription\n",
    "    - add a column that totals the number of additional internet services\n",
    "    - One Hot encoding of Paymentmethod, Type, and InternetService\n",
    "7. Do EDA\n",
    "    - Compare and find data distribution of the data\n",
    "        - Distribution of Monthly Charges\n",
    "        - Total Charges Distribution\n",
    "        - Payment Type distribution\n",
    "        - Paperless billing Distribution\n",
    "        - Churn rates\n",
    "        - distribution of montly and yearly charges based on payment type\n",
    "        - Senior citizen distribution\n",
    "8. Model the data\n",
    "    - split the data so confirmation can be done\n",
    "    - split features and target data\n",
    "    - Calculate Auc-Roc and Accuracy\n",
    "    - determine feature importance on the model\n",
    "9. Conclusion\n",
    "    - summarize EDA finds\n",
    "    - summarizes model results"
   ]
  },
  {
   "cell_type": "markdown",
   "metadata": {},
   "source": [
    "## Data Cleaning"
   ]
  },
  {
   "cell_type": "markdown",
   "metadata": {},
   "source": [
    "#### Contact"
   ]
  },
  {
   "cell_type": "code",
   "execution_count": 5,
   "metadata": {
    "scrolled": true
   },
   "outputs": [
    {
     "name": "stdout",
     "output_type": "stream",
     "text": [
      "<class 'pandas.core.frame.DataFrame'>\n",
      "RangeIndex: 7043 entries, 0 to 7042\n",
      "Data columns (total 8 columns):\n",
      " #   Column            Non-Null Count  Dtype  \n",
      "---  ------            --------------  -----  \n",
      " 0   customerID        7043 non-null   object \n",
      " 1   BeginDate         7043 non-null   object \n",
      " 2   EndDate           7043 non-null   object \n",
      " 3   Type              7043 non-null   object \n",
      " 4   PaperlessBilling  7043 non-null   object \n",
      " 5   PaymentMethod     7043 non-null   object \n",
      " 6   MonthlyCharges    7043 non-null   float64\n",
      " 7   TotalCharges      7043 non-null   object \n",
      "dtypes: float64(1), object(7)\n",
      "memory usage: 440.3+ KB\n"
     ]
    },
    {
     "data": {
      "text/html": [
       "<div>\n",
       "<style scoped>\n",
       "    .dataframe tbody tr th:only-of-type {\n",
       "        vertical-align: middle;\n",
       "    }\n",
       "\n",
       "    .dataframe tbody tr th {\n",
       "        vertical-align: top;\n",
       "    }\n",
       "\n",
       "    .dataframe thead th {\n",
       "        text-align: right;\n",
       "    }\n",
       "</style>\n",
       "<table border=\"1\" class=\"dataframe\">\n",
       "  <thead>\n",
       "    <tr style=\"text-align: right;\">\n",
       "      <th></th>\n",
       "      <th>customerID</th>\n",
       "      <th>BeginDate</th>\n",
       "      <th>EndDate</th>\n",
       "      <th>Type</th>\n",
       "      <th>PaperlessBilling</th>\n",
       "      <th>PaymentMethod</th>\n",
       "      <th>MonthlyCharges</th>\n",
       "      <th>TotalCharges</th>\n",
       "    </tr>\n",
       "  </thead>\n",
       "  <tbody>\n",
       "    <tr>\n",
       "      <th>0</th>\n",
       "      <td>7590-VHVEG</td>\n",
       "      <td>2020-01-01</td>\n",
       "      <td>No</td>\n",
       "      <td>Month-to-month</td>\n",
       "      <td>Yes</td>\n",
       "      <td>Electronic check</td>\n",
       "      <td>29.85</td>\n",
       "      <td>29.85</td>\n",
       "    </tr>\n",
       "    <tr>\n",
       "      <th>1</th>\n",
       "      <td>5575-GNVDE</td>\n",
       "      <td>2017-04-01</td>\n",
       "      <td>No</td>\n",
       "      <td>One year</td>\n",
       "      <td>No</td>\n",
       "      <td>Mailed check</td>\n",
       "      <td>56.95</td>\n",
       "      <td>1889.5</td>\n",
       "    </tr>\n",
       "    <tr>\n",
       "      <th>2</th>\n",
       "      <td>3668-QPYBK</td>\n",
       "      <td>2019-10-01</td>\n",
       "      <td>2019-12-01 00:00:00</td>\n",
       "      <td>Month-to-month</td>\n",
       "      <td>Yes</td>\n",
       "      <td>Mailed check</td>\n",
       "      <td>53.85</td>\n",
       "      <td>108.15</td>\n",
       "    </tr>\n",
       "    <tr>\n",
       "      <th>3</th>\n",
       "      <td>7795-CFOCW</td>\n",
       "      <td>2016-05-01</td>\n",
       "      <td>No</td>\n",
       "      <td>One year</td>\n",
       "      <td>No</td>\n",
       "      <td>Bank transfer (automatic)</td>\n",
       "      <td>42.30</td>\n",
       "      <td>1840.75</td>\n",
       "    </tr>\n",
       "    <tr>\n",
       "      <th>4</th>\n",
       "      <td>9237-HQITU</td>\n",
       "      <td>2019-09-01</td>\n",
       "      <td>2019-11-01 00:00:00</td>\n",
       "      <td>Month-to-month</td>\n",
       "      <td>Yes</td>\n",
       "      <td>Electronic check</td>\n",
       "      <td>70.70</td>\n",
       "      <td>151.65</td>\n",
       "    </tr>\n",
       "  </tbody>\n",
       "</table>\n",
       "</div>"
      ],
      "text/plain": [
       "   customerID   BeginDate              EndDate            Type  \\\n",
       "0  7590-VHVEG  2020-01-01                   No  Month-to-month   \n",
       "1  5575-GNVDE  2017-04-01                   No        One year   \n",
       "2  3668-QPYBK  2019-10-01  2019-12-01 00:00:00  Month-to-month   \n",
       "3  7795-CFOCW  2016-05-01                   No        One year   \n",
       "4  9237-HQITU  2019-09-01  2019-11-01 00:00:00  Month-to-month   \n",
       "\n",
       "  PaperlessBilling              PaymentMethod  MonthlyCharges TotalCharges  \n",
       "0              Yes           Electronic check           29.85        29.85  \n",
       "1               No               Mailed check           56.95       1889.5  \n",
       "2              Yes               Mailed check           53.85       108.15  \n",
       "3               No  Bank transfer (automatic)           42.30      1840.75  \n",
       "4              Yes           Electronic check           70.70       151.65  "
      ]
     },
     "execution_count": 5,
     "metadata": {},
     "output_type": "execute_result"
    }
   ],
   "source": [
    "contact.info()\n",
    "contact.head()"
   ]
  },
  {
   "cell_type": "markdown",
   "metadata": {},
   "source": [
    "***Initial Take Aways:***\n",
    "- no null data\n",
    "- \"TotalCharges' has a Dtype of object even though its a number\n",
    "- 'EndDate' has dates and strings. consider how to change this change all 'no's to 2020-02-01 so that i can caluate length of subscription max?\n",
    "- should I change the date columns to date time.\n",
    "- look at row duplication\n",
    "- change PaperlessBilling from yes and no to 1 and 0"
   ]
  },
  {
   "cell_type": "code",
   "execution_count": 6,
   "metadata": {},
   "outputs": [],
   "source": [
    "# Convert 'BeginDate' and 'EndDate' to datetime\n",
    "contact['BeginDate'] = pd.to_datetime(contact['BeginDate'], errors='coerce')\n",
    "contact['EndDate'] = pd.to_datetime(contact['EndDate'], errors='coerce')\n",
    "\n",
    "# Fill NaT (missing dates) with a default date (e.g., '2020-02-01')\n",
    "contact['EndDate'] = contact['EndDate'].fillna(pd.to_datetime('2020-02-01'))"
   ]
  },
  {
   "cell_type": "code",
   "execution_count": 7,
   "metadata": {},
   "outputs": [],
   "source": [
    "# convert 'PaperlessBilling' column\n",
    "contact['PaperlessBilling'] = contact['PaperlessBilling'].replace({'Yes': 1, 'No': 0})\n"
   ]
  },
  {
   "cell_type": "code",
   "execution_count": 8,
   "metadata": {},
   "outputs": [
    {
     "name": "stdout",
     "output_type": "stream",
     "text": [
      "      customerID  BeginDate    EndDate      Type  PaperlessBilling  \\\n",
      "488   4472-LVYGI 2020-02-01 2020-02-01  Two year                 1   \n",
      "753   3115-CZMZD 2020-02-01 2020-02-01  Two year                 0   \n",
      "936   5709-LVOEQ 2020-02-01 2020-02-01  Two year                 0   \n",
      "1082  4367-NUYAO 2020-02-01 2020-02-01  Two year                 0   \n",
      "1340  1371-DWPAZ 2020-02-01 2020-02-01  Two year                 0   \n",
      "3331  7644-OMVMY 2020-02-01 2020-02-01  Two year                 0   \n",
      "3826  3213-VVOLG 2020-02-01 2020-02-01  Two year                 0   \n",
      "4380  2520-SGTTA 2020-02-01 2020-02-01  Two year                 0   \n",
      "5218  2923-ARZLG 2020-02-01 2020-02-01  One year                 1   \n",
      "6670  4075-WKNIU 2020-02-01 2020-02-01  Two year                 0   \n",
      "6754  2775-SEFEE 2020-02-01 2020-02-01  Two year                 1   \n",
      "\n",
      "                  PaymentMethod  MonthlyCharges TotalCharges  \n",
      "488   Bank transfer (automatic)           52.55               \n",
      "753                Mailed check           20.25               \n",
      "936                Mailed check           80.85               \n",
      "1082               Mailed check           25.75               \n",
      "1340    Credit card (automatic)           56.05               \n",
      "3331               Mailed check           19.85               \n",
      "3826               Mailed check           25.35               \n",
      "4380               Mailed check           20.00               \n",
      "5218               Mailed check           19.70               \n",
      "6670               Mailed check           73.35               \n",
      "6754  Bank transfer (automatic)           61.90               \n"
     ]
    }
   ],
   "source": [
    "# Check for non-numeric values in 'TotalCharges'\n",
    "non_numeric_total_charges = contact[~contact['TotalCharges'].apply(pd.to_numeric, errors='coerce').notna()]\n",
    "\n",
    "# Display the rows with non-numeric 'TotalCharges'\n",
    "print(non_numeric_total_charges)\n",
    "\n",
    "\n",
    "# Convert 'TotalCharges' to numeric (float64)\n",
    "contact['TotalCharges'] = pd.to_numeric(contact['TotalCharges'], errors='coerce')\n",
    "\n",
    "contact = contact.dropna()"
   ]
  },
  {
   "cell_type": "code",
   "execution_count": 9,
   "metadata": {},
   "outputs": [
    {
     "name": "stdout",
     "output_type": "stream",
     "text": [
      "<class 'pandas.core.frame.DataFrame'>\n",
      "Int64Index: 7032 entries, 0 to 7042\n",
      "Data columns (total 8 columns):\n",
      " #   Column            Non-Null Count  Dtype         \n",
      "---  ------            --------------  -----         \n",
      " 0   customerID        7032 non-null   object        \n",
      " 1   BeginDate         7032 non-null   datetime64[ns]\n",
      " 2   EndDate           7032 non-null   datetime64[ns]\n",
      " 3   Type              7032 non-null   object        \n",
      " 4   PaperlessBilling  7032 non-null   int64         \n",
      " 5   PaymentMethod     7032 non-null   object        \n",
      " 6   MonthlyCharges    7032 non-null   float64       \n",
      " 7   TotalCharges      7032 non-null   float64       \n",
      "dtypes: datetime64[ns](2), float64(2), int64(1), object(3)\n",
      "memory usage: 494.4+ KB\n"
     ]
    }
   ],
   "source": [
    "# Double checking values after the changes above\n",
    "contact.info()"
   ]
  },
  {
   "cell_type": "code",
   "execution_count": 10,
   "metadata": {},
   "outputs": [
    {
     "data": {
      "text/plain": [
       "0"
      ]
     },
     "metadata": {},
     "output_type": "display_data"
    },
    {
     "data": {
      "text/plain": [
       "0"
      ]
     },
     "metadata": {},
     "output_type": "display_data"
    },
    {
     "data": {
      "text/plain": [
       "0"
      ]
     },
     "metadata": {},
     "output_type": "display_data"
    },
    {
     "data": {
      "text/plain": [
       "0"
      ]
     },
     "metadata": {},
     "output_type": "display_data"
    }
   ],
   "source": [
    "# Count full row duplicates\n",
    "display(contact.duplicated().sum())\n",
    "\n",
    "# Count duplicates based on 'customerID'\n",
    "display(contact.duplicated(subset=['customerID']).sum())\n",
    "\n",
    "# Count duplicates based on 'customerID' and 'BeginDate'\n",
    "display(contact.duplicated(subset=['customerID', 'BeginDate']).sum())\n",
    "\n",
    "# Count duplicates based on 'customerID', 'BeginDate', and 'MonthlyCharges'\n",
    "display(contact.duplicated(subset=['customerID', 'BeginDate', 'MonthlyCharges']).sum())"
   ]
  },
  {
   "cell_type": "code",
   "execution_count": 11,
   "metadata": {},
   "outputs": [
    {
     "data": {
      "text/plain": [
       "488     4472-LVYGI\n",
       "753     3115-CZMZD\n",
       "936     5709-LVOEQ\n",
       "1082    4367-NUYAO\n",
       "1340    1371-DWPAZ\n",
       "3331    7644-OMVMY\n",
       "3826    3213-VVOLG\n",
       "4380    2520-SGTTA\n",
       "5218    2923-ARZLG\n",
       "6670    4075-WKNIU\n",
       "6754    2775-SEFEE\n",
       "Name: customerID, dtype: object"
      ]
     },
     "metadata": {},
     "output_type": "display_data"
    }
   ],
   "source": [
    "# List of the 11 customer IDs that started services on the last day of the date frame\n",
    "customerID_drop = non_numeric_total_charges['customerID']\n",
    "display(customerID_drop)"
   ]
  },
  {
   "cell_type": "code",
   "execution_count": 12,
   "metadata": {},
   "outputs": [
    {
     "data": {
      "text/html": [
       "<div>\n",
       "<style scoped>\n",
       "    .dataframe tbody tr th:only-of-type {\n",
       "        vertical-align: middle;\n",
       "    }\n",
       "\n",
       "    .dataframe tbody tr th {\n",
       "        vertical-align: top;\n",
       "    }\n",
       "\n",
       "    .dataframe thead th {\n",
       "        text-align: right;\n",
       "    }\n",
       "</style>\n",
       "<table border=\"1\" class=\"dataframe\">\n",
       "  <thead>\n",
       "    <tr style=\"text-align: right;\">\n",
       "      <th></th>\n",
       "      <th>PaperlessBilling</th>\n",
       "      <th>MonthlyCharges</th>\n",
       "      <th>TotalCharges</th>\n",
       "    </tr>\n",
       "  </thead>\n",
       "  <tbody>\n",
       "    <tr>\n",
       "      <th>count</th>\n",
       "      <td>7032.000000</td>\n",
       "      <td>7032.000000</td>\n",
       "      <td>7032.000000</td>\n",
       "    </tr>\n",
       "    <tr>\n",
       "      <th>mean</th>\n",
       "      <td>0.592719</td>\n",
       "      <td>64.798208</td>\n",
       "      <td>2283.300441</td>\n",
       "    </tr>\n",
       "    <tr>\n",
       "      <th>std</th>\n",
       "      <td>0.491363</td>\n",
       "      <td>30.085974</td>\n",
       "      <td>2266.771362</td>\n",
       "    </tr>\n",
       "    <tr>\n",
       "      <th>min</th>\n",
       "      <td>0.000000</td>\n",
       "      <td>18.250000</td>\n",
       "      <td>18.800000</td>\n",
       "    </tr>\n",
       "    <tr>\n",
       "      <th>25%</th>\n",
       "      <td>0.000000</td>\n",
       "      <td>35.587500</td>\n",
       "      <td>401.450000</td>\n",
       "    </tr>\n",
       "    <tr>\n",
       "      <th>50%</th>\n",
       "      <td>1.000000</td>\n",
       "      <td>70.350000</td>\n",
       "      <td>1397.475000</td>\n",
       "    </tr>\n",
       "    <tr>\n",
       "      <th>75%</th>\n",
       "      <td>1.000000</td>\n",
       "      <td>89.862500</td>\n",
       "      <td>3794.737500</td>\n",
       "    </tr>\n",
       "    <tr>\n",
       "      <th>max</th>\n",
       "      <td>1.000000</td>\n",
       "      <td>118.750000</td>\n",
       "      <td>8684.800000</td>\n",
       "    </tr>\n",
       "  </tbody>\n",
       "</table>\n",
       "</div>"
      ],
      "text/plain": [
       "       PaperlessBilling  MonthlyCharges  TotalCharges\n",
       "count       7032.000000     7032.000000   7032.000000\n",
       "mean           0.592719       64.798208   2283.300441\n",
       "std            0.491363       30.085974   2266.771362\n",
       "min            0.000000       18.250000     18.800000\n",
       "25%            0.000000       35.587500    401.450000\n",
       "50%            1.000000       70.350000   1397.475000\n",
       "75%            1.000000       89.862500   3794.737500\n",
       "max            1.000000      118.750000   8684.800000"
      ]
     },
     "execution_count": 12,
     "metadata": {},
     "output_type": "execute_result"
    }
   ],
   "source": [
    "contact.describe()"
   ]
  },
  {
   "cell_type": "markdown",
   "metadata": {},
   "source": [
    "***Fixes and Take Aways:***\n",
    "- There are 11 customers that started plans on the last day of the data frame and these will be taken out since there data won't help predict churn customers\n",
    "- These customers need to be taken out of the other 3 data frames\n",
    "- no duplicated full rows or specific customerID, BeginDate, and MonthlyCharges\n",
    "- About 59% of customers use paperless billing\n",
    "- On average, customers pay about $64.80 per month.\n",
    "- Need to watch for newer customers with less total charges that might skew the data. Get a histogram of this to make sure"
   ]
  },
  {
   "cell_type": "markdown",
   "metadata": {},
   "source": [
    "#### Personal"
   ]
  },
  {
   "cell_type": "code",
   "execution_count": 13,
   "metadata": {
    "scrolled": true
   },
   "outputs": [
    {
     "name": "stdout",
     "output_type": "stream",
     "text": [
      "<class 'pandas.core.frame.DataFrame'>\n",
      "RangeIndex: 7043 entries, 0 to 7042\n",
      "Data columns (total 5 columns):\n",
      " #   Column         Non-Null Count  Dtype \n",
      "---  ------         --------------  ----- \n",
      " 0   customerID     7043 non-null   object\n",
      " 1   gender         7043 non-null   object\n",
      " 2   SeniorCitizen  7043 non-null   int64 \n",
      " 3   Partner        7043 non-null   object\n",
      " 4   Dependents     7043 non-null   object\n",
      "dtypes: int64(1), object(4)\n",
      "memory usage: 275.2+ KB\n"
     ]
    },
    {
     "data": {
      "text/html": [
       "<div>\n",
       "<style scoped>\n",
       "    .dataframe tbody tr th:only-of-type {\n",
       "        vertical-align: middle;\n",
       "    }\n",
       "\n",
       "    .dataframe tbody tr th {\n",
       "        vertical-align: top;\n",
       "    }\n",
       "\n",
       "    .dataframe thead th {\n",
       "        text-align: right;\n",
       "    }\n",
       "</style>\n",
       "<table border=\"1\" class=\"dataframe\">\n",
       "  <thead>\n",
       "    <tr style=\"text-align: right;\">\n",
       "      <th></th>\n",
       "      <th>customerID</th>\n",
       "      <th>gender</th>\n",
       "      <th>SeniorCitizen</th>\n",
       "      <th>Partner</th>\n",
       "      <th>Dependents</th>\n",
       "    </tr>\n",
       "  </thead>\n",
       "  <tbody>\n",
       "    <tr>\n",
       "      <th>0</th>\n",
       "      <td>7590-VHVEG</td>\n",
       "      <td>Female</td>\n",
       "      <td>0</td>\n",
       "      <td>Yes</td>\n",
       "      <td>No</td>\n",
       "    </tr>\n",
       "    <tr>\n",
       "      <th>1</th>\n",
       "      <td>5575-GNVDE</td>\n",
       "      <td>Male</td>\n",
       "      <td>0</td>\n",
       "      <td>No</td>\n",
       "      <td>No</td>\n",
       "    </tr>\n",
       "    <tr>\n",
       "      <th>2</th>\n",
       "      <td>3668-QPYBK</td>\n",
       "      <td>Male</td>\n",
       "      <td>0</td>\n",
       "      <td>No</td>\n",
       "      <td>No</td>\n",
       "    </tr>\n",
       "    <tr>\n",
       "      <th>3</th>\n",
       "      <td>7795-CFOCW</td>\n",
       "      <td>Male</td>\n",
       "      <td>0</td>\n",
       "      <td>No</td>\n",
       "      <td>No</td>\n",
       "    </tr>\n",
       "    <tr>\n",
       "      <th>4</th>\n",
       "      <td>9237-HQITU</td>\n",
       "      <td>Female</td>\n",
       "      <td>0</td>\n",
       "      <td>No</td>\n",
       "      <td>No</td>\n",
       "    </tr>\n",
       "  </tbody>\n",
       "</table>\n",
       "</div>"
      ],
      "text/plain": [
       "   customerID  gender  SeniorCitizen Partner Dependents\n",
       "0  7590-VHVEG  Female              0     Yes         No\n",
       "1  5575-GNVDE    Male              0      No         No\n",
       "2  3668-QPYBK    Male              0      No         No\n",
       "3  7795-CFOCW    Male              0      No         No\n",
       "4  9237-HQITU  Female              0      No         No"
      ]
     },
     "execution_count": 13,
     "metadata": {},
     "output_type": "execute_result"
    }
   ],
   "source": [
    "personal.info()\n",
    "personal.head()"
   ]
  },
  {
   "cell_type": "markdown",
   "metadata": {},
   "source": [
    "***Initial Take Aways:***\n",
    "- no null data\n",
    "- check for row duplication\n",
    "- take out the dropped customers above\n",
    "- changing all yes and no to , 1 and 0\n",
    "- convert female to 1 and male to 0"
   ]
  },
  {
   "cell_type": "code",
   "execution_count": 14,
   "metadata": {},
   "outputs": [
    {
     "data": {
      "text/plain": [
       "0"
      ]
     },
     "metadata": {},
     "output_type": "display_data"
    },
    {
     "data": {
      "text/plain": [
       "0"
      ]
     },
     "metadata": {},
     "output_type": "display_data"
    },
    {
     "data": {
      "text/plain": [
       "0"
      ]
     },
     "metadata": {},
     "output_type": "display_data"
    }
   ],
   "source": [
    "# Check for full row duplicates\n",
    "display(personal.duplicated().sum())\n",
    "\n",
    "# Check for duplicates in the 'customerID' column\n",
    "display(personal['customerID'].duplicated().sum())\n",
    "\n",
    "# Check for duplicates based on 'customerID' and 'gender' columns\n",
    "display(personal.duplicated(subset=['customerID', 'gender']).sum())"
   ]
  },
  {
   "cell_type": "code",
   "execution_count": 15,
   "metadata": {},
   "outputs": [],
   "source": [
    "# convert 'Partner' and 'Dependents' columns\n",
    "personal['Partner'] = personal['Partner'].replace({'Yes': 1, 'No': 0})\n",
    "personal['Dependents'] = personal['Dependents'].replace({'Yes': 1, 'No': 0})"
   ]
  },
  {
   "cell_type": "code",
   "execution_count": 16,
   "metadata": {},
   "outputs": [],
   "source": [
    "# Convert 'gender' to 1 for Female, 0 for Male\n",
    "personal['gender'] = personal['gender'].map({'Female': 1, 'Male': 0})"
   ]
  },
  {
   "cell_type": "code",
   "execution_count": 17,
   "metadata": {},
   "outputs": [],
   "source": [
    "# Drop the rows from 'personal' where 'customerID' is in the list 'customerID_drop'\n",
    "personal = personal[~personal['customerID'].isin(customerID_drop)]"
   ]
  },
  {
   "cell_type": "code",
   "execution_count": 18,
   "metadata": {
    "scrolled": true
   },
   "outputs": [
    {
     "name": "stdout",
     "output_type": "stream",
     "text": [
      "<class 'pandas.core.frame.DataFrame'>\n",
      "Int64Index: 7032 entries, 0 to 7042\n",
      "Data columns (total 5 columns):\n",
      " #   Column         Non-Null Count  Dtype \n",
      "---  ------         --------------  ----- \n",
      " 0   customerID     7032 non-null   object\n",
      " 1   gender         7032 non-null   int64 \n",
      " 2   SeniorCitizen  7032 non-null   int64 \n",
      " 3   Partner        7032 non-null   int64 \n",
      " 4   Dependents     7032 non-null   int64 \n",
      "dtypes: int64(4), object(1)\n",
      "memory usage: 329.6+ KB\n"
     ]
    },
    {
     "data": {
      "text/html": [
       "<div>\n",
       "<style scoped>\n",
       "    .dataframe tbody tr th:only-of-type {\n",
       "        vertical-align: middle;\n",
       "    }\n",
       "\n",
       "    .dataframe tbody tr th {\n",
       "        vertical-align: top;\n",
       "    }\n",
       "\n",
       "    .dataframe thead th {\n",
       "        text-align: right;\n",
       "    }\n",
       "</style>\n",
       "<table border=\"1\" class=\"dataframe\">\n",
       "  <thead>\n",
       "    <tr style=\"text-align: right;\">\n",
       "      <th></th>\n",
       "      <th>gender</th>\n",
       "      <th>SeniorCitizen</th>\n",
       "      <th>Partner</th>\n",
       "      <th>Dependents</th>\n",
       "    </tr>\n",
       "  </thead>\n",
       "  <tbody>\n",
       "    <tr>\n",
       "      <th>count</th>\n",
       "      <td>7032.000000</td>\n",
       "      <td>7032.000000</td>\n",
       "      <td>7032.000000</td>\n",
       "      <td>7032.000000</td>\n",
       "    </tr>\n",
       "    <tr>\n",
       "      <th>mean</th>\n",
       "      <td>0.495307</td>\n",
       "      <td>0.162400</td>\n",
       "      <td>0.482509</td>\n",
       "      <td>0.298493</td>\n",
       "    </tr>\n",
       "    <tr>\n",
       "      <th>std</th>\n",
       "      <td>0.500014</td>\n",
       "      <td>0.368844</td>\n",
       "      <td>0.499729</td>\n",
       "      <td>0.457629</td>\n",
       "    </tr>\n",
       "    <tr>\n",
       "      <th>min</th>\n",
       "      <td>0.000000</td>\n",
       "      <td>0.000000</td>\n",
       "      <td>0.000000</td>\n",
       "      <td>0.000000</td>\n",
       "    </tr>\n",
       "    <tr>\n",
       "      <th>25%</th>\n",
       "      <td>0.000000</td>\n",
       "      <td>0.000000</td>\n",
       "      <td>0.000000</td>\n",
       "      <td>0.000000</td>\n",
       "    </tr>\n",
       "    <tr>\n",
       "      <th>50%</th>\n",
       "      <td>0.000000</td>\n",
       "      <td>0.000000</td>\n",
       "      <td>0.000000</td>\n",
       "      <td>0.000000</td>\n",
       "    </tr>\n",
       "    <tr>\n",
       "      <th>75%</th>\n",
       "      <td>1.000000</td>\n",
       "      <td>0.000000</td>\n",
       "      <td>1.000000</td>\n",
       "      <td>1.000000</td>\n",
       "    </tr>\n",
       "    <tr>\n",
       "      <th>max</th>\n",
       "      <td>1.000000</td>\n",
       "      <td>1.000000</td>\n",
       "      <td>1.000000</td>\n",
       "      <td>1.000000</td>\n",
       "    </tr>\n",
       "  </tbody>\n",
       "</table>\n",
       "</div>"
      ],
      "text/plain": [
       "            gender  SeniorCitizen      Partner   Dependents\n",
       "count  7032.000000    7032.000000  7032.000000  7032.000000\n",
       "mean      0.495307       0.162400     0.482509     0.298493\n",
       "std       0.500014       0.368844     0.499729     0.457629\n",
       "min       0.000000       0.000000     0.000000     0.000000\n",
       "25%       0.000000       0.000000     0.000000     0.000000\n",
       "50%       0.000000       0.000000     0.000000     0.000000\n",
       "75%       1.000000       0.000000     1.000000     1.000000\n",
       "max       1.000000       1.000000     1.000000     1.000000"
      ]
     },
     "execution_count": 18,
     "metadata": {},
     "output_type": "execute_result"
    }
   ],
   "source": [
    "#checking the change made above\n",
    "personal.info()\n",
    "personal.describe()"
   ]
  },
  {
   "cell_type": "markdown",
   "metadata": {},
   "source": [
    "***Take Aways after the Changes:***\n",
    "- no duplicates\n",
    "- there is about a 50 - 50 split between gender\n",
    "- ~ 16% of the customers are senior citizens\n",
    "- ~ 48% of the customers have a partner\n",
    "- ~ 30% of the customers have at least one dependent"
   ]
  },
  {
   "cell_type": "markdown",
   "metadata": {},
   "source": [
    "#### Internet"
   ]
  },
  {
   "cell_type": "code",
   "execution_count": 19,
   "metadata": {
    "scrolled": true
   },
   "outputs": [
    {
     "name": "stdout",
     "output_type": "stream",
     "text": [
      "<class 'pandas.core.frame.DataFrame'>\n",
      "RangeIndex: 5517 entries, 0 to 5516\n",
      "Data columns (total 8 columns):\n",
      " #   Column            Non-Null Count  Dtype \n",
      "---  ------            --------------  ----- \n",
      " 0   customerID        5517 non-null   object\n",
      " 1   InternetService   5517 non-null   object\n",
      " 2   OnlineSecurity    5517 non-null   object\n",
      " 3   OnlineBackup      5517 non-null   object\n",
      " 4   DeviceProtection  5517 non-null   object\n",
      " 5   TechSupport       5517 non-null   object\n",
      " 6   StreamingTV       5517 non-null   object\n",
      " 7   StreamingMovies   5517 non-null   object\n",
      "dtypes: object(8)\n",
      "memory usage: 344.9+ KB\n"
     ]
    },
    {
     "data": {
      "text/html": [
       "<div>\n",
       "<style scoped>\n",
       "    .dataframe tbody tr th:only-of-type {\n",
       "        vertical-align: middle;\n",
       "    }\n",
       "\n",
       "    .dataframe tbody tr th {\n",
       "        vertical-align: top;\n",
       "    }\n",
       "\n",
       "    .dataframe thead th {\n",
       "        text-align: right;\n",
       "    }\n",
       "</style>\n",
       "<table border=\"1\" class=\"dataframe\">\n",
       "  <thead>\n",
       "    <tr style=\"text-align: right;\">\n",
       "      <th></th>\n",
       "      <th>customerID</th>\n",
       "      <th>InternetService</th>\n",
       "      <th>OnlineSecurity</th>\n",
       "      <th>OnlineBackup</th>\n",
       "      <th>DeviceProtection</th>\n",
       "      <th>TechSupport</th>\n",
       "      <th>StreamingTV</th>\n",
       "      <th>StreamingMovies</th>\n",
       "    </tr>\n",
       "  </thead>\n",
       "  <tbody>\n",
       "    <tr>\n",
       "      <th>0</th>\n",
       "      <td>7590-VHVEG</td>\n",
       "      <td>DSL</td>\n",
       "      <td>No</td>\n",
       "      <td>Yes</td>\n",
       "      <td>No</td>\n",
       "      <td>No</td>\n",
       "      <td>No</td>\n",
       "      <td>No</td>\n",
       "    </tr>\n",
       "    <tr>\n",
       "      <th>1</th>\n",
       "      <td>5575-GNVDE</td>\n",
       "      <td>DSL</td>\n",
       "      <td>Yes</td>\n",
       "      <td>No</td>\n",
       "      <td>Yes</td>\n",
       "      <td>No</td>\n",
       "      <td>No</td>\n",
       "      <td>No</td>\n",
       "    </tr>\n",
       "    <tr>\n",
       "      <th>2</th>\n",
       "      <td>3668-QPYBK</td>\n",
       "      <td>DSL</td>\n",
       "      <td>Yes</td>\n",
       "      <td>Yes</td>\n",
       "      <td>No</td>\n",
       "      <td>No</td>\n",
       "      <td>No</td>\n",
       "      <td>No</td>\n",
       "    </tr>\n",
       "    <tr>\n",
       "      <th>3</th>\n",
       "      <td>7795-CFOCW</td>\n",
       "      <td>DSL</td>\n",
       "      <td>Yes</td>\n",
       "      <td>No</td>\n",
       "      <td>Yes</td>\n",
       "      <td>Yes</td>\n",
       "      <td>No</td>\n",
       "      <td>No</td>\n",
       "    </tr>\n",
       "    <tr>\n",
       "      <th>4</th>\n",
       "      <td>9237-HQITU</td>\n",
       "      <td>Fiber optic</td>\n",
       "      <td>No</td>\n",
       "      <td>No</td>\n",
       "      <td>No</td>\n",
       "      <td>No</td>\n",
       "      <td>No</td>\n",
       "      <td>No</td>\n",
       "    </tr>\n",
       "  </tbody>\n",
       "</table>\n",
       "</div>"
      ],
      "text/plain": [
       "   customerID InternetService OnlineSecurity OnlineBackup DeviceProtection  \\\n",
       "0  7590-VHVEG             DSL             No          Yes               No   \n",
       "1  5575-GNVDE             DSL            Yes           No              Yes   \n",
       "2  3668-QPYBK             DSL            Yes          Yes               No   \n",
       "3  7795-CFOCW             DSL            Yes           No              Yes   \n",
       "4  9237-HQITU     Fiber optic             No           No               No   \n",
       "\n",
       "  TechSupport StreamingTV StreamingMovies  \n",
       "0          No          No              No  \n",
       "1          No          No              No  \n",
       "2          No          No              No  \n",
       "3         Yes          No              No  \n",
       "4          No          No              No  "
      ]
     },
     "execution_count": 19,
     "metadata": {},
     "output_type": "execute_result"
    }
   ],
   "source": [
    "internet.info()\n",
    "internet.head()"
   ]
  },
  {
   "cell_type": "markdown",
   "metadata": {},
   "source": [
    "***Initial Take Aways:***\n",
    "- no null data\n",
    "- check for row duplication\n",
    "- get list of cusomters that don't have any additional services\n",
    "- make sure that all the customers in this list afe in the contact list\n",
    "- create new column with total number of additional internet services used"
   ]
  },
  {
   "cell_type": "code",
   "execution_count": 20,
   "metadata": {},
   "outputs": [],
   "source": [
    "# Replace all \"Yes\" with 1 and \"No\" with 0 for relevant columns\n",
    "internet = internet.replace({'Yes': 1, 'No': 0})"
   ]
  },
  {
   "cell_type": "code",
   "execution_count": 21,
   "metadata": {
    "scrolled": false
   },
   "outputs": [
    {
     "data": {
      "text/plain": [
       "0"
      ]
     },
     "metadata": {},
     "output_type": "display_data"
    },
    {
     "data": {
      "text/plain": [
       "0"
      ]
     },
     "metadata": {},
     "output_type": "display_data"
    },
    {
     "data": {
      "text/plain": [
       "0"
      ]
     },
     "metadata": {},
     "output_type": "display_data"
    }
   ],
   "source": [
    "# Check for full row duplicates\n",
    "display(internet.duplicated().sum())\n",
    "\n",
    "# Check for duplicates in the 'customerID' column\n",
    "display(internet['customerID'].duplicated().sum())\n",
    "\n",
    "# Check for duplicates in the 'customerID' and 'InternetService' column\n",
    "display(internet.duplicated(subset=['customerID', 'InternetService']).sum())"
   ]
  },
  {
   "cell_type": "code",
   "execution_count": 22,
   "metadata": {},
   "outputs": [],
   "source": [
    "# Drop the rows from 'internet' where 'customerID' is in the list 'customerID_drop'\n",
    "internet = internet[~internet['customerID'].isin(customerID_drop)]"
   ]
  },
  {
   "cell_type": "code",
   "execution_count": 23,
   "metadata": {},
   "outputs": [],
   "source": [
    "# List of columns that represent internet services (i.e., \"Yes\"/\"No\" columns)\n",
    "internet_service_columns = ['OnlineSecurity', 'OnlineBackup', 'DeviceProtection', 'TechSupport', 'StreamingTV', 'StreamingMovies']\n",
    "\n",
    "# Sum the values across these columns for each row (customer)\n",
    "internet['total_internet_services'] = internet[internet_service_columns].sum(axis=1)"
   ]
  },
  {
   "cell_type": "code",
   "execution_count": 24,
   "metadata": {
    "scrolled": true
   },
   "outputs": [
    {
     "name": "stdout",
     "output_type": "stream",
     "text": [
      "<class 'pandas.core.frame.DataFrame'>\n",
      "Int64Index: 5512 entries, 0 to 5516\n",
      "Data columns (total 9 columns):\n",
      " #   Column                   Non-Null Count  Dtype \n",
      "---  ------                   --------------  ----- \n",
      " 0   customerID               5512 non-null   object\n",
      " 1   InternetService          5512 non-null   object\n",
      " 2   OnlineSecurity           5512 non-null   int64 \n",
      " 3   OnlineBackup             5512 non-null   int64 \n",
      " 4   DeviceProtection         5512 non-null   int64 \n",
      " 5   TechSupport              5512 non-null   int64 \n",
      " 6   StreamingTV              5512 non-null   int64 \n",
      " 7   StreamingMovies          5512 non-null   int64 \n",
      " 8   total_internet_services  5512 non-null   int64 \n",
      "dtypes: int64(7), object(2)\n",
      "memory usage: 430.6+ KB\n"
     ]
    },
    {
     "data": {
      "text/html": [
       "<div>\n",
       "<style scoped>\n",
       "    .dataframe tbody tr th:only-of-type {\n",
       "        vertical-align: middle;\n",
       "    }\n",
       "\n",
       "    .dataframe tbody tr th {\n",
       "        vertical-align: top;\n",
       "    }\n",
       "\n",
       "    .dataframe thead th {\n",
       "        text-align: right;\n",
       "    }\n",
       "</style>\n",
       "<table border=\"1\" class=\"dataframe\">\n",
       "  <thead>\n",
       "    <tr style=\"text-align: right;\">\n",
       "      <th></th>\n",
       "      <th>OnlineSecurity</th>\n",
       "      <th>OnlineBackup</th>\n",
       "      <th>DeviceProtection</th>\n",
       "      <th>TechSupport</th>\n",
       "      <th>StreamingTV</th>\n",
       "      <th>StreamingMovies</th>\n",
       "      <th>total_internet_services</th>\n",
       "    </tr>\n",
       "  </thead>\n",
       "  <tbody>\n",
       "    <tr>\n",
       "      <th>count</th>\n",
       "      <td>5512.000000</td>\n",
       "      <td>5512.000000</td>\n",
       "      <td>5512.000000</td>\n",
       "      <td>5512.000000</td>\n",
       "      <td>5512.000000</td>\n",
       "      <td>5512.000000</td>\n",
       "      <td>5512.000000</td>\n",
       "    </tr>\n",
       "    <tr>\n",
       "      <th>mean</th>\n",
       "      <td>0.365566</td>\n",
       "      <td>0.439949</td>\n",
       "      <td>0.438679</td>\n",
       "      <td>0.370102</td>\n",
       "      <td>0.490385</td>\n",
       "      <td>0.495464</td>\n",
       "      <td>2.600145</td>\n",
       "    </tr>\n",
       "    <tr>\n",
       "      <th>std</th>\n",
       "      <td>0.481632</td>\n",
       "      <td>0.496426</td>\n",
       "      <td>0.496271</td>\n",
       "      <td>0.482875</td>\n",
       "      <td>0.499953</td>\n",
       "      <td>0.500025</td>\n",
       "      <td>1.700423</td>\n",
       "    </tr>\n",
       "    <tr>\n",
       "      <th>min</th>\n",
       "      <td>0.000000</td>\n",
       "      <td>0.000000</td>\n",
       "      <td>0.000000</td>\n",
       "      <td>0.000000</td>\n",
       "      <td>0.000000</td>\n",
       "      <td>0.000000</td>\n",
       "      <td>0.000000</td>\n",
       "    </tr>\n",
       "    <tr>\n",
       "      <th>25%</th>\n",
       "      <td>0.000000</td>\n",
       "      <td>0.000000</td>\n",
       "      <td>0.000000</td>\n",
       "      <td>0.000000</td>\n",
       "      <td>0.000000</td>\n",
       "      <td>0.000000</td>\n",
       "      <td>1.000000</td>\n",
       "    </tr>\n",
       "    <tr>\n",
       "      <th>50%</th>\n",
       "      <td>0.000000</td>\n",
       "      <td>0.000000</td>\n",
       "      <td>0.000000</td>\n",
       "      <td>0.000000</td>\n",
       "      <td>0.000000</td>\n",
       "      <td>0.000000</td>\n",
       "      <td>3.000000</td>\n",
       "    </tr>\n",
       "    <tr>\n",
       "      <th>75%</th>\n",
       "      <td>1.000000</td>\n",
       "      <td>1.000000</td>\n",
       "      <td>1.000000</td>\n",
       "      <td>1.000000</td>\n",
       "      <td>1.000000</td>\n",
       "      <td>1.000000</td>\n",
       "      <td>4.000000</td>\n",
       "    </tr>\n",
       "    <tr>\n",
       "      <th>max</th>\n",
       "      <td>1.000000</td>\n",
       "      <td>1.000000</td>\n",
       "      <td>1.000000</td>\n",
       "      <td>1.000000</td>\n",
       "      <td>1.000000</td>\n",
       "      <td>1.000000</td>\n",
       "      <td>6.000000</td>\n",
       "    </tr>\n",
       "  </tbody>\n",
       "</table>\n",
       "</div>"
      ],
      "text/plain": [
       "       OnlineSecurity  OnlineBackup  DeviceProtection  TechSupport  \\\n",
       "count     5512.000000   5512.000000       5512.000000  5512.000000   \n",
       "mean         0.365566      0.439949          0.438679     0.370102   \n",
       "std          0.481632      0.496426          0.496271     0.482875   \n",
       "min          0.000000      0.000000          0.000000     0.000000   \n",
       "25%          0.000000      0.000000          0.000000     0.000000   \n",
       "50%          0.000000      0.000000          0.000000     0.000000   \n",
       "75%          1.000000      1.000000          1.000000     1.000000   \n",
       "max          1.000000      1.000000          1.000000     1.000000   \n",
       "\n",
       "       StreamingTV  StreamingMovies  total_internet_services  \n",
       "count  5512.000000      5512.000000              5512.000000  \n",
       "mean      0.490385         0.495464                 2.600145  \n",
       "std       0.499953         0.500025                 1.700423  \n",
       "min       0.000000         0.000000                 0.000000  \n",
       "25%       0.000000         0.000000                 1.000000  \n",
       "50%       0.000000         0.000000                 3.000000  \n",
       "75%       1.000000         1.000000                 4.000000  \n",
       "max       1.000000         1.000000                 6.000000  "
      ]
     },
     "execution_count": 24,
     "metadata": {},
     "output_type": "execute_result"
    }
   ],
   "source": [
    "internet.info()\n",
    "internet.describe()"
   ]
  },
  {
   "cell_type": "markdown",
   "metadata": {},
   "source": [
    "***Initial Take Aways:***\n",
    "- no duplicates\n",
    "- took out the list of customers that started their services the last day\n",
    "- The percentage of customers that use these services will be found after all the data frames are combined"
   ]
  },
  {
   "cell_type": "markdown",
   "metadata": {},
   "source": [
    "#### Phone"
   ]
  },
  {
   "cell_type": "code",
   "execution_count": 25,
   "metadata": {},
   "outputs": [
    {
     "name": "stdout",
     "output_type": "stream",
     "text": [
      "<class 'pandas.core.frame.DataFrame'>\n",
      "RangeIndex: 6361 entries, 0 to 6360\n",
      "Data columns (total 2 columns):\n",
      " #   Column         Non-Null Count  Dtype \n",
      "---  ------         --------------  ----- \n",
      " 0   customerID     6361 non-null   object\n",
      " 1   MultipleLines  6361 non-null   object\n",
      "dtypes: object(2)\n",
      "memory usage: 99.5+ KB\n"
     ]
    },
    {
     "data": {
      "text/html": [
       "<div>\n",
       "<style scoped>\n",
       "    .dataframe tbody tr th:only-of-type {\n",
       "        vertical-align: middle;\n",
       "    }\n",
       "\n",
       "    .dataframe tbody tr th {\n",
       "        vertical-align: top;\n",
       "    }\n",
       "\n",
       "    .dataframe thead th {\n",
       "        text-align: right;\n",
       "    }\n",
       "</style>\n",
       "<table border=\"1\" class=\"dataframe\">\n",
       "  <thead>\n",
       "    <tr style=\"text-align: right;\">\n",
       "      <th></th>\n",
       "      <th>customerID</th>\n",
       "      <th>MultipleLines</th>\n",
       "    </tr>\n",
       "  </thead>\n",
       "  <tbody>\n",
       "    <tr>\n",
       "      <th>0</th>\n",
       "      <td>5575-GNVDE</td>\n",
       "      <td>No</td>\n",
       "    </tr>\n",
       "    <tr>\n",
       "      <th>1</th>\n",
       "      <td>3668-QPYBK</td>\n",
       "      <td>No</td>\n",
       "    </tr>\n",
       "    <tr>\n",
       "      <th>2</th>\n",
       "      <td>9237-HQITU</td>\n",
       "      <td>No</td>\n",
       "    </tr>\n",
       "    <tr>\n",
       "      <th>3</th>\n",
       "      <td>9305-CDSKC</td>\n",
       "      <td>Yes</td>\n",
       "    </tr>\n",
       "    <tr>\n",
       "      <th>4</th>\n",
       "      <td>1452-KIOVK</td>\n",
       "      <td>Yes</td>\n",
       "    </tr>\n",
       "  </tbody>\n",
       "</table>\n",
       "</div>"
      ],
      "text/plain": [
       "   customerID MultipleLines\n",
       "0  5575-GNVDE            No\n",
       "1  3668-QPYBK            No\n",
       "2  9237-HQITU            No\n",
       "3  9305-CDSKC           Yes\n",
       "4  1452-KIOVK           Yes"
      ]
     },
     "execution_count": 25,
     "metadata": {},
     "output_type": "execute_result"
    }
   ],
   "source": [
    "phone.info()\n",
    "phone.head()"
   ]
  },
  {
   "cell_type": "markdown",
   "metadata": {},
   "source": [
    "- no null values\n",
    "- check for row duplication\n",
    "- make sure all the customers in this list are in the contact list"
   ]
  },
  {
   "cell_type": "code",
   "execution_count": 26,
   "metadata": {},
   "outputs": [],
   "source": [
    "# Replace all \"Yes\" with 1 and \"No\" with 0 for relevant columns\n",
    "phone['MultipleLines'] = phone['MultipleLines'].replace({'Yes': 1, 'No': 0})"
   ]
  },
  {
   "cell_type": "code",
   "execution_count": 27,
   "metadata": {},
   "outputs": [],
   "source": [
    "# Drop the rows from 'phone' where 'customerID' is in the list 'customerID_drop'\n",
    "phone = phone[~phone['customerID'].isin(customerID_drop)]"
   ]
  },
  {
   "cell_type": "code",
   "execution_count": 28,
   "metadata": {},
   "outputs": [
    {
     "data": {
      "text/plain": [
       "0"
      ]
     },
     "metadata": {},
     "output_type": "display_data"
    },
    {
     "data": {
      "text/plain": [
       "0"
      ]
     },
     "metadata": {},
     "output_type": "display_data"
    },
    {
     "data": {
      "text/plain": [
       "0"
      ]
     },
     "metadata": {},
     "output_type": "display_data"
    }
   ],
   "source": [
    "# Check for full row duplicates\n",
    "display(phone.duplicated().sum())\n",
    "\n",
    "# Check for duplicates in the 'customerID' column\n",
    "display(phone['customerID'].duplicated().sum())\n",
    "\n",
    "# Check for duplicates in the 'customerID' and 'InternetService' column\n",
    "display(phone.duplicated(subset=['customerID', 'MultipleLines']).sum())"
   ]
  },
  {
   "cell_type": "code",
   "execution_count": 29,
   "metadata": {},
   "outputs": [
    {
     "name": "stdout",
     "output_type": "stream",
     "text": [
      "<class 'pandas.core.frame.DataFrame'>\n",
      "Int64Index: 6352 entries, 0 to 6360\n",
      "Data columns (total 2 columns):\n",
      " #   Column         Non-Null Count  Dtype \n",
      "---  ------         --------------  ----- \n",
      " 0   customerID     6352 non-null   object\n",
      " 1   MultipleLines  6352 non-null   int64 \n",
      "dtypes: int64(1), object(1)\n",
      "memory usage: 148.9+ KB\n"
     ]
    },
    {
     "data": {
      "text/html": [
       "<div>\n",
       "<style scoped>\n",
       "    .dataframe tbody tr th:only-of-type {\n",
       "        vertical-align: middle;\n",
       "    }\n",
       "\n",
       "    .dataframe tbody tr th {\n",
       "        vertical-align: top;\n",
       "    }\n",
       "\n",
       "    .dataframe thead th {\n",
       "        text-align: right;\n",
       "    }\n",
       "</style>\n",
       "<table border=\"1\" class=\"dataframe\">\n",
       "  <thead>\n",
       "    <tr style=\"text-align: right;\">\n",
       "      <th></th>\n",
       "      <th>MultipleLines</th>\n",
       "    </tr>\n",
       "  </thead>\n",
       "  <tbody>\n",
       "    <tr>\n",
       "      <th>count</th>\n",
       "      <td>6352.000000</td>\n",
       "    </tr>\n",
       "    <tr>\n",
       "      <th>mean</th>\n",
       "      <td>0.467097</td>\n",
       "    </tr>\n",
       "    <tr>\n",
       "      <th>std</th>\n",
       "      <td>0.498955</td>\n",
       "    </tr>\n",
       "    <tr>\n",
       "      <th>min</th>\n",
       "      <td>0.000000</td>\n",
       "    </tr>\n",
       "    <tr>\n",
       "      <th>25%</th>\n",
       "      <td>0.000000</td>\n",
       "    </tr>\n",
       "    <tr>\n",
       "      <th>50%</th>\n",
       "      <td>0.000000</td>\n",
       "    </tr>\n",
       "    <tr>\n",
       "      <th>75%</th>\n",
       "      <td>1.000000</td>\n",
       "    </tr>\n",
       "    <tr>\n",
       "      <th>max</th>\n",
       "      <td>1.000000</td>\n",
       "    </tr>\n",
       "  </tbody>\n",
       "</table>\n",
       "</div>"
      ],
      "text/plain": [
       "       MultipleLines\n",
       "count    6352.000000\n",
       "mean        0.467097\n",
       "std         0.498955\n",
       "min         0.000000\n",
       "25%         0.000000\n",
       "50%         0.000000\n",
       "75%         1.000000\n",
       "max         1.000000"
      ]
     },
     "execution_count": 29,
     "metadata": {},
     "output_type": "execute_result"
    }
   ],
   "source": [
    "phone.info()\n",
    "phone.describe()"
   ]
  },
  {
   "cell_type": "markdown",
   "metadata": {},
   "source": [
    "#### Combinding cleaned dfs into 1\n",
    "- check customers that don't have aditional phone or internet services\n",
    "- double check duplicates\n",
    "- take aways on percentage of customers using the additional services and lines in relation to the total list of customers"
   ]
  },
  {
   "cell_type": "code",
   "execution_count": 30,
   "metadata": {},
   "outputs": [],
   "source": [
    "# Merge all DataFrames on 'CustomerID'\n",
    "df = contact.merge(phone, on='customerID', how='outer') \\\n",
    "                   .merge(internet, on='customerID', how='outer') \\\n",
    "                   .merge(personal, on='customerID', how='outer')"
   ]
  },
  {
   "cell_type": "code",
   "execution_count": 31,
   "metadata": {
    "scrolled": true
   },
   "outputs": [
    {
     "data": {
      "text/html": [
       "<div>\n",
       "<style scoped>\n",
       "    .dataframe tbody tr th:only-of-type {\n",
       "        vertical-align: middle;\n",
       "    }\n",
       "\n",
       "    .dataframe tbody tr th {\n",
       "        vertical-align: top;\n",
       "    }\n",
       "\n",
       "    .dataframe thead th {\n",
       "        text-align: right;\n",
       "    }\n",
       "</style>\n",
       "<table border=\"1\" class=\"dataframe\">\n",
       "  <thead>\n",
       "    <tr style=\"text-align: right;\">\n",
       "      <th></th>\n",
       "      <th>customerID</th>\n",
       "      <th>BeginDate</th>\n",
       "      <th>EndDate</th>\n",
       "      <th>Type</th>\n",
       "      <th>PaperlessBilling</th>\n",
       "      <th>PaymentMethod</th>\n",
       "      <th>MonthlyCharges</th>\n",
       "      <th>TotalCharges</th>\n",
       "      <th>MultipleLines</th>\n",
       "      <th>InternetService</th>\n",
       "      <th>...</th>\n",
       "      <th>OnlineBackup</th>\n",
       "      <th>DeviceProtection</th>\n",
       "      <th>TechSupport</th>\n",
       "      <th>StreamingTV</th>\n",
       "      <th>StreamingMovies</th>\n",
       "      <th>total_internet_services</th>\n",
       "      <th>gender</th>\n",
       "      <th>SeniorCitizen</th>\n",
       "      <th>Partner</th>\n",
       "      <th>Dependents</th>\n",
       "    </tr>\n",
       "  </thead>\n",
       "  <tbody>\n",
       "    <tr>\n",
       "      <th>0</th>\n",
       "      <td>7590-VHVEG</td>\n",
       "      <td>2020-01-01</td>\n",
       "      <td>2020-02-01</td>\n",
       "      <td>Month-to-month</td>\n",
       "      <td>1</td>\n",
       "      <td>Electronic check</td>\n",
       "      <td>29.85</td>\n",
       "      <td>29.85</td>\n",
       "      <td>NaN</td>\n",
       "      <td>DSL</td>\n",
       "      <td>...</td>\n",
       "      <td>1.0</td>\n",
       "      <td>0.0</td>\n",
       "      <td>0.0</td>\n",
       "      <td>0.0</td>\n",
       "      <td>0.0</td>\n",
       "      <td>1.0</td>\n",
       "      <td>1</td>\n",
       "      <td>0</td>\n",
       "      <td>1</td>\n",
       "      <td>0</td>\n",
       "    </tr>\n",
       "    <tr>\n",
       "      <th>1</th>\n",
       "      <td>5575-GNVDE</td>\n",
       "      <td>2017-04-01</td>\n",
       "      <td>2020-02-01</td>\n",
       "      <td>One year</td>\n",
       "      <td>0</td>\n",
       "      <td>Mailed check</td>\n",
       "      <td>56.95</td>\n",
       "      <td>1889.50</td>\n",
       "      <td>0.0</td>\n",
       "      <td>DSL</td>\n",
       "      <td>...</td>\n",
       "      <td>0.0</td>\n",
       "      <td>1.0</td>\n",
       "      <td>0.0</td>\n",
       "      <td>0.0</td>\n",
       "      <td>0.0</td>\n",
       "      <td>2.0</td>\n",
       "      <td>0</td>\n",
       "      <td>0</td>\n",
       "      <td>0</td>\n",
       "      <td>0</td>\n",
       "    </tr>\n",
       "    <tr>\n",
       "      <th>2</th>\n",
       "      <td>3668-QPYBK</td>\n",
       "      <td>2019-10-01</td>\n",
       "      <td>2019-12-01</td>\n",
       "      <td>Month-to-month</td>\n",
       "      <td>1</td>\n",
       "      <td>Mailed check</td>\n",
       "      <td>53.85</td>\n",
       "      <td>108.15</td>\n",
       "      <td>0.0</td>\n",
       "      <td>DSL</td>\n",
       "      <td>...</td>\n",
       "      <td>1.0</td>\n",
       "      <td>0.0</td>\n",
       "      <td>0.0</td>\n",
       "      <td>0.0</td>\n",
       "      <td>0.0</td>\n",
       "      <td>2.0</td>\n",
       "      <td>0</td>\n",
       "      <td>0</td>\n",
       "      <td>0</td>\n",
       "      <td>0</td>\n",
       "    </tr>\n",
       "    <tr>\n",
       "      <th>3</th>\n",
       "      <td>7795-CFOCW</td>\n",
       "      <td>2016-05-01</td>\n",
       "      <td>2020-02-01</td>\n",
       "      <td>One year</td>\n",
       "      <td>0</td>\n",
       "      <td>Bank transfer (automatic)</td>\n",
       "      <td>42.30</td>\n",
       "      <td>1840.75</td>\n",
       "      <td>NaN</td>\n",
       "      <td>DSL</td>\n",
       "      <td>...</td>\n",
       "      <td>0.0</td>\n",
       "      <td>1.0</td>\n",
       "      <td>1.0</td>\n",
       "      <td>0.0</td>\n",
       "      <td>0.0</td>\n",
       "      <td>3.0</td>\n",
       "      <td>0</td>\n",
       "      <td>0</td>\n",
       "      <td>0</td>\n",
       "      <td>0</td>\n",
       "    </tr>\n",
       "    <tr>\n",
       "      <th>4</th>\n",
       "      <td>9237-HQITU</td>\n",
       "      <td>2019-09-01</td>\n",
       "      <td>2019-11-01</td>\n",
       "      <td>Month-to-month</td>\n",
       "      <td>1</td>\n",
       "      <td>Electronic check</td>\n",
       "      <td>70.70</td>\n",
       "      <td>151.65</td>\n",
       "      <td>0.0</td>\n",
       "      <td>Fiber optic</td>\n",
       "      <td>...</td>\n",
       "      <td>0.0</td>\n",
       "      <td>0.0</td>\n",
       "      <td>0.0</td>\n",
       "      <td>0.0</td>\n",
       "      <td>0.0</td>\n",
       "      <td>0.0</td>\n",
       "      <td>1</td>\n",
       "      <td>0</td>\n",
       "      <td>0</td>\n",
       "      <td>0</td>\n",
       "    </tr>\n",
       "  </tbody>\n",
       "</table>\n",
       "<p>5 rows × 21 columns</p>\n",
       "</div>"
      ],
      "text/plain": [
       "   customerID  BeginDate    EndDate            Type  PaperlessBilling  \\\n",
       "0  7590-VHVEG 2020-01-01 2020-02-01  Month-to-month                 1   \n",
       "1  5575-GNVDE 2017-04-01 2020-02-01        One year                 0   \n",
       "2  3668-QPYBK 2019-10-01 2019-12-01  Month-to-month                 1   \n",
       "3  7795-CFOCW 2016-05-01 2020-02-01        One year                 0   \n",
       "4  9237-HQITU 2019-09-01 2019-11-01  Month-to-month                 1   \n",
       "\n",
       "               PaymentMethod  MonthlyCharges  TotalCharges  MultipleLines  \\\n",
       "0           Electronic check           29.85         29.85            NaN   \n",
       "1               Mailed check           56.95       1889.50            0.0   \n",
       "2               Mailed check           53.85        108.15            0.0   \n",
       "3  Bank transfer (automatic)           42.30       1840.75            NaN   \n",
       "4           Electronic check           70.70        151.65            0.0   \n",
       "\n",
       "  InternetService  ...  OnlineBackup  DeviceProtection  TechSupport  \\\n",
       "0             DSL  ...           1.0               0.0          0.0   \n",
       "1             DSL  ...           0.0               1.0          0.0   \n",
       "2             DSL  ...           1.0               0.0          0.0   \n",
       "3             DSL  ...           0.0               1.0          1.0   \n",
       "4     Fiber optic  ...           0.0               0.0          0.0   \n",
       "\n",
       "   StreamingTV  StreamingMovies  total_internet_services  gender  \\\n",
       "0          0.0              0.0                      1.0       1   \n",
       "1          0.0              0.0                      2.0       0   \n",
       "2          0.0              0.0                      2.0       0   \n",
       "3          0.0              0.0                      3.0       0   \n",
       "4          0.0              0.0                      0.0       1   \n",
       "\n",
       "   SeniorCitizen  Partner  Dependents  \n",
       "0              0        1           0  \n",
       "1              0        0           0  \n",
       "2              0        0           0  \n",
       "3              0        0           0  \n",
       "4              0        0           0  \n",
       "\n",
       "[5 rows x 21 columns]"
      ]
     },
     "metadata": {},
     "output_type": "display_data"
    },
    {
     "name": "stdout",
     "output_type": "stream",
     "text": [
      "<class 'pandas.core.frame.DataFrame'>\n",
      "Int64Index: 7032 entries, 0 to 7031\n",
      "Data columns (total 21 columns):\n",
      " #   Column                   Non-Null Count  Dtype         \n",
      "---  ------                   --------------  -----         \n",
      " 0   customerID               7032 non-null   object        \n",
      " 1   BeginDate                7032 non-null   datetime64[ns]\n",
      " 2   EndDate                  7032 non-null   datetime64[ns]\n",
      " 3   Type                     7032 non-null   object        \n",
      " 4   PaperlessBilling         7032 non-null   int64         \n",
      " 5   PaymentMethod            7032 non-null   object        \n",
      " 6   MonthlyCharges           7032 non-null   float64       \n",
      " 7   TotalCharges             7032 non-null   float64       \n",
      " 8   MultipleLines            6352 non-null   float64       \n",
      " 9   InternetService          5512 non-null   object        \n",
      " 10  OnlineSecurity           5512 non-null   float64       \n",
      " 11  OnlineBackup             5512 non-null   float64       \n",
      " 12  DeviceProtection         5512 non-null   float64       \n",
      " 13  TechSupport              5512 non-null   float64       \n",
      " 14  StreamingTV              5512 non-null   float64       \n",
      " 15  StreamingMovies          5512 non-null   float64       \n",
      " 16  total_internet_services  5512 non-null   float64       \n",
      " 17  gender                   7032 non-null   int64         \n",
      " 18  SeniorCitizen            7032 non-null   int64         \n",
      " 19  Partner                  7032 non-null   int64         \n",
      " 20  Dependents               7032 non-null   int64         \n",
      "dtypes: datetime64[ns](2), float64(10), int64(5), object(4)\n",
      "memory usage: 1.2+ MB\n"
     ]
    }
   ],
   "source": [
    "display(df.head())\n",
    "df.info()"
   ]
  },
  {
   "cell_type": "code",
   "execution_count": 32,
   "metadata": {},
   "outputs": [],
   "source": [
    "# List of columns to fill with 0\n",
    "columns_to_fill = ['MultipleLines', 'InternetService', 'OnlineSecurity', \n",
    "                   'OnlineBackup', 'DeviceProtection', 'TechSupport', \n",
    "                   'StreamingTV', 'StreamingMovies', 'total_internet_services']\n",
    "\n",
    "# Fill NaN values with 0 in the specified columns\n",
    "df[columns_to_fill] = df[columns_to_fill].fillna(0)"
   ]
  },
  {
   "cell_type": "code",
   "execution_count": 33,
   "metadata": {},
   "outputs": [
    {
     "data": {
      "text/plain": [
       "0"
      ]
     },
     "metadata": {},
     "output_type": "display_data"
    },
    {
     "data": {
      "text/plain": [
       "0"
      ]
     },
     "metadata": {},
     "output_type": "display_data"
    },
    {
     "data": {
      "text/plain": [
       "0"
      ]
     },
     "metadata": {},
     "output_type": "display_data"
    }
   ],
   "source": [
    "# Check for full row duplicates\n",
    "display(df.duplicated().sum())\n",
    "\n",
    "# Check for duplicates in the 'customerID' column\n",
    "display(df['customerID'].duplicated().sum())\n",
    "\n",
    "# Check for duplicates in the 'customerID' and 'InternetService' column\n",
    "display(df.duplicated(subset=['customerID', 'BeginDate']).sum())"
   ]
  },
  {
   "cell_type": "code",
   "execution_count": 34,
   "metadata": {},
   "outputs": [
    {
     "data": {
      "text/html": [
       "<div>\n",
       "<style scoped>\n",
       "    .dataframe tbody tr th:only-of-type {\n",
       "        vertical-align: middle;\n",
       "    }\n",
       "\n",
       "    .dataframe tbody tr th {\n",
       "        vertical-align: top;\n",
       "    }\n",
       "\n",
       "    .dataframe thead th {\n",
       "        text-align: right;\n",
       "    }\n",
       "</style>\n",
       "<table border=\"1\" class=\"dataframe\">\n",
       "  <thead>\n",
       "    <tr style=\"text-align: right;\">\n",
       "      <th></th>\n",
       "      <th>PaperlessBilling</th>\n",
       "      <th>MonthlyCharges</th>\n",
       "      <th>TotalCharges</th>\n",
       "      <th>MultipleLines</th>\n",
       "      <th>OnlineSecurity</th>\n",
       "      <th>OnlineBackup</th>\n",
       "      <th>DeviceProtection</th>\n",
       "      <th>TechSupport</th>\n",
       "      <th>StreamingTV</th>\n",
       "      <th>StreamingMovies</th>\n",
       "      <th>total_internet_services</th>\n",
       "      <th>gender</th>\n",
       "      <th>SeniorCitizen</th>\n",
       "      <th>Partner</th>\n",
       "      <th>Dependents</th>\n",
       "    </tr>\n",
       "  </thead>\n",
       "  <tbody>\n",
       "    <tr>\n",
       "      <th>count</th>\n",
       "      <td>7032.000000</td>\n",
       "      <td>7032.000000</td>\n",
       "      <td>7032.000000</td>\n",
       "      <td>7032.000000</td>\n",
       "      <td>7032.000000</td>\n",
       "      <td>7032.000000</td>\n",
       "      <td>7032.000000</td>\n",
       "      <td>7032.000000</td>\n",
       "      <td>7032.000000</td>\n",
       "      <td>7032.000000</td>\n",
       "      <td>7032.000000</td>\n",
       "      <td>7032.000000</td>\n",
       "      <td>7032.000000</td>\n",
       "      <td>7032.000000</td>\n",
       "      <td>7032.000000</td>\n",
       "    </tr>\n",
       "    <tr>\n",
       "      <th>mean</th>\n",
       "      <td>0.592719</td>\n",
       "      <td>64.798208</td>\n",
       "      <td>2283.300441</td>\n",
       "      <td>0.421928</td>\n",
       "      <td>0.286547</td>\n",
       "      <td>0.344852</td>\n",
       "      <td>0.343857</td>\n",
       "      <td>0.290102</td>\n",
       "      <td>0.384386</td>\n",
       "      <td>0.388367</td>\n",
       "      <td>2.038111</td>\n",
       "      <td>0.495307</td>\n",
       "      <td>0.162400</td>\n",
       "      <td>0.482509</td>\n",
       "      <td>0.298493</td>\n",
       "    </tr>\n",
       "    <tr>\n",
       "      <th>std</th>\n",
       "      <td>0.491363</td>\n",
       "      <td>30.085974</td>\n",
       "      <td>2266.771362</td>\n",
       "      <td>0.493902</td>\n",
       "      <td>0.452180</td>\n",
       "      <td>0.475354</td>\n",
       "      <td>0.475028</td>\n",
       "      <td>0.453842</td>\n",
       "      <td>0.486484</td>\n",
       "      <td>0.487414</td>\n",
       "      <td>1.847161</td>\n",
       "      <td>0.500014</td>\n",
       "      <td>0.368844</td>\n",
       "      <td>0.499729</td>\n",
       "      <td>0.457629</td>\n",
       "    </tr>\n",
       "    <tr>\n",
       "      <th>min</th>\n",
       "      <td>0.000000</td>\n",
       "      <td>18.250000</td>\n",
       "      <td>18.800000</td>\n",
       "      <td>0.000000</td>\n",
       "      <td>0.000000</td>\n",
       "      <td>0.000000</td>\n",
       "      <td>0.000000</td>\n",
       "      <td>0.000000</td>\n",
       "      <td>0.000000</td>\n",
       "      <td>0.000000</td>\n",
       "      <td>0.000000</td>\n",
       "      <td>0.000000</td>\n",
       "      <td>0.000000</td>\n",
       "      <td>0.000000</td>\n",
       "      <td>0.000000</td>\n",
       "    </tr>\n",
       "    <tr>\n",
       "      <th>25%</th>\n",
       "      <td>0.000000</td>\n",
       "      <td>35.587500</td>\n",
       "      <td>401.450000</td>\n",
       "      <td>0.000000</td>\n",
       "      <td>0.000000</td>\n",
       "      <td>0.000000</td>\n",
       "      <td>0.000000</td>\n",
       "      <td>0.000000</td>\n",
       "      <td>0.000000</td>\n",
       "      <td>0.000000</td>\n",
       "      <td>0.000000</td>\n",
       "      <td>0.000000</td>\n",
       "      <td>0.000000</td>\n",
       "      <td>0.000000</td>\n",
       "      <td>0.000000</td>\n",
       "    </tr>\n",
       "    <tr>\n",
       "      <th>50%</th>\n",
       "      <td>1.000000</td>\n",
       "      <td>70.350000</td>\n",
       "      <td>1397.475000</td>\n",
       "      <td>0.000000</td>\n",
       "      <td>0.000000</td>\n",
       "      <td>0.000000</td>\n",
       "      <td>0.000000</td>\n",
       "      <td>0.000000</td>\n",
       "      <td>0.000000</td>\n",
       "      <td>0.000000</td>\n",
       "      <td>2.000000</td>\n",
       "      <td>0.000000</td>\n",
       "      <td>0.000000</td>\n",
       "      <td>0.000000</td>\n",
       "      <td>0.000000</td>\n",
       "    </tr>\n",
       "    <tr>\n",
       "      <th>75%</th>\n",
       "      <td>1.000000</td>\n",
       "      <td>89.862500</td>\n",
       "      <td>3794.737500</td>\n",
       "      <td>1.000000</td>\n",
       "      <td>1.000000</td>\n",
       "      <td>1.000000</td>\n",
       "      <td>1.000000</td>\n",
       "      <td>1.000000</td>\n",
       "      <td>1.000000</td>\n",
       "      <td>1.000000</td>\n",
       "      <td>3.000000</td>\n",
       "      <td>1.000000</td>\n",
       "      <td>0.000000</td>\n",
       "      <td>1.000000</td>\n",
       "      <td>1.000000</td>\n",
       "    </tr>\n",
       "    <tr>\n",
       "      <th>max</th>\n",
       "      <td>1.000000</td>\n",
       "      <td>118.750000</td>\n",
       "      <td>8684.800000</td>\n",
       "      <td>1.000000</td>\n",
       "      <td>1.000000</td>\n",
       "      <td>1.000000</td>\n",
       "      <td>1.000000</td>\n",
       "      <td>1.000000</td>\n",
       "      <td>1.000000</td>\n",
       "      <td>1.000000</td>\n",
       "      <td>6.000000</td>\n",
       "      <td>1.000000</td>\n",
       "      <td>1.000000</td>\n",
       "      <td>1.000000</td>\n",
       "      <td>1.000000</td>\n",
       "    </tr>\n",
       "  </tbody>\n",
       "</table>\n",
       "</div>"
      ],
      "text/plain": [
       "       PaperlessBilling  MonthlyCharges  TotalCharges  MultipleLines  \\\n",
       "count       7032.000000     7032.000000   7032.000000    7032.000000   \n",
       "mean           0.592719       64.798208   2283.300441       0.421928   \n",
       "std            0.491363       30.085974   2266.771362       0.493902   \n",
       "min            0.000000       18.250000     18.800000       0.000000   \n",
       "25%            0.000000       35.587500    401.450000       0.000000   \n",
       "50%            1.000000       70.350000   1397.475000       0.000000   \n",
       "75%            1.000000       89.862500   3794.737500       1.000000   \n",
       "max            1.000000      118.750000   8684.800000       1.000000   \n",
       "\n",
       "       OnlineSecurity  OnlineBackup  DeviceProtection  TechSupport  \\\n",
       "count     7032.000000   7032.000000       7032.000000  7032.000000   \n",
       "mean         0.286547      0.344852          0.343857     0.290102   \n",
       "std          0.452180      0.475354          0.475028     0.453842   \n",
       "min          0.000000      0.000000          0.000000     0.000000   \n",
       "25%          0.000000      0.000000          0.000000     0.000000   \n",
       "50%          0.000000      0.000000          0.000000     0.000000   \n",
       "75%          1.000000      1.000000          1.000000     1.000000   \n",
       "max          1.000000      1.000000          1.000000     1.000000   \n",
       "\n",
       "       StreamingTV  StreamingMovies  total_internet_services       gender  \\\n",
       "count  7032.000000      7032.000000              7032.000000  7032.000000   \n",
       "mean      0.384386         0.388367                 2.038111     0.495307   \n",
       "std       0.486484         0.487414                 1.847161     0.500014   \n",
       "min       0.000000         0.000000                 0.000000     0.000000   \n",
       "25%       0.000000         0.000000                 0.000000     0.000000   \n",
       "50%       0.000000         0.000000                 2.000000     0.000000   \n",
       "75%       1.000000         1.000000                 3.000000     1.000000   \n",
       "max       1.000000         1.000000                 6.000000     1.000000   \n",
       "\n",
       "       SeniorCitizen      Partner   Dependents  \n",
       "count    7032.000000  7032.000000  7032.000000  \n",
       "mean        0.162400     0.482509     0.298493  \n",
       "std         0.368844     0.499729     0.457629  \n",
       "min         0.000000     0.000000     0.000000  \n",
       "25%         0.000000     0.000000     0.000000  \n",
       "50%         0.000000     0.000000     0.000000  \n",
       "75%         0.000000     1.000000     1.000000  \n",
       "max         1.000000     1.000000     1.000000  "
      ]
     },
     "execution_count": 34,
     "metadata": {},
     "output_type": "execute_result"
    }
   ],
   "source": [
    "df.describe()"
   ]
  },
  {
   "cell_type": "markdown",
   "metadata": {},
   "source": [
    "***Take Aways:***\n",
    "- Assuming that all customers that are not present in the phone or internet data frames are not using any of these services so the nulls were filled with 0\n",
    "- Approximately 59% of customers use paperless billing.\n",
    "- Approximately 42% of customers use multiple lines.\n",
    "- Approximately 29% of customers use online security.\n",
    "- Approximately 34% of customers use online backup.\n",
    "- Approximately 34% of customers use device protection.\n",
    "- Approximately 29% of customers use tech support.\n",
    "- Approximately 38% of customers use streaming TV.\n",
    "- Approximately 39% of customers use streaming movies.\n",
    "- most customers are using an average of 2 additional internet services"
   ]
  },
  {
   "cell_type": "markdown",
   "metadata": {},
   "source": [
    "## Feature engineering\n",
    "1. length of subscription for customer added below\n",
    "2. number of additional services added above in internet section"
   ]
  },
  {
   "cell_type": "code",
   "execution_count": 35,
   "metadata": {
    "scrolled": true
   },
   "outputs": [
    {
     "data": {
      "text/html": [
       "<div>\n",
       "<style scoped>\n",
       "    .dataframe tbody tr th:only-of-type {\n",
       "        vertical-align: middle;\n",
       "    }\n",
       "\n",
       "    .dataframe tbody tr th {\n",
       "        vertical-align: top;\n",
       "    }\n",
       "\n",
       "    .dataframe thead th {\n",
       "        text-align: right;\n",
       "    }\n",
       "</style>\n",
       "<table border=\"1\" class=\"dataframe\">\n",
       "  <thead>\n",
       "    <tr style=\"text-align: right;\">\n",
       "      <th></th>\n",
       "      <th>PaperlessBilling</th>\n",
       "      <th>MonthlyCharges</th>\n",
       "      <th>TotalCharges</th>\n",
       "      <th>MultipleLines</th>\n",
       "      <th>OnlineSecurity</th>\n",
       "      <th>OnlineBackup</th>\n",
       "      <th>DeviceProtection</th>\n",
       "      <th>TechSupport</th>\n",
       "      <th>StreamingTV</th>\n",
       "      <th>StreamingMovies</th>\n",
       "      <th>total_internet_services</th>\n",
       "      <th>gender</th>\n",
       "      <th>SeniorCitizen</th>\n",
       "      <th>Partner</th>\n",
       "      <th>Dependents</th>\n",
       "    </tr>\n",
       "  </thead>\n",
       "  <tbody>\n",
       "    <tr>\n",
       "      <th>count</th>\n",
       "      <td>7032.000000</td>\n",
       "      <td>7032.000000</td>\n",
       "      <td>7032.000000</td>\n",
       "      <td>7032.000000</td>\n",
       "      <td>7032.000000</td>\n",
       "      <td>7032.000000</td>\n",
       "      <td>7032.000000</td>\n",
       "      <td>7032.000000</td>\n",
       "      <td>7032.000000</td>\n",
       "      <td>7032.000000</td>\n",
       "      <td>7032.000000</td>\n",
       "      <td>7032.000000</td>\n",
       "      <td>7032.000000</td>\n",
       "      <td>7032.000000</td>\n",
       "      <td>7032.000000</td>\n",
       "    </tr>\n",
       "    <tr>\n",
       "      <th>mean</th>\n",
       "      <td>0.592719</td>\n",
       "      <td>64.798208</td>\n",
       "      <td>2283.300441</td>\n",
       "      <td>0.421928</td>\n",
       "      <td>0.286547</td>\n",
       "      <td>0.344852</td>\n",
       "      <td>0.343857</td>\n",
       "      <td>0.290102</td>\n",
       "      <td>0.384386</td>\n",
       "      <td>0.388367</td>\n",
       "      <td>2.038111</td>\n",
       "      <td>0.495307</td>\n",
       "      <td>0.162400</td>\n",
       "      <td>0.482509</td>\n",
       "      <td>0.298493</td>\n",
       "    </tr>\n",
       "    <tr>\n",
       "      <th>std</th>\n",
       "      <td>0.491363</td>\n",
       "      <td>30.085974</td>\n",
       "      <td>2266.771362</td>\n",
       "      <td>0.493902</td>\n",
       "      <td>0.452180</td>\n",
       "      <td>0.475354</td>\n",
       "      <td>0.475028</td>\n",
       "      <td>0.453842</td>\n",
       "      <td>0.486484</td>\n",
       "      <td>0.487414</td>\n",
       "      <td>1.847161</td>\n",
       "      <td>0.500014</td>\n",
       "      <td>0.368844</td>\n",
       "      <td>0.499729</td>\n",
       "      <td>0.457629</td>\n",
       "    </tr>\n",
       "    <tr>\n",
       "      <th>min</th>\n",
       "      <td>0.000000</td>\n",
       "      <td>18.250000</td>\n",
       "      <td>18.800000</td>\n",
       "      <td>0.000000</td>\n",
       "      <td>0.000000</td>\n",
       "      <td>0.000000</td>\n",
       "      <td>0.000000</td>\n",
       "      <td>0.000000</td>\n",
       "      <td>0.000000</td>\n",
       "      <td>0.000000</td>\n",
       "      <td>0.000000</td>\n",
       "      <td>0.000000</td>\n",
       "      <td>0.000000</td>\n",
       "      <td>0.000000</td>\n",
       "      <td>0.000000</td>\n",
       "    </tr>\n",
       "    <tr>\n",
       "      <th>25%</th>\n",
       "      <td>0.000000</td>\n",
       "      <td>35.587500</td>\n",
       "      <td>401.450000</td>\n",
       "      <td>0.000000</td>\n",
       "      <td>0.000000</td>\n",
       "      <td>0.000000</td>\n",
       "      <td>0.000000</td>\n",
       "      <td>0.000000</td>\n",
       "      <td>0.000000</td>\n",
       "      <td>0.000000</td>\n",
       "      <td>0.000000</td>\n",
       "      <td>0.000000</td>\n",
       "      <td>0.000000</td>\n",
       "      <td>0.000000</td>\n",
       "      <td>0.000000</td>\n",
       "    </tr>\n",
       "    <tr>\n",
       "      <th>50%</th>\n",
       "      <td>1.000000</td>\n",
       "      <td>70.350000</td>\n",
       "      <td>1397.475000</td>\n",
       "      <td>0.000000</td>\n",
       "      <td>0.000000</td>\n",
       "      <td>0.000000</td>\n",
       "      <td>0.000000</td>\n",
       "      <td>0.000000</td>\n",
       "      <td>0.000000</td>\n",
       "      <td>0.000000</td>\n",
       "      <td>2.000000</td>\n",
       "      <td>0.000000</td>\n",
       "      <td>0.000000</td>\n",
       "      <td>0.000000</td>\n",
       "      <td>0.000000</td>\n",
       "    </tr>\n",
       "    <tr>\n",
       "      <th>75%</th>\n",
       "      <td>1.000000</td>\n",
       "      <td>89.862500</td>\n",
       "      <td>3794.737500</td>\n",
       "      <td>1.000000</td>\n",
       "      <td>1.000000</td>\n",
       "      <td>1.000000</td>\n",
       "      <td>1.000000</td>\n",
       "      <td>1.000000</td>\n",
       "      <td>1.000000</td>\n",
       "      <td>1.000000</td>\n",
       "      <td>3.000000</td>\n",
       "      <td>1.000000</td>\n",
       "      <td>0.000000</td>\n",
       "      <td>1.000000</td>\n",
       "      <td>1.000000</td>\n",
       "    </tr>\n",
       "    <tr>\n",
       "      <th>max</th>\n",
       "      <td>1.000000</td>\n",
       "      <td>118.750000</td>\n",
       "      <td>8684.800000</td>\n",
       "      <td>1.000000</td>\n",
       "      <td>1.000000</td>\n",
       "      <td>1.000000</td>\n",
       "      <td>1.000000</td>\n",
       "      <td>1.000000</td>\n",
       "      <td>1.000000</td>\n",
       "      <td>1.000000</td>\n",
       "      <td>6.000000</td>\n",
       "      <td>1.000000</td>\n",
       "      <td>1.000000</td>\n",
       "      <td>1.000000</td>\n",
       "      <td>1.000000</td>\n",
       "    </tr>\n",
       "  </tbody>\n",
       "</table>\n",
       "</div>"
      ],
      "text/plain": [
       "       PaperlessBilling  MonthlyCharges  TotalCharges  MultipleLines  \\\n",
       "count       7032.000000     7032.000000   7032.000000    7032.000000   \n",
       "mean           0.592719       64.798208   2283.300441       0.421928   \n",
       "std            0.491363       30.085974   2266.771362       0.493902   \n",
       "min            0.000000       18.250000     18.800000       0.000000   \n",
       "25%            0.000000       35.587500    401.450000       0.000000   \n",
       "50%            1.000000       70.350000   1397.475000       0.000000   \n",
       "75%            1.000000       89.862500   3794.737500       1.000000   \n",
       "max            1.000000      118.750000   8684.800000       1.000000   \n",
       "\n",
       "       OnlineSecurity  OnlineBackup  DeviceProtection  TechSupport  \\\n",
       "count     7032.000000   7032.000000       7032.000000  7032.000000   \n",
       "mean         0.286547      0.344852          0.343857     0.290102   \n",
       "std          0.452180      0.475354          0.475028     0.453842   \n",
       "min          0.000000      0.000000          0.000000     0.000000   \n",
       "25%          0.000000      0.000000          0.000000     0.000000   \n",
       "50%          0.000000      0.000000          0.000000     0.000000   \n",
       "75%          1.000000      1.000000          1.000000     1.000000   \n",
       "max          1.000000      1.000000          1.000000     1.000000   \n",
       "\n",
       "       StreamingTV  StreamingMovies  total_internet_services       gender  \\\n",
       "count  7032.000000      7032.000000              7032.000000  7032.000000   \n",
       "mean      0.384386         0.388367                 2.038111     0.495307   \n",
       "std       0.486484         0.487414                 1.847161     0.500014   \n",
       "min       0.000000         0.000000                 0.000000     0.000000   \n",
       "25%       0.000000         0.000000                 0.000000     0.000000   \n",
       "50%       0.000000         0.000000                 2.000000     0.000000   \n",
       "75%       1.000000         1.000000                 3.000000     1.000000   \n",
       "max       1.000000         1.000000                 6.000000     1.000000   \n",
       "\n",
       "       SeniorCitizen      Partner   Dependents  \n",
       "count    7032.000000  7032.000000  7032.000000  \n",
       "mean        0.162400     0.482509     0.298493  \n",
       "std         0.368844     0.499729     0.457629  \n",
       "min         0.000000     0.000000     0.000000  \n",
       "25%         0.000000     0.000000     0.000000  \n",
       "50%         0.000000     0.000000     0.000000  \n",
       "75%         0.000000     1.000000     1.000000  \n",
       "max         1.000000     1.000000     1.000000  "
      ]
     },
     "execution_count": 35,
     "metadata": {},
     "output_type": "execute_result"
    }
   ],
   "source": [
    "df.describe()"
   ]
  },
  {
   "cell_type": "code",
   "execution_count": 36,
   "metadata": {},
   "outputs": [
    {
     "name": "stdout",
     "output_type": "stream",
     "text": [
      "2314\n"
     ]
    }
   ],
   "source": [
    "# Calculate the maximum subscription length\n",
    "max_subscription = (df['EndDate'].max() - df['BeginDate'].min()).days\n",
    "print(max_subscription)"
   ]
  },
  {
   "cell_type": "code",
   "execution_count": 37,
   "metadata": {},
   "outputs": [
    {
     "data": {
      "text/plain": [
       "Timestamp('2013-10-01 00:00:00')"
      ]
     },
     "execution_count": 37,
     "metadata": {},
     "output_type": "execute_result"
    }
   ],
   "source": [
    "# finding start of data frame date\n",
    "df['BeginDate'].min()"
   ]
  },
  {
   "cell_type": "code",
   "execution_count": 38,
   "metadata": {},
   "outputs": [],
   "source": [
    "# calculating the length of each customers subscriptions\n",
    "df['subscription_length'] = df['EndDate'] - df['BeginDate']\n",
    "\n",
    "# Convert 'subscription_length' from timedelta64[ns] to total days\n",
    "df['subscription_length'] = df['subscription_length'].dt.days"
   ]
  },
  {
   "cell_type": "code",
   "execution_count": 39,
   "metadata": {},
   "outputs": [
    {
     "name": "stdout",
     "output_type": "stream",
     "text": [
      "<class 'pandas.core.frame.DataFrame'>\n",
      "Int64Index: 7032 entries, 0 to 7031\n",
      "Data columns (total 22 columns):\n",
      " #   Column                   Non-Null Count  Dtype         \n",
      "---  ------                   --------------  -----         \n",
      " 0   customerID               7032 non-null   object        \n",
      " 1   BeginDate                7032 non-null   datetime64[ns]\n",
      " 2   EndDate                  7032 non-null   datetime64[ns]\n",
      " 3   Type                     7032 non-null   object        \n",
      " 4   PaperlessBilling         7032 non-null   int64         \n",
      " 5   PaymentMethod            7032 non-null   object        \n",
      " 6   MonthlyCharges           7032 non-null   float64       \n",
      " 7   TotalCharges             7032 non-null   float64       \n",
      " 8   MultipleLines            7032 non-null   float64       \n",
      " 9   InternetService          7032 non-null   object        \n",
      " 10  OnlineSecurity           7032 non-null   float64       \n",
      " 11  OnlineBackup             7032 non-null   float64       \n",
      " 12  DeviceProtection         7032 non-null   float64       \n",
      " 13  TechSupport              7032 non-null   float64       \n",
      " 14  StreamingTV              7032 non-null   float64       \n",
      " 15  StreamingMovies          7032 non-null   float64       \n",
      " 16  total_internet_services  7032 non-null   float64       \n",
      " 17  gender                   7032 non-null   int64         \n",
      " 18  SeniorCitizen            7032 non-null   int64         \n",
      " 19  Partner                  7032 non-null   int64         \n",
      " 20  Dependents               7032 non-null   int64         \n",
      " 21  subscription_length      7032 non-null   int64         \n",
      "dtypes: datetime64[ns](2), float64(10), int64(6), object(4)\n",
      "memory usage: 1.2+ MB\n"
     ]
    }
   ],
   "source": [
    "df.info()"
   ]
  },
  {
   "cell_type": "code",
   "execution_count": 40,
   "metadata": {
    "scrolled": true
   },
   "outputs": [
    {
     "data": {
      "text/html": [
       "<div>\n",
       "<style scoped>\n",
       "    .dataframe tbody tr th:only-of-type {\n",
       "        vertical-align: middle;\n",
       "    }\n",
       "\n",
       "    .dataframe tbody tr th {\n",
       "        vertical-align: top;\n",
       "    }\n",
       "\n",
       "    .dataframe thead th {\n",
       "        text-align: right;\n",
       "    }\n",
       "</style>\n",
       "<table border=\"1\" class=\"dataframe\">\n",
       "  <thead>\n",
       "    <tr style=\"text-align: right;\">\n",
       "      <th></th>\n",
       "      <th>customerID</th>\n",
       "      <th>BeginDate</th>\n",
       "      <th>EndDate</th>\n",
       "      <th>Type</th>\n",
       "      <th>PaperlessBilling</th>\n",
       "      <th>PaymentMethod</th>\n",
       "      <th>MonthlyCharges</th>\n",
       "      <th>TotalCharges</th>\n",
       "      <th>MultipleLines</th>\n",
       "      <th>InternetService</th>\n",
       "      <th>...</th>\n",
       "      <th>DeviceProtection</th>\n",
       "      <th>TechSupport</th>\n",
       "      <th>StreamingTV</th>\n",
       "      <th>StreamingMovies</th>\n",
       "      <th>total_internet_services</th>\n",
       "      <th>gender</th>\n",
       "      <th>SeniorCitizen</th>\n",
       "      <th>Partner</th>\n",
       "      <th>Dependents</th>\n",
       "      <th>subscription_length</th>\n",
       "    </tr>\n",
       "  </thead>\n",
       "  <tbody>\n",
       "    <tr>\n",
       "      <th>0</th>\n",
       "      <td>7590-VHVEG</td>\n",
       "      <td>2020-01-01</td>\n",
       "      <td>2020-02-01</td>\n",
       "      <td>Month-to-month</td>\n",
       "      <td>1</td>\n",
       "      <td>Electronic check</td>\n",
       "      <td>29.85</td>\n",
       "      <td>29.85</td>\n",
       "      <td>0.0</td>\n",
       "      <td>DSL</td>\n",
       "      <td>...</td>\n",
       "      <td>0.0</td>\n",
       "      <td>0.0</td>\n",
       "      <td>0.0</td>\n",
       "      <td>0.0</td>\n",
       "      <td>1.0</td>\n",
       "      <td>1</td>\n",
       "      <td>0</td>\n",
       "      <td>1</td>\n",
       "      <td>0</td>\n",
       "      <td>31</td>\n",
       "    </tr>\n",
       "    <tr>\n",
       "      <th>1</th>\n",
       "      <td>5575-GNVDE</td>\n",
       "      <td>2017-04-01</td>\n",
       "      <td>2020-02-01</td>\n",
       "      <td>One year</td>\n",
       "      <td>0</td>\n",
       "      <td>Mailed check</td>\n",
       "      <td>56.95</td>\n",
       "      <td>1889.50</td>\n",
       "      <td>0.0</td>\n",
       "      <td>DSL</td>\n",
       "      <td>...</td>\n",
       "      <td>1.0</td>\n",
       "      <td>0.0</td>\n",
       "      <td>0.0</td>\n",
       "      <td>0.0</td>\n",
       "      <td>2.0</td>\n",
       "      <td>0</td>\n",
       "      <td>0</td>\n",
       "      <td>0</td>\n",
       "      <td>0</td>\n",
       "      <td>1036</td>\n",
       "    </tr>\n",
       "    <tr>\n",
       "      <th>2</th>\n",
       "      <td>3668-QPYBK</td>\n",
       "      <td>2019-10-01</td>\n",
       "      <td>2019-12-01</td>\n",
       "      <td>Month-to-month</td>\n",
       "      <td>1</td>\n",
       "      <td>Mailed check</td>\n",
       "      <td>53.85</td>\n",
       "      <td>108.15</td>\n",
       "      <td>0.0</td>\n",
       "      <td>DSL</td>\n",
       "      <td>...</td>\n",
       "      <td>0.0</td>\n",
       "      <td>0.0</td>\n",
       "      <td>0.0</td>\n",
       "      <td>0.0</td>\n",
       "      <td>2.0</td>\n",
       "      <td>0</td>\n",
       "      <td>0</td>\n",
       "      <td>0</td>\n",
       "      <td>0</td>\n",
       "      <td>61</td>\n",
       "    </tr>\n",
       "    <tr>\n",
       "      <th>3</th>\n",
       "      <td>7795-CFOCW</td>\n",
       "      <td>2016-05-01</td>\n",
       "      <td>2020-02-01</td>\n",
       "      <td>One year</td>\n",
       "      <td>0</td>\n",
       "      <td>Bank transfer (automatic)</td>\n",
       "      <td>42.30</td>\n",
       "      <td>1840.75</td>\n",
       "      <td>0.0</td>\n",
       "      <td>DSL</td>\n",
       "      <td>...</td>\n",
       "      <td>1.0</td>\n",
       "      <td>1.0</td>\n",
       "      <td>0.0</td>\n",
       "      <td>0.0</td>\n",
       "      <td>3.0</td>\n",
       "      <td>0</td>\n",
       "      <td>0</td>\n",
       "      <td>0</td>\n",
       "      <td>0</td>\n",
       "      <td>1371</td>\n",
       "    </tr>\n",
       "    <tr>\n",
       "      <th>4</th>\n",
       "      <td>9237-HQITU</td>\n",
       "      <td>2019-09-01</td>\n",
       "      <td>2019-11-01</td>\n",
       "      <td>Month-to-month</td>\n",
       "      <td>1</td>\n",
       "      <td>Electronic check</td>\n",
       "      <td>70.70</td>\n",
       "      <td>151.65</td>\n",
       "      <td>0.0</td>\n",
       "      <td>Fiber optic</td>\n",
       "      <td>...</td>\n",
       "      <td>0.0</td>\n",
       "      <td>0.0</td>\n",
       "      <td>0.0</td>\n",
       "      <td>0.0</td>\n",
       "      <td>0.0</td>\n",
       "      <td>1</td>\n",
       "      <td>0</td>\n",
       "      <td>0</td>\n",
       "      <td>0</td>\n",
       "      <td>61</td>\n",
       "    </tr>\n",
       "  </tbody>\n",
       "</table>\n",
       "<p>5 rows × 22 columns</p>\n",
       "</div>"
      ],
      "text/plain": [
       "   customerID  BeginDate    EndDate            Type  PaperlessBilling  \\\n",
       "0  7590-VHVEG 2020-01-01 2020-02-01  Month-to-month                 1   \n",
       "1  5575-GNVDE 2017-04-01 2020-02-01        One year                 0   \n",
       "2  3668-QPYBK 2019-10-01 2019-12-01  Month-to-month                 1   \n",
       "3  7795-CFOCW 2016-05-01 2020-02-01        One year                 0   \n",
       "4  9237-HQITU 2019-09-01 2019-11-01  Month-to-month                 1   \n",
       "\n",
       "               PaymentMethod  MonthlyCharges  TotalCharges  MultipleLines  \\\n",
       "0           Electronic check           29.85         29.85            0.0   \n",
       "1               Mailed check           56.95       1889.50            0.0   \n",
       "2               Mailed check           53.85        108.15            0.0   \n",
       "3  Bank transfer (automatic)           42.30       1840.75            0.0   \n",
       "4           Electronic check           70.70        151.65            0.0   \n",
       "\n",
       "  InternetService  ...  DeviceProtection  TechSupport  StreamingTV  \\\n",
       "0             DSL  ...               0.0          0.0          0.0   \n",
       "1             DSL  ...               1.0          0.0          0.0   \n",
       "2             DSL  ...               0.0          0.0          0.0   \n",
       "3             DSL  ...               1.0          1.0          0.0   \n",
       "4     Fiber optic  ...               0.0          0.0          0.0   \n",
       "\n",
       "   StreamingMovies  total_internet_services  gender  SeniorCitizen  Partner  \\\n",
       "0              0.0                      1.0       1              0        1   \n",
       "1              0.0                      2.0       0              0        0   \n",
       "2              0.0                      2.0       0              0        0   \n",
       "3              0.0                      3.0       0              0        0   \n",
       "4              0.0                      0.0       1              0        0   \n",
       "\n",
       "   Dependents  subscription_length  \n",
       "0           0                   31  \n",
       "1           0                 1036  \n",
       "2           0                   61  \n",
       "3           0                 1371  \n",
       "4           0                   61  \n",
       "\n",
       "[5 rows x 22 columns]"
      ]
     },
     "execution_count": 40,
     "metadata": {},
     "output_type": "execute_result"
    }
   ],
   "source": [
    "df.head()"
   ]
  },
  {
   "cell_type": "markdown",
   "metadata": {},
   "source": [
    "***Full df take away:***\n",
    "- Since there are the same number of rows in the combined data the contact df contains the full list of customer IDs and there is no worry that there are extras in any of the other dfs."
   ]
  },
  {
   "cell_type": "markdown",
   "metadata": {},
   "source": [
    "## EDA\n",
    "- Visualizing the data distributions and any intial trends that need to be kept in mind before modeling\n",
    "    "
   ]
  },
  {
   "cell_type": "markdown",
   "metadata": {},
   "source": [
    "### Distribution of Monthly Charges\n",
    "In the graph below, there are a large number of clients that are paying a very small amount (around `$20`) most likely on the minimal plan with the least amount of additional services. Then the second broader distribution (centered around `$70–$100`) reflects customers with more services or premium plans."
   ]
  },
  {
   "cell_type": "code",
   "execution_count": 41,
   "metadata": {
    "scrolled": true
   },
   "outputs": [
    {
     "data": {
      "image/png": "[encoded data removed]",
      "text/plain": [
       "<Figure size 1000x600 with 1 Axes>"
      ]
     },
     "metadata": {},
     "output_type": "display_data"
    }
   ],
   "source": [
    "# Plotting distributions for numerical columns\n",
    "plt.figure(figsize=(10, 6))\n",
    "sns.histplot(df['MonthlyCharges'], kde=True, bins=30)\n",
    "plt.title('Distribution of Monthly Charges')\n",
    "plt.xlabel('Monthly Charges')\n",
    "plt.ylabel('Frequency')\n",
    "plt.show()"
   ]
  },
  {
   "cell_type": "markdown",
   "metadata": {},
   "source": [
    "### Total Charge Distribution\n",
    "In the plot below, the data is positively (right) skewed with a large amount of low total charge customers who are most likely newer customers and then a long tail of customers that have accumulated a larger amount of charges. This shows that a majority of the customers are chruning and the interest is in figuring out what services the long term customers are using and why the short term customers aren't sticking with the company."
   ]
  },
  {
   "cell_type": "code",
   "execution_count": 42,
   "metadata": {
    "scrolled": true
   },
   "outputs": [
    {
     "data": {
      "image/png": "[encoded data removed]",
      "text/plain": [
       "<Figure size 1000x600 with 1 Axes>"
      ]
     },
     "metadata": {},
     "output_type": "display_data"
    }
   ],
   "source": [
    "plt.figure(figsize=(10, 6))\n",
    "sns.histplot(df['TotalCharges'], kde=True, bins=30)\n",
    "plt.title('Distribution of Total Charges')\n",
    "plt.xlabel('Total Charges')\n",
    "plt.ylabel('Frequency')\n",
    "plt.show()"
   ]
  },
  {
   "cell_type": "markdown",
   "metadata": {},
   "source": [
    "### Payment Type Distribution\n",
    "The graph below shows that more than half the customers (55%)are on a month to month plan and a similar amount of customers are split between the one year (21%) and two year plans (24%). "
   ]
  },
  {
   "cell_type": "code",
   "execution_count": 43,
   "metadata": {
    "scrolled": false
   },
   "outputs": [
    {
     "data": {
      "image/png": "[encoded data removed]",
      "text/plain": [
       "<Figure size 1000x600 with 1 Axes>"
      ]
     },
     "metadata": {},
     "output_type": "display_data"
    }
   ],
   "source": [
    "#plot of payment types\n",
    "plt.figure(figsize=(10, 6))\n",
    "ax = sns.countplot(x='Type', data=df)\n",
    "plt.title('Distribution of Payment Type')\n",
    "plt.xlabel('Payment Plan')\n",
    "plt.ylabel('Count')\n",
    "\n",
    "#percentages on top of bars\n",
    "total = len(df)\n",
    "for p in ax.patches:\n",
    "    count = p.get_height()\n",
    "    percentage = f'{100 * count / total:.1f}%'\n",
    "    x = p.get_x() + p.get_width() / 2\n",
    "    y = p.get_height()\n",
    "    ax.annotate(percentage, (x, y), ha='center', va='bottom')\n",
    "\n",
    "plt.show()"
   ]
  },
  {
   "cell_type": "markdown",
   "metadata": {},
   "source": [
    "### Paperless Billing\n",
    "60% of the customers are using paperless billing and the other 40% are not."
   ]
  },
  {
   "cell_type": "code",
   "execution_count": 44,
   "metadata": {},
   "outputs": [
    {
     "data": {
      "image/png": "[encoded data removed]",
      "text/plain": [
       "<Figure size 1000x600 with 1 Axes>"
      ]
     },
     "metadata": {},
     "output_type": "display_data"
    }
   ],
   "source": [
    "# plot of paperless vs paper billing\n",
    "plt.figure(figsize=(10, 6))\n",
    "ax = sns.countplot(x='PaperlessBilling', data=df)\n",
    "plt.title('Paperless Billing Usage')\n",
    "plt.xlabel('Paperless Billing')\n",
    "plt.ylabel('Count')\n",
    "\n",
    "# Set custom tick labels (0 -> No, 1 -> Yes)\n",
    "ax.set_xticklabels(['No', 'Yes'])\n",
    "\n",
    "# Add percentages on top of each bar\n",
    "total = len(df)\n",
    "for p in ax.patches:\n",
    "    count = p.get_height()\n",
    "    percentage = f'{100 * count / total:.1f}%'\n",
    "    x = p.get_x() + p.get_width() / 2\n",
    "    y = p.get_height()\n",
    "    ax.annotate(percentage, (x, y), ha='center', va='bottom')\n",
    "\n",
    "plt.show()"
   ]
  },
  {
   "cell_type": "markdown",
   "metadata": {},
   "source": [
    "### Correlation Matrix of 'Monthly Charges', 'Total Charges', 'Subscription Length', and 'Total number of Additional Internet Services'\n",
    "The matrix below helps clarify some of the data that was graphed above. There is a strong correlation that customers that have the longer subscription length have more total charges confirming that the assumption above that there are a smaller group of loyal customers that are sticking with the company a long time and paying a larger amount of charges to the company. Additionally there is a strong correlation that the customers that are using more internet services are also paying more monthly and paying more charges to the company however there not all long term customers are using a lot of additional services."
   ]
  },
  {
   "cell_type": "code",
   "execution_count": 45,
   "metadata": {
    "scrolled": true
   },
   "outputs": [
    {
     "data": {
      "image/png": "[encoded data removed]",
      "text/plain": [
       "<Figure size 640x480 with 2 Axes>"
      ]
     },
     "metadata": {},
     "output_type": "display_data"
    }
   ],
   "source": [
    "# Correlation matrix for numerical columns\n",
    "correlation_matrix = df[['MonthlyCharges', 'TotalCharges', 'subscription_length', 'total_internet_services']].corr()\n",
    "sns.heatmap(correlation_matrix, annot=True, cmap='coolwarm')\n",
    "plt.title('Correlation Matrix')\n",
    "plt.show()"
   ]
  },
  {
   "cell_type": "markdown",
   "metadata": {},
   "source": [
    "### Churn by Year\n",
    "\n",
    "***Graph 3.6.1 shows:***\n",
    "- 2013 shows 100% churn\n",
    "- More recent years (2014–2020) show lower churn rates, which is expected — especially since some users from recent years might still be active.\n",
    "- The trend generally increases over time from 2014 to 2020, which may indicate increasing churn among newer cohorts \n",
    "\n",
    "***Graph 3.6.2 shows:***\n",
    "- There are barely any customers that have data in the df for 2013 and these customers should be excluded\n",
    "- additionally their are only customers for 2 months of 2020 and these shoudl be excluded also\n",
    "- Data from 2014 to 2019 show full years of data"
   ]
  },
  {
   "cell_type": "markdown",
   "metadata": {},
   "source": [
    "#### Churn rate by year"
   ]
  },
  {
   "cell_type": "code",
   "execution_count": 46,
   "metadata": {
    "scrolled": true
   },
   "outputs": [
    {
     "data": {
      "image/png": "[encoded data removed]",
      "text/plain": [
       "<Figure size 1000x600 with 1 Axes>"
      ]
     },
     "metadata": {},
     "output_type": "display_data"
    }
   ],
   "source": [
    "# Define your \"today\" date \n",
    "analysis_date = pd.to_datetime(\"2020-02-01\")\n",
    "\n",
    "# Extract BeginYear\n",
    "df['BeginYear'] = df['BeginDate'].dt.year\n",
    "\n",
    "# Churned = 1 if EndDate exists and is before the analysis date, else 0\n",
    "df['Churned'] = (df['EndDate'].notnull()) & (df['EndDate'] < analysis_date)\n",
    "df['Churned'] = df['Churned'].astype(int)\n",
    "\n",
    "# Group by BeginYear and calculate churn rate\n",
    "churn_by_year = df.groupby('BeginYear')['Churned'].agg(['sum', 'count'])\n",
    "churn_by_year['ChurnRate'] = churn_by_year['sum'] / churn_by_year['count']\n",
    "\n",
    "# Plot churn rate\n",
    "plt.figure(figsize=(10, 6))\n",
    "sns.barplot(x=churn_by_year.index, y='ChurnRate', data=churn_by_year.reset_index())\n",
    "plt.title('Churn Rate by Subscription Start Year')\n",
    "plt.xlabel('Subscription Start Year')\n",
    "plt.ylabel('Churn Rate')\n",
    "plt.ylim(0, 1)\n",
    "plt.show()"
   ]
  },
  {
   "cell_type": "markdown",
   "metadata": {},
   "source": [
    "#### Number of Customers by Supscription Start Year"
   ]
  },
  {
   "cell_type": "code",
   "execution_count": 47,
   "metadata": {},
   "outputs": [
    {
     "data": {
      "image/png": "[encoded data removed]",
      "text/plain": [
       "<Figure size 1000x600 with 1 Axes>"
      ]
     },
     "metadata": {},
     "output_type": "display_data"
    }
   ],
   "source": [
    "# Plot the distribution of start years\n",
    "plt.figure(figsize=(10, 6))\n",
    "sns.countplot(x='BeginYear', data=df, palette='viridis')\n",
    "plt.title('Number of Customers by Subscription Start Year')\n",
    "plt.xlabel('Subscription Start Year')\n",
    "plt.ylabel('Number of Customers')\n",
    "plt.show()"
   ]
  },
  {
   "cell_type": "code",
   "execution_count": 48,
   "metadata": {},
   "outputs": [],
   "source": [
    "# Taking out data from 2013 begin Date\n",
    "df = df[df['BeginDate'].dt.year > 2013]\n",
    "\n",
    "# Taking out data from 2020\n",
    "df = df[df['BeginDate'].dt.year != 2020]"
   ]
  },
  {
   "cell_type": "markdown",
   "metadata": {},
   "source": [
    "### Monthly & Total Charges and Payment Plan\n",
    "\n",
    "***Monthly Charges:***\n",
    "- **Month-to-month** users tend to pay higher monthly charges (median around `$70–$80`).\n",
    "- **One year** and **two year** customers tend to have lower or similar monthly charges, especially **two-year** customers (median closer to `$65`).\n",
    "- The spread of charges is similar, but **month-to-month** customers show slightly more variability.\n",
    "\n",
    "***Total Charges:***\n",
    "- **Two-year** customers have the **highest total charges** (median `$3500+`), which makes sense—they stay longer.\n",
    "- **Month-to-month** users have the **lowest total charges**, with many outliers.\n",
    "- **One-year** customers fall somewhere in between.\n",
    "\n",
    "***Take Away:***\n",
    "- the company should give promotion to get customers on the 1 or 2 year payment plans"
   ]
  },
  {
   "cell_type": "code",
   "execution_count": 49,
   "metadata": {
    "scrolled": true
   },
   "outputs": [
    {
     "data": {
      "image/png": "[encoded data removed]",
      "text/plain": [
       "<Figure size 640x480 with 1 Axes>"
      ]
     },
     "metadata": {},
     "output_type": "display_data"
    },
    {
     "data": {
      "image/png": "[encoded data removed]",
      "text/plain": [
       "<Figure size 640x480 with 1 Axes>"
      ]
     },
     "metadata": {},
     "output_type": "display_data"
    }
   ],
   "source": [
    "# Comparing `MonthlyCharges` based on `Type`\n",
    "sns.boxplot(x='Type', y='MonthlyCharges', data=df)\n",
    "plt.title('Monthly Charges by Service Type')\n",
    "plt.show()\n",
    "\n",
    "# Comparing `TotalCharges` based on `Type`\n",
    "sns.boxplot(x='Type', y='TotalCharges', data=df)\n",
    "plt.title('Total Charges by Service Type')\n",
    "plt.show()"
   ]
  },
  {
   "cell_type": "markdown",
   "metadata": {},
   "source": [
    "### Payment Method & Plan by Subscription Length\n",
    "Based on the first graph below, the automatic payment methods correlate to customers that have a higher subscription length as compared to the the mailed in or electronic checks that aren't automatic."
   ]
  },
  {
   "cell_type": "code",
   "execution_count": 50,
   "metadata": {
    "scrolled": true
   },
   "outputs": [
    {
     "data": {
      "image/png": "[encoded data removed]",
      "text/plain": [
       "<Figure size 640x480 with 1 Axes>"
      ]
     },
     "metadata": {},
     "output_type": "display_data"
    }
   ],
   "source": [
    "# Plotting subscription length by Payment Method\n",
    "sns.boxplot(x='PaymentMethod', y='subscription_length', data=df)\n",
    "\n",
    "# Adjust the x-axis labels for better space and readability\n",
    "plt.title('Subscription Length by Payment Method')\n",
    "plt.xticks(rotation=45, ha='right')  # Rotate labels and align them to the right\n",
    "plt.tight_layout()  # Adjust layout to prevent clipping of labels\n",
    "plt.show()"
   ]
  },
  {
   "cell_type": "code",
   "execution_count": 51,
   "metadata": {
    "scrolled": true
   },
   "outputs": [
    {
     "data": {
      "image/png": "[encoded data removed]",
      "text/plain": [
       "<Figure size 1200x600 with 1 Axes>"
      ]
     },
     "metadata": {},
     "output_type": "display_data"
    }
   ],
   "source": [
    "plt.figure(figsize=(12, 6))\n",
    "\n",
    "# Define a custom palette mapping each contract type to a color\n",
    "custom_palette = {\n",
    "    'Month-to-month': '#9467bd',   # purple\n",
    "    'One year': '#17becf',         # teal\n",
    "    'Two year': '#ff6f61'          # coral\n",
    "}\n",
    "\n",
    "sns.boxplot(\n",
    "    x='PaymentMethod',\n",
    "    y='subscription_length',\n",
    "    hue='Type',\n",
    "    data=df,\n",
    "    palette=custom_palette\n",
    ")\n",
    "\n",
    "plt.title('Subscription Length by Payment Method and Contract Type')\n",
    "plt.xticks(rotation=45, ha='right')\n",
    "plt.legend(title='Contract Type', bbox_to_anchor=(1.05, 1), loc='upper left')\n",
    "plt.tight_layout()\n",
    "plt.show()"
   ]
  },
  {
   "cell_type": "markdown",
   "metadata": {},
   "source": [
    "***Key Takeaways***\n",
    "\n",
    "**Two-year contracts** (coral):\n",
    "- Consistently have the **longest subscription lengths** across all payment methods.\n",
    "- Very little variability; most customers stay for the full duration.\n",
    "\n",
    "**One-year contracts** (teal):\n",
    "- Show **moderate subscription lengths**.\n",
    "- Slightly more variability than two-year plans but still fairly consistent.\n",
    "\n",
    "**Month-to-month contracts** (purple):\n",
    "- Display the **shortest and most varied** subscription lengths.\n",
    "- Many customers churn early, especially those using **Electronic check**.\n",
    "\n",
    "---\n",
    "\n",
    "***Payment Method Insights***\n",
    "- **Bank transfer (automatic)** and **Credit card (automatic)** users tend to **stay longer overall**, especially with longer contracts.\n",
    "- **Electronic check** users have more churn and **shorter subscription durations**, especially for month-to-month plans.\n",
    "- **Mailed check** users also show shorter durations, but have **fewer data points**.\n"
   ]
  },
  {
   "cell_type": "markdown",
   "metadata": {},
   "source": [
    "### Senior Citizen Distribution\n",
    "Senior citizens account for 16% of the customers and have a normal ratio compared to none senior citizens for each start year."
   ]
  },
  {
   "cell_type": "code",
   "execution_count": 52,
   "metadata": {
    "scrolled": true
   },
   "outputs": [
    {
     "data": {
      "image/png": "[encoded data removed]",
      "text/plain": [
       "<Figure size 1000x600 with 1 Axes>"
      ]
     },
     "metadata": {},
     "output_type": "display_data"
    }
   ],
   "source": [
    "plt.figure(figsize=(10, 6))\n",
    "ax = sns.countplot(x='SeniorCitizen', data=df)\n",
    "plt.title('Distribution of SeniorCitizen')\n",
    "plt.xlabel('SeniorCitizen')\n",
    "plt.ylabel('Count')\n",
    "\n",
    "# Set custom tick labels (0 -> No, 1 -> Yes)\n",
    "ax.set_xticklabels(['No', 'Yes'])\n",
    "\n",
    "#percentages on top of bars\n",
    "total = len(df)\n",
    "for p in ax.patches:\n",
    "    count = p.get_height()\n",
    "    percentage = f'{100 * count / total:.1f}%'\n",
    "    x = p.get_x() + p.get_width() / 2\n",
    "    y = p.get_height()\n",
    "    ax.annotate(percentage, (x, y), ha='center', va='bottom')\n",
    "\n",
    "plt.show()"
   ]
  },
  {
   "cell_type": "code",
   "execution_count": 53,
   "metadata": {},
   "outputs": [
    {
     "data": {
      "image/png": "[encoded data removed]",
      "text/plain": [
       "<Figure size 1200x600 with 1 Axes>"
      ]
     },
     "metadata": {},
     "output_type": "display_data"
    }
   ],
   "source": [
    "# Plot the distribution of SeniorCitizen by Year\n",
    "plt.figure(figsize=(12, 6))\n",
    "ax = sns.countplot(x='BeginYear', hue='SeniorCitizen', data=df, hue_order=[0, 1])\n",
    "\n",
    "# Set the title and labels\n",
    "plt.title('Distribution of SeniorCitizen by Year')\n",
    "plt.xlabel('Year')\n",
    "plt.ylabel('Count')\n",
    "\n",
    "# Set custom legend labels (0 -> No, 1 -> Yes)\n",
    "handles, labels = ax.get_legend_handles_labels()\n",
    "ax.legend(handles, ['No', 'Yes'], title='SeniorCitizen')\n",
    "\n",
    "plt.show()"
   ]
  },
  {
   "cell_type": "markdown",
   "metadata": {},
   "source": [
    "## Modeling"
   ]
  },
  {
   "cell_type": "code",
   "execution_count": 54,
   "metadata": {},
   "outputs": [
    {
     "name": "stdout",
     "output_type": "stream",
     "text": [
      "AUC-ROC: 0.9347\n",
      "\n",
      "Classification Report (default threshold):\n",
      "              precision    recall  f1-score   support\n",
      "\n",
      "           0       0.90      0.97      0.93      1017\n",
      "           1       0.90      0.66      0.76       342\n",
      "\n",
      "    accuracy                           0.90      1359\n",
      "   macro avg       0.90      0.82      0.85      1359\n",
      "weighted avg       0.90      0.90      0.89      1359\n",
      "\n",
      "Confusion Matrix:\n",
      "[[991  26]\n",
      " [116 226]]\n",
      "Accuracy: 0.8955\n",
      "\n",
      "Classification Report (custom threshold = 0.35):\n",
      "              precision    recall  f1-score   support\n",
      "\n",
      "           0       0.93      0.90      0.91      1017\n",
      "           1       0.72      0.80      0.76       342\n",
      "\n",
      "    accuracy                           0.87      1359\n",
      "   macro avg       0.83      0.85      0.83      1359\n",
      "weighted avg       0.88      0.87      0.87      1359\n",
      "\n"
     ]
    },
    {
     "data": {
      "image/png": "[encoded data removed]",
      "text/plain": [
       "<Figure size 800x600 with 1 Axes>"
      ]
     },
     "metadata": {},
     "output_type": "display_data"
    },
    {
     "data": {
      "image/png": "[encoded data removed]",
      "text/plain": [
       "<Figure size 1000x600 with 1 Axes>"
      ]
     },
     "metadata": {},
     "output_type": "display_data"
    },
    {
     "name": "stdout",
     "output_type": "stream",
     "text": [
      "\n",
      "Baseline Logistic Regression AUC-ROC: 0.8568\n"
     ]
    }
   ],
   "source": [
    "# Data Preparation\n",
    "# -------------------------------\n",
    "# One-hot encode categorical features\n",
    "df = pd.get_dummies(df, columns=['Type', 'PaymentMethod', 'InternetService'], drop_first=True)\n",
    "\n",
    "# Define features and target\n",
    "features = df.drop(columns=['customerID', 'Churned', 'BeginDate', 'EndDate'])\n",
    "target = df['Churned']\n",
    "\n",
    "# Split data into training and testing sets\n",
    "features_train, features_test, target_train, target_test = train_test_split(\n",
    "    features, target, test_size=0.2, random_state=42\n",
    ")\n",
    "\n",
    "\n",
    "# Gradient Boosting Model\n",
    "gb_model = GradientBoostingClassifier(n_estimators=100, random_state=42)\n",
    "gb_model.fit(features_train, target_train)\n",
    "\n",
    "# Predict probabilities for AUC-ROC and threshold tuning\n",
    "target_prob = gb_model.predict_proba(features_test)[:, 1]\n",
    "target_pred = gb_model.predict(features_test)\n",
    "\n",
    "\n",
    "# Evaluation Metrics\n",
    "# -------------------------------\n",
    "# AUC-ROC Score\n",
    "roc_auc = roc_auc_score(target_test, target_prob)\n",
    "print(f\"AUC-ROC: {roc_auc:.4f}\")\n",
    "\n",
    "# Classification Report & Confusion Matrix\n",
    "print(\"\\nClassification Report (default threshold):\")\n",
    "print(classification_report(target_test, target_pred))\n",
    "print(\"Confusion Matrix:\")\n",
    "print(confusion_matrix(target_test, target_pred))\n",
    "\n",
    "# Accuracy\n",
    "accuracy = accuracy_score(target_test, target_pred)\n",
    "print(f\"Accuracy: {accuracy:.4f}\")\n",
    "\n",
    "\n",
    "# Threshold Tuning\n",
    "custom_threshold = 0.35\n",
    "target_pred_custom = (target_prob >= custom_threshold).astype(int)\n",
    "\n",
    "print(\"\\nClassification Report (custom threshold = 0.35):\")\n",
    "print(classification_report(target_test, target_pred_custom))\n",
    "\n",
    "\n",
    "# ROC Curve Plot\n",
    "fpr, tpr, thresholds = roc_curve(target_test, target_prob)\n",
    "\n",
    "plt.figure(figsize=(8, 6))\n",
    "plt.plot(fpr, tpr, color='blue', lw=2, label=f'ROC curve (AUC = {roc_auc:.4f})')\n",
    "plt.plot([0, 1], [0, 1], color='gray', linestyle='--')\n",
    "plt.xlabel('False Positive Rate')\n",
    "plt.ylabel('True Positive Rate')\n",
    "plt.title('Receiver Operating Characteristic (ROC) Curve')\n",
    "plt.legend(loc='lower right')\n",
    "plt.tight_layout()\n",
    "plt.show()\n",
    "\n",
    "\n",
    "# Feature Importance Plot\n",
    "importances = gb_model.feature_importances_\n",
    "feature_df = pd.DataFrame({\n",
    "    'Feature': features.columns,\n",
    "    'Importance': importances\n",
    "}).sort_values(by='Importance', ascending=False)\n",
    "\n",
    "plt.figure(figsize=(10, 6))\n",
    "sns.barplot(x='Importance', y='Feature', data=feature_df.head(15))\n",
    "plt.title('Top 15 Feature Importances - Gradient Boosting')\n",
    "plt.xlabel('Importance')\n",
    "plt.ylabel('Feature')\n",
    "plt.tight_layout()\n",
    "plt.show()\n",
    "\n",
    "\n",
    "# Baseline Model (Logistic Regression)\n",
    "lr_model = LogisticRegression(max_iter=1000, random_state=42)\n",
    "lr_model.fit(features_train, target_train)\n",
    "lr_prob = lr_model.predict_proba(features_test)[:, 1]\n",
    "lr_auc = roc_auc_score(target_test, lr_prob)\n",
    "\n",
    "print(f\"\\nBaseline Logistic Regression AUC-ROC: {lr_auc:.4f}\")\n"
   ]
  },
  {
   "cell_type": "markdown",
   "metadata": {},
   "source": [
    "## Conclusion:\n",
    "\n",
    "\n",
    "The Gradient Boosting Classifier achieved strong performance in predicting customer churn, with an **AUC-ROC score of 0.9347**, indicating excellent class separation capability.\n",
    "\n",
    "At the **default classification threshold (0.5)**, the model attained an **accuracy of 89.55%**. For non-churned customers, precision and recall were high (**0.90** and **0.97**, respectively), resulting in a strong **F1-score of 0.93**. However, for churned customers, while precision remained high (**0.90**), the **recall was lower at 0.66**, indicating that a significant portion of actual churn cases were missed.\n",
    "\n",
    "To address this imbalance, a **custom threshold of 0.35** was applied. This adjustment increased the **recall for churned customers to 0.80**, making the model more effective at identifying potential churners. While this change slightly reduced overall accuracy to **87.0%**, it provided a more balanced view of performance, with an improved **macro average recall (0.85)** and **F1-score (0.83)**.\n",
    "\n",
    "The **confusion matrix** confirmed this trade-off, reducing false negatives from **116 to 68**, which is critical in churn management contexts.\n",
    "\n",
    "Feature importance analysis revealed that **subscription length** was the most significant predictor of churn, far surpassing other features. Other important factors included **fiber optic internet service**, **electronic check payment method**, **contract type**, and **monthly charges** — offering actionable insights for targeted retention strategies.\n",
    "\n",
    "In comparison, a baseline Logistic Regression model achieved a lower AUC-ROC of approximately **0.87**, reinforcing the effectiveness of Gradient Boosting for this task.\n",
    "\n",
    "Overall, the Gradient Boosting Classifier offers a reliable and interpretable solution for churn prediction, especially when optimizing for recall in identifying at-risk customers.\n",
    "\n"
   ]
  }
 ],
 "metadata": {
  "ExecuteTimeLog": [
   {
    "duration": 165,
    "start_time": "2025-03-27T17:11:36.541Z"
   },
   {
    "duration": 322,
    "start_time": "2025-03-27T17:12:05.897Z"
   },
   {
    "duration": 45,
    "start_time": "2025-03-27T17:12:06.888Z"
   },
   {
    "duration": 68,
    "start_time": "2025-03-27T17:12:25.874Z"
   },
   {
    "duration": 12,
    "start_time": "2025-03-27T17:12:41.549Z"
   },
   {
    "duration": 7,
    "start_time": "2025-03-27T17:16:27.482Z"
   },
   {
    "duration": 8,
    "start_time": "2025-03-27T17:17:15.978Z"
   },
   {
    "duration": 6,
    "start_time": "2025-03-27T17:17:50.236Z"
   },
   {
    "duration": 8,
    "start_time": "2025-03-27T17:39:49.047Z"
   },
   {
    "duration": 10,
    "start_time": "2025-03-27T17:49:10.647Z"
   },
   {
    "duration": 16,
    "start_time": "2025-03-27T17:50:43.961Z"
   },
   {
    "duration": 19,
    "start_time": "2025-03-27T17:50:58.614Z"
   },
   {
    "duration": 11,
    "start_time": "2025-03-27T17:55:55.773Z"
   },
   {
    "duration": 16,
    "start_time": "2025-03-27T17:57:09.639Z"
   },
   {
    "duration": 13,
    "start_time": "2025-03-27T17:57:27.694Z"
   },
   {
    "duration": 15,
    "start_time": "2025-03-27T18:22:45.574Z"
   },
   {
    "duration": 15,
    "start_time": "2025-03-27T19:06:30.368Z"
   },
   {
    "duration": 10,
    "start_time": "2025-03-27T19:06:35.903Z"
   },
   {
    "duration": 9,
    "start_time": "2025-03-27T19:06:40.536Z"
   },
   {
    "duration": 4,
    "start_time": "2025-03-27T19:06:53.578Z"
   },
   {
    "duration": 5,
    "start_time": "2025-03-27T19:07:23.763Z"
   },
   {
    "duration": 5,
    "start_time": "2025-03-27T19:07:28.110Z"
   },
   {
    "duration": 5,
    "start_time": "2025-03-27T19:07:40.747Z"
   },
   {
    "duration": 5,
    "start_time": "2025-03-27T19:07:45.304Z"
   },
   {
    "duration": 5,
    "start_time": "2025-03-27T19:07:48.783Z"
   },
   {
    "duration": 16,
    "start_time": "2025-03-27T19:11:06.698Z"
   },
   {
    "duration": 12,
    "start_time": "2025-03-27T19:11:18.658Z"
   },
   {
    "duration": 9,
    "start_time": "2025-03-27T19:11:24.518Z"
   },
   {
    "duration": 12,
    "start_time": "2025-03-27T19:14:52.027Z"
   },
   {
    "duration": 14,
    "start_time": "2025-03-27T19:15:02.579Z"
   },
   {
    "duration": 5,
    "start_time": "2025-03-27T19:15:07.462Z"
   },
   {
    "duration": 3,
    "start_time": "2025-03-27T19:17:54.936Z"
   },
   {
    "duration": 11,
    "start_time": "2025-03-27T19:18:01.771Z"
   },
   {
    "duration": 159,
    "start_time": "2025-04-05T06:34:56.435Z"
   },
   {
    "duration": 312,
    "start_time": "2025-04-05T06:35:01.938Z"
   },
   {
    "duration": 430,
    "start_time": "2025-04-05T06:35:02.253Z"
   },
   {
    "duration": 0,
    "start_time": "2025-04-05T06:35:02.685Z"
   },
   {
    "duration": 0,
    "start_time": "2025-04-05T06:35:02.686Z"
   },
   {
    "duration": 0,
    "start_time": "2025-04-05T06:35:02.687Z"
   },
   {
    "duration": 1,
    "start_time": "2025-04-05T06:35:02.688Z"
   },
   {
    "duration": 0,
    "start_time": "2025-04-05T06:35:02.690Z"
   },
   {
    "duration": 0,
    "start_time": "2025-04-05T06:35:02.691Z"
   },
   {
    "duration": 0,
    "start_time": "2025-04-05T06:35:02.693Z"
   },
   {
    "duration": 3,
    "start_time": "2025-04-05T06:36:06.502Z"
   },
   {
    "duration": 79,
    "start_time": "2025-04-05T06:36:06.508Z"
   },
   {
    "duration": 0,
    "start_time": "2025-04-05T06:36:06.589Z"
   },
   {
    "duration": 1,
    "start_time": "2025-04-05T06:36:06.590Z"
   },
   {
    "duration": 0,
    "start_time": "2025-04-05T06:36:06.592Z"
   },
   {
    "duration": 0,
    "start_time": "2025-04-05T06:36:06.593Z"
   },
   {
    "duration": 0,
    "start_time": "2025-04-05T06:36:06.596Z"
   },
   {
    "duration": 0,
    "start_time": "2025-04-05T06:36:06.597Z"
   },
   {
    "duration": 0,
    "start_time": "2025-04-05T06:36:06.599Z"
   },
   {
    "duration": 2,
    "start_time": "2025-04-05T06:38:38.835Z"
   },
   {
    "duration": 47,
    "start_time": "2025-04-05T06:38:38.841Z"
   },
   {
    "duration": 22,
    "start_time": "2025-04-05T06:38:38.891Z"
   },
   {
    "duration": 0,
    "start_time": "2025-04-05T06:38:38.915Z"
   },
   {
    "duration": 0,
    "start_time": "2025-04-05T06:38:38.916Z"
   },
   {
    "duration": 0,
    "start_time": "2025-04-05T06:38:38.918Z"
   },
   {
    "duration": 0,
    "start_time": "2025-04-05T06:38:38.920Z"
   },
   {
    "duration": 0,
    "start_time": "2025-04-05T06:38:38.921Z"
   },
   {
    "duration": 0,
    "start_time": "2025-04-05T06:38:38.923Z"
   },
   {
    "duration": 20,
    "start_time": "2025-04-05T06:39:15.663Z"
   },
   {
    "duration": 2,
    "start_time": "2025-04-05T06:41:12.355Z"
   },
   {
    "duration": 33,
    "start_time": "2025-04-05T06:41:12.370Z"
   },
   {
    "duration": 17,
    "start_time": "2025-04-05T06:41:12.405Z"
   },
   {
    "duration": 16,
    "start_time": "2025-04-05T06:41:12.423Z"
   },
   {
    "duration": 0,
    "start_time": "2025-04-05T06:41:12.441Z"
   },
   {
    "duration": 0,
    "start_time": "2025-04-05T06:41:12.442Z"
   },
   {
    "duration": 0,
    "start_time": "2025-04-05T06:41:12.443Z"
   },
   {
    "duration": 0,
    "start_time": "2025-04-05T06:41:12.445Z"
   },
   {
    "duration": 0,
    "start_time": "2025-04-05T06:41:12.446Z"
   },
   {
    "duration": 9,
    "start_time": "2025-04-05T06:41:31.839Z"
   },
   {
    "duration": 9,
    "start_time": "2025-04-05T06:41:33.979Z"
   },
   {
    "duration": 2,
    "start_time": "2025-04-05T06:43:46.984Z"
   },
   {
    "duration": 33,
    "start_time": "2025-04-05T06:43:46.988Z"
   },
   {
    "duration": 17,
    "start_time": "2025-04-05T06:43:47.023Z"
   },
   {
    "duration": 18,
    "start_time": "2025-04-05T06:43:47.042Z"
   },
   {
    "duration": 26,
    "start_time": "2025-04-05T06:43:47.063Z"
   },
   {
    "duration": 2,
    "start_time": "2025-04-05T06:43:47.091Z"
   },
   {
    "duration": 15,
    "start_time": "2025-04-05T06:43:47.095Z"
   },
   {
    "duration": 16,
    "start_time": "2025-04-05T06:43:47.112Z"
   },
   {
    "duration": 12,
    "start_time": "2025-04-05T06:43:47.129Z"
   },
   {
    "duration": 12,
    "start_time": "2025-04-05T06:44:58.977Z"
   },
   {
    "duration": 12,
    "start_time": "2025-04-05T06:45:00.485Z"
   },
   {
    "duration": 3,
    "start_time": "2025-04-05T06:46:39.431Z"
   },
   {
    "duration": 34,
    "start_time": "2025-04-05T06:46:39.436Z"
   },
   {
    "duration": 17,
    "start_time": "2025-04-05T06:46:39.472Z"
   },
   {
    "duration": 8,
    "start_time": "2025-04-05T06:46:39.490Z"
   },
   {
    "duration": 10,
    "start_time": "2025-04-05T06:46:39.500Z"
   },
   {
    "duration": 14,
    "start_time": "2025-04-05T06:46:39.511Z"
   },
   {
    "duration": 15,
    "start_time": "2025-04-05T06:46:39.526Z"
   },
   {
    "duration": 11,
    "start_time": "2025-04-05T06:46:39.543Z"
   },
   {
    "duration": 3,
    "start_time": "2025-04-05T06:46:56.963Z"
   },
   {
    "duration": 32,
    "start_time": "2025-04-05T06:46:56.984Z"
   },
   {
    "duration": 18,
    "start_time": "2025-04-05T06:46:57.019Z"
   },
   {
    "duration": 7,
    "start_time": "2025-04-05T06:46:57.039Z"
   },
   {
    "duration": 74,
    "start_time": "2025-04-05T06:46:57.048Z"
   },
   {
    "duration": 10,
    "start_time": "2025-04-05T06:46:57.124Z"
   },
   {
    "duration": 14,
    "start_time": "2025-04-05T06:46:57.135Z"
   },
   {
    "duration": 38,
    "start_time": "2025-04-05T06:46:57.150Z"
   },
   {
    "duration": 14,
    "start_time": "2025-04-05T06:46:57.190Z"
   },
   {
    "duration": 2,
    "start_time": "2025-04-05T06:50:31.628Z"
   },
   {
    "duration": 36,
    "start_time": "2025-04-05T06:50:31.632Z"
   },
   {
    "duration": 18,
    "start_time": "2025-04-05T06:50:31.670Z"
   },
   {
    "duration": 8,
    "start_time": "2025-04-05T06:50:31.689Z"
   },
   {
    "duration": 72,
    "start_time": "2025-04-05T06:50:31.700Z"
   },
   {
    "duration": 10,
    "start_time": "2025-04-05T06:50:31.786Z"
   },
   {
    "duration": 14,
    "start_time": "2025-04-05T06:50:31.798Z"
   },
   {
    "duration": 14,
    "start_time": "2025-04-05T06:50:31.814Z"
   },
   {
    "duration": 12,
    "start_time": "2025-04-05T06:50:31.830Z"
   },
   {
    "duration": 2,
    "start_time": "2025-04-05T06:51:05.809Z"
   },
   {
    "duration": 31,
    "start_time": "2025-04-05T06:51:05.814Z"
   },
   {
    "duration": 17,
    "start_time": "2025-04-05T06:51:05.846Z"
   },
   {
    "duration": 7,
    "start_time": "2025-04-05T06:51:05.865Z"
   },
   {
    "duration": 60,
    "start_time": "2025-04-05T06:51:05.875Z"
   },
   {
    "duration": 9,
    "start_time": "2025-04-05T06:51:05.937Z"
   },
   {
    "duration": 14,
    "start_time": "2025-04-05T06:51:05.948Z"
   },
   {
    "duration": 38,
    "start_time": "2025-04-05T06:51:05.963Z"
   },
   {
    "duration": 12,
    "start_time": "2025-04-05T06:51:06.002Z"
   },
   {
    "duration": 3,
    "start_time": "2025-04-05T06:52:00.428Z"
   },
   {
    "duration": 35,
    "start_time": "2025-04-05T06:52:00.436Z"
   },
   {
    "duration": 21,
    "start_time": "2025-04-05T06:52:00.474Z"
   },
   {
    "duration": 8,
    "start_time": "2025-04-05T06:52:00.497Z"
   },
   {
    "duration": 64,
    "start_time": "2025-04-05T06:52:00.507Z"
   },
   {
    "duration": 9,
    "start_time": "2025-04-05T06:52:00.587Z"
   },
   {
    "duration": 14,
    "start_time": "2025-04-05T06:52:00.598Z"
   },
   {
    "duration": 15,
    "start_time": "2025-04-05T06:52:00.614Z"
   },
   {
    "duration": 12,
    "start_time": "2025-04-05T06:52:00.631Z"
   },
   {
    "duration": 11,
    "start_time": "2025-04-05T06:56:57.106Z"
   },
   {
    "duration": 15,
    "start_time": "2025-04-05T06:57:36.647Z"
   },
   {
    "duration": 13,
    "start_time": "2025-04-05T06:57:43.512Z"
   },
   {
    "duration": 17,
    "start_time": "2025-04-05T06:58:07.547Z"
   },
   {
    "duration": 4,
    "start_time": "2025-04-05T06:59:57.056Z"
   },
   {
    "duration": 448,
    "start_time": "2025-04-05T07:04:12.179Z"
   },
   {
    "duration": 15,
    "start_time": "2025-04-05T07:04:26.820Z"
   },
   {
    "duration": 9,
    "start_time": "2025-04-05T07:04:37.338Z"
   },
   {
    "duration": 45,
    "start_time": "2025-04-05T07:04:46.552Z"
   },
   {
    "duration": 46,
    "start_time": "2025-04-05T07:05:15.078Z"
   },
   {
    "duration": 18,
    "start_time": "2025-04-05T07:06:46.362Z"
   },
   {
    "duration": 12,
    "start_time": "2025-04-05T07:07:13.997Z"
   },
   {
    "duration": 2,
    "start_time": "2025-04-05T07:11:01.247Z"
   },
   {
    "duration": 43,
    "start_time": "2025-04-05T07:11:01.251Z"
   },
   {
    "duration": 18,
    "start_time": "2025-04-05T07:11:01.296Z"
   },
   {
    "duration": 8,
    "start_time": "2025-04-05T07:11:01.316Z"
   },
   {
    "duration": 78,
    "start_time": "2025-04-05T07:11:01.326Z"
   },
   {
    "duration": 9,
    "start_time": "2025-04-05T07:11:01.406Z"
   },
   {
    "duration": 16,
    "start_time": "2025-04-05T07:11:01.416Z"
   },
   {
    "duration": 8,
    "start_time": "2025-04-05T07:11:01.433Z"
   },
   {
    "duration": 42,
    "start_time": "2025-04-05T07:11:01.445Z"
   },
   {
    "duration": 12,
    "start_time": "2025-04-05T07:11:01.489Z"
   },
   {
    "duration": 4,
    "start_time": "2025-04-05T07:11:01.504Z"
   },
   {
    "duration": 9,
    "start_time": "2025-04-05T07:11:01.510Z"
   },
   {
    "duration": 15,
    "start_time": "2025-04-05T07:11:01.521Z"
   },
   {
    "duration": 11,
    "start_time": "2025-04-05T07:11:01.538Z"
   },
   {
    "duration": 16,
    "start_time": "2025-04-05T07:14:43.263Z"
   },
   {
    "duration": 4,
    "start_time": "2025-04-05T07:17:00.517Z"
   },
   {
    "duration": 37,
    "start_time": "2025-04-05T07:17:00.523Z"
   },
   {
    "duration": 18,
    "start_time": "2025-04-05T07:17:00.562Z"
   },
   {
    "duration": 11,
    "start_time": "2025-04-05T07:17:00.583Z"
   },
   {
    "duration": 6,
    "start_time": "2025-04-05T07:17:00.596Z"
   },
   {
    "duration": 65,
    "start_time": "2025-04-05T07:17:00.603Z"
   },
   {
    "duration": 30,
    "start_time": "2025-04-05T07:17:00.670Z"
   },
   {
    "duration": 16,
    "start_time": "2025-04-05T07:17:00.702Z"
   },
   {
    "duration": 4,
    "start_time": "2025-04-05T07:17:00.721Z"
   },
   {
    "duration": 13,
    "start_time": "2025-04-05T07:17:00.727Z"
   },
   {
    "duration": 45,
    "start_time": "2025-04-05T07:17:00.742Z"
   },
   {
    "duration": 12,
    "start_time": "2025-04-05T07:17:00.789Z"
   },
   {
    "duration": 4,
    "start_time": "2025-04-05T07:17:00.802Z"
   },
   {
    "duration": 18,
    "start_time": "2025-04-05T07:17:00.808Z"
   },
   {
    "duration": 15,
    "start_time": "2025-04-05T07:17:00.828Z"
   },
   {
    "duration": 48,
    "start_time": "2025-04-05T07:17:00.845Z"
   },
   {
    "duration": 14,
    "start_time": "2025-04-05T07:17:52.686Z"
   },
   {
    "duration": 2,
    "start_time": "2025-04-05T07:26:09.384Z"
   },
   {
    "duration": 35,
    "start_time": "2025-04-05T07:26:09.388Z"
   },
   {
    "duration": 15,
    "start_time": "2025-04-05T07:26:09.425Z"
   },
   {
    "duration": 8,
    "start_time": "2025-04-05T07:26:09.441Z"
   },
   {
    "duration": 6,
    "start_time": "2025-04-05T07:26:09.451Z"
   },
   {
    "duration": 88,
    "start_time": "2025-04-05T07:26:09.459Z"
   },
   {
    "duration": 10,
    "start_time": "2025-04-05T07:26:09.549Z"
   },
   {
    "duration": 35,
    "start_time": "2025-04-05T07:26:09.560Z"
   },
   {
    "duration": 4,
    "start_time": "2025-04-05T07:26:09.597Z"
   },
   {
    "duration": 13,
    "start_time": "2025-04-05T07:26:09.604Z"
   },
   {
    "duration": 13,
    "start_time": "2025-04-05T07:26:09.619Z"
   },
   {
    "duration": 11,
    "start_time": "2025-04-05T07:26:09.634Z"
   },
   {
    "duration": 46,
    "start_time": "2025-04-05T07:26:09.647Z"
   },
   {
    "duration": 5,
    "start_time": "2025-04-05T07:26:09.696Z"
   },
   {
    "duration": 5,
    "start_time": "2025-04-05T07:26:09.702Z"
   },
   {
    "duration": 19,
    "start_time": "2025-04-05T07:26:09.709Z"
   },
   {
    "duration": 15,
    "start_time": "2025-04-05T07:26:09.731Z"
   },
   {
    "duration": 45,
    "start_time": "2025-04-05T07:26:09.748Z"
   },
   {
    "duration": 15,
    "start_time": "2025-04-05T07:27:07.368Z"
   },
   {
    "duration": 2,
    "start_time": "2025-04-05T07:27:09.800Z"
   },
   {
    "duration": 39,
    "start_time": "2025-04-05T07:27:09.804Z"
   },
   {
    "duration": 15,
    "start_time": "2025-04-05T07:27:09.845Z"
   },
   {
    "duration": 8,
    "start_time": "2025-04-05T07:27:09.862Z"
   },
   {
    "duration": 6,
    "start_time": "2025-04-05T07:27:09.872Z"
   },
   {
    "duration": 66,
    "start_time": "2025-04-05T07:27:09.887Z"
   },
   {
    "duration": 10,
    "start_time": "2025-04-05T07:27:09.955Z"
   },
   {
    "duration": 32,
    "start_time": "2025-04-05T07:27:09.968Z"
   },
   {
    "duration": 4,
    "start_time": "2025-04-05T07:27:10.003Z"
   },
   {
    "duration": 13,
    "start_time": "2025-04-05T07:27:10.009Z"
   },
   {
    "duration": 14,
    "start_time": "2025-04-05T07:27:10.024Z"
   },
   {
    "duration": 49,
    "start_time": "2025-04-05T07:27:10.040Z"
   },
   {
    "duration": 8,
    "start_time": "2025-04-05T07:27:10.091Z"
   },
   {
    "duration": 5,
    "start_time": "2025-04-05T07:27:10.102Z"
   },
   {
    "duration": 5,
    "start_time": "2025-04-05T07:27:10.109Z"
   },
   {
    "duration": 21,
    "start_time": "2025-04-05T07:27:10.116Z"
   },
   {
    "duration": 49,
    "start_time": "2025-04-05T07:27:10.139Z"
   },
   {
    "duration": 14,
    "start_time": "2025-04-05T07:27:10.191Z"
   },
   {
    "duration": 160,
    "start_time": "2025-04-05T08:03:06.735Z"
   },
   {
    "duration": 295,
    "start_time": "2025-04-05T08:03:09.564Z"
   },
   {
    "duration": 51,
    "start_time": "2025-04-05T08:03:09.861Z"
   },
   {
    "duration": 22,
    "start_time": "2025-04-05T08:03:09.914Z"
   },
   {
    "duration": 9,
    "start_time": "2025-04-05T08:03:09.939Z"
   },
   {
    "duration": 5,
    "start_time": "2025-04-05T08:03:09.951Z"
   },
   {
    "duration": 79,
    "start_time": "2025-04-05T08:03:09.958Z"
   },
   {
    "duration": 9,
    "start_time": "2025-04-05T08:03:10.039Z"
   },
   {
    "duration": 35,
    "start_time": "2025-04-05T08:03:10.050Z"
   },
   {
    "duration": 4,
    "start_time": "2025-04-05T08:03:10.088Z"
   },
   {
    "duration": 15,
    "start_time": "2025-04-05T08:03:10.094Z"
   },
   {
    "duration": 14,
    "start_time": "2025-04-05T08:03:10.110Z"
   },
   {
    "duration": 12,
    "start_time": "2025-04-05T08:03:10.125Z"
   },
   {
    "duration": 8,
    "start_time": "2025-04-05T08:03:10.139Z"
   },
   {
    "duration": 4,
    "start_time": "2025-04-05T08:03:10.186Z"
   },
   {
    "duration": 4,
    "start_time": "2025-04-05T08:03:10.192Z"
   },
   {
    "duration": 20,
    "start_time": "2025-04-05T08:03:10.198Z"
   },
   {
    "duration": 15,
    "start_time": "2025-04-05T08:03:10.221Z"
   },
   {
    "duration": 11,
    "start_time": "2025-04-05T08:03:10.238Z"
   },
   {
    "duration": 502,
    "start_time": "2025-04-05T08:03:10.252Z"
   },
   {
    "duration": 0,
    "start_time": "2025-04-05T08:03:10.756Z"
   },
   {
    "duration": 5,
    "start_time": "2025-04-05T08:04:56.129Z"
   },
   {
    "duration": 10,
    "start_time": "2025-04-05T08:04:59.415Z"
   },
   {
    "duration": 2,
    "start_time": "2025-04-05T08:05:54.346Z"
   },
   {
    "duration": 47,
    "start_time": "2025-04-05T08:05:54.353Z"
   },
   {
    "duration": 16,
    "start_time": "2025-04-05T08:05:54.402Z"
   },
   {
    "duration": 7,
    "start_time": "2025-04-05T08:05:54.420Z"
   },
   {
    "duration": 5,
    "start_time": "2025-04-05T08:05:54.429Z"
   },
   {
    "duration": 84,
    "start_time": "2025-04-05T08:05:54.436Z"
   },
   {
    "duration": 10,
    "start_time": "2025-04-05T08:05:54.522Z"
   },
   {
    "duration": 16,
    "start_time": "2025-04-05T08:05:54.534Z"
   },
   {
    "duration": 4,
    "start_time": "2025-04-05T08:05:54.552Z"
   },
   {
    "duration": 41,
    "start_time": "2025-04-05T08:05:54.558Z"
   },
   {
    "duration": 14,
    "start_time": "2025-04-05T08:05:54.600Z"
   },
   {
    "duration": 12,
    "start_time": "2025-04-05T08:05:54.615Z"
   },
   {
    "duration": 8,
    "start_time": "2025-04-05T08:05:54.629Z"
   },
   {
    "duration": 4,
    "start_time": "2025-04-05T08:05:54.638Z"
   },
   {
    "duration": 41,
    "start_time": "2025-04-05T08:05:54.646Z"
   },
   {
    "duration": 20,
    "start_time": "2025-04-05T08:05:54.689Z"
   },
   {
    "duration": 14,
    "start_time": "2025-04-05T08:05:54.712Z"
   },
   {
    "duration": 12,
    "start_time": "2025-04-05T08:05:54.728Z"
   },
   {
    "duration": 47,
    "start_time": "2025-04-05T08:05:54.742Z"
   },
   {
    "duration": 3,
    "start_time": "2025-04-05T08:05:54.791Z"
   },
   {
    "duration": 12,
    "start_time": "2025-04-05T08:05:54.796Z"
   },
   {
    "duration": 24,
    "start_time": "2025-04-05T08:06:20.700Z"
   },
   {
    "duration": 41,
    "start_time": "2025-04-05T08:08:45.443Z"
   },
   {
    "duration": 2,
    "start_time": "2025-04-05T08:08:50.117Z"
   },
   {
    "duration": 36,
    "start_time": "2025-04-05T08:08:50.122Z"
   },
   {
    "duration": 16,
    "start_time": "2025-04-05T08:08:50.159Z"
   },
   {
    "duration": 7,
    "start_time": "2025-04-05T08:08:50.177Z"
   },
   {
    "duration": 6,
    "start_time": "2025-04-05T08:08:50.188Z"
   },
   {
    "duration": 64,
    "start_time": "2025-04-05T08:08:50.195Z"
   },
   {
    "duration": 26,
    "start_time": "2025-04-05T08:08:50.261Z"
   },
   {
    "duration": 18,
    "start_time": "2025-04-05T08:08:50.288Z"
   },
   {
    "duration": 5,
    "start_time": "2025-04-05T08:08:50.307Z"
   },
   {
    "duration": 14,
    "start_time": "2025-04-05T08:08:50.313Z"
   },
   {
    "duration": 15,
    "start_time": "2025-04-05T08:08:50.328Z"
   },
   {
    "duration": 46,
    "start_time": "2025-04-05T08:08:50.345Z"
   },
   {
    "duration": 8,
    "start_time": "2025-04-05T08:08:50.393Z"
   },
   {
    "duration": 3,
    "start_time": "2025-04-05T08:08:50.404Z"
   },
   {
    "duration": 5,
    "start_time": "2025-04-05T08:08:50.408Z"
   },
   {
    "duration": 20,
    "start_time": "2025-04-05T08:08:50.414Z"
   },
   {
    "duration": 16,
    "start_time": "2025-04-05T08:08:50.436Z"
   },
   {
    "duration": 13,
    "start_time": "2025-04-05T08:08:50.488Z"
   },
   {
    "duration": 10,
    "start_time": "2025-04-05T08:08:50.503Z"
   },
   {
    "duration": 4,
    "start_time": "2025-04-05T08:08:50.515Z"
   },
   {
    "duration": 24,
    "start_time": "2025-04-05T08:08:50.521Z"
   },
   {
    "duration": 73,
    "start_time": "2025-04-05T08:08:50.546Z"
   },
   {
    "duration": 0,
    "start_time": "2025-04-05T08:08:50.621Z"
   },
   {
    "duration": 40,
    "start_time": "2025-04-05T08:08:59.793Z"
   },
   {
    "duration": 44,
    "start_time": "2025-04-05T08:09:14.988Z"
   },
   {
    "duration": 3,
    "start_time": "2025-04-05T08:15:39.525Z"
   },
   {
    "duration": 35,
    "start_time": "2025-04-05T08:15:39.531Z"
   },
   {
    "duration": 17,
    "start_time": "2025-04-05T08:15:39.568Z"
   },
   {
    "duration": 7,
    "start_time": "2025-04-05T08:15:39.588Z"
   },
   {
    "duration": 5,
    "start_time": "2025-04-05T08:15:39.597Z"
   },
   {
    "duration": 63,
    "start_time": "2025-04-05T08:15:39.604Z"
   },
   {
    "duration": 28,
    "start_time": "2025-04-05T08:15:39.669Z"
   },
   {
    "duration": 16,
    "start_time": "2025-04-05T08:15:39.698Z"
   },
   {
    "duration": 4,
    "start_time": "2025-04-05T08:15:39.716Z"
   },
   {
    "duration": 14,
    "start_time": "2025-04-05T08:15:39.723Z"
   },
   {
    "duration": 14,
    "start_time": "2025-04-05T08:15:39.739Z"
   },
   {
    "duration": 11,
    "start_time": "2025-04-05T08:15:39.787Z"
   },
   {
    "duration": 7,
    "start_time": "2025-04-05T08:15:39.801Z"
   },
   {
    "duration": 4,
    "start_time": "2025-04-05T08:15:39.810Z"
   },
   {
    "duration": 5,
    "start_time": "2025-04-05T08:15:39.815Z"
   },
   {
    "duration": 20,
    "start_time": "2025-04-05T08:15:39.821Z"
   },
   {
    "duration": 53,
    "start_time": "2025-04-05T08:15:39.843Z"
   },
   {
    "duration": 12,
    "start_time": "2025-04-05T08:15:39.898Z"
   },
   {
    "duration": 11,
    "start_time": "2025-04-05T08:15:39.911Z"
   },
   {
    "duration": 5,
    "start_time": "2025-04-05T08:15:39.924Z"
   },
   {
    "duration": 55,
    "start_time": "2025-04-05T08:15:39.931Z"
   },
   {
    "duration": 12,
    "start_time": "2025-04-05T08:15:39.988Z"
   },
   {
    "duration": 18,
    "start_time": "2025-04-05T08:18:49.531Z"
   },
   {
    "duration": 2,
    "start_time": "2025-04-05T08:20:12.421Z"
   },
   {
    "duration": 33,
    "start_time": "2025-04-05T08:20:12.762Z"
   },
   {
    "duration": 16,
    "start_time": "2025-04-05T08:20:12.798Z"
   },
   {
    "duration": 8,
    "start_time": "2025-04-05T08:20:12.816Z"
   },
   {
    "duration": 5,
    "start_time": "2025-04-05T08:20:12.826Z"
   },
   {
    "duration": 85,
    "start_time": "2025-04-05T08:20:12.833Z"
   },
   {
    "duration": 9,
    "start_time": "2025-04-05T08:20:12.921Z"
   },
   {
    "duration": 15,
    "start_time": "2025-04-05T08:20:12.932Z"
   },
   {
    "duration": 4,
    "start_time": "2025-04-05T08:20:12.948Z"
   },
   {
    "duration": 36,
    "start_time": "2025-04-05T08:20:12.955Z"
   },
   {
    "duration": 13,
    "start_time": "2025-04-05T08:20:12.993Z"
   },
   {
    "duration": 12,
    "start_time": "2025-04-05T08:20:13.008Z"
   },
   {
    "duration": 8,
    "start_time": "2025-04-05T08:20:13.022Z"
   },
   {
    "duration": 4,
    "start_time": "2025-04-05T08:20:13.032Z"
   },
   {
    "duration": 4,
    "start_time": "2025-04-05T08:20:13.040Z"
   },
   {
    "duration": 61,
    "start_time": "2025-04-05T08:20:13.045Z"
   },
   {
    "duration": 16,
    "start_time": "2025-04-05T08:20:13.107Z"
   },
   {
    "duration": 13,
    "start_time": "2025-04-05T08:20:13.126Z"
   },
   {
    "duration": 13,
    "start_time": "2025-04-05T08:20:13.141Z"
   },
   {
    "duration": 5,
    "start_time": "2025-04-05T08:20:13.187Z"
   },
   {
    "duration": 26,
    "start_time": "2025-04-05T08:20:13.194Z"
   },
   {
    "duration": 11,
    "start_time": "2025-04-05T08:20:13.223Z"
   },
   {
    "duration": 6,
    "start_time": "2025-04-05T08:20:13.236Z"
   },
   {
    "duration": 4,
    "start_time": "2025-04-05T08:20:13.244Z"
   },
   {
    "duration": 49,
    "start_time": "2025-04-05T08:20:13.250Z"
   },
   {
    "duration": 23,
    "start_time": "2025-04-05T08:21:39.154Z"
   },
   {
    "duration": 17,
    "start_time": "2025-04-05T08:23:20.423Z"
   },
   {
    "duration": 14,
    "start_time": "2025-04-05T08:23:40.720Z"
   },
   {
    "duration": 17,
    "start_time": "2025-04-05T08:23:43.421Z"
   },
   {
    "duration": 14,
    "start_time": "2025-04-05T08:23:44.878Z"
   },
   {
    "duration": 15,
    "start_time": "2025-04-05T08:24:11.028Z"
   },
   {
    "duration": 12,
    "start_time": "2025-04-05T08:24:16.258Z"
   },
   {
    "duration": 22,
    "start_time": "2025-04-05T08:24:24.119Z"
   },
   {
    "duration": 2,
    "start_time": "2025-04-05T08:31:30.095Z"
   },
   {
    "duration": 35,
    "start_time": "2025-04-05T08:31:30.171Z"
   },
   {
    "duration": 16,
    "start_time": "2025-04-05T08:31:30.208Z"
   },
   {
    "duration": 7,
    "start_time": "2025-04-05T08:31:30.226Z"
   },
   {
    "duration": 5,
    "start_time": "2025-04-05T08:31:30.235Z"
   },
   {
    "duration": 81,
    "start_time": "2025-04-05T08:31:30.243Z"
   },
   {
    "duration": 11,
    "start_time": "2025-04-05T08:31:30.326Z"
   },
   {
    "duration": 16,
    "start_time": "2025-04-05T08:31:30.338Z"
   },
   {
    "duration": 30,
    "start_time": "2025-04-05T08:31:30.356Z"
   },
   {
    "duration": 13,
    "start_time": "2025-04-05T08:31:30.388Z"
   },
   {
    "duration": 13,
    "start_time": "2025-04-05T08:31:30.403Z"
   },
   {
    "duration": 13,
    "start_time": "2025-04-05T08:31:30.417Z"
   },
   {
    "duration": 8,
    "start_time": "2025-04-05T08:31:30.432Z"
   },
   {
    "duration": 4,
    "start_time": "2025-04-05T08:31:30.441Z"
   },
   {
    "duration": 42,
    "start_time": "2025-04-05T08:31:30.448Z"
   },
   {
    "duration": 22,
    "start_time": "2025-04-05T08:31:30.492Z"
   },
   {
    "duration": 15,
    "start_time": "2025-04-05T08:31:30.516Z"
   },
   {
    "duration": 11,
    "start_time": "2025-04-05T08:31:30.533Z"
   },
   {
    "duration": 44,
    "start_time": "2025-04-05T08:31:30.546Z"
   },
   {
    "duration": 4,
    "start_time": "2025-04-05T08:31:30.592Z"
   },
   {
    "duration": 24,
    "start_time": "2025-04-05T08:31:30.598Z"
   },
   {
    "duration": 11,
    "start_time": "2025-04-05T08:31:30.624Z"
   },
   {
    "duration": 5,
    "start_time": "2025-04-05T08:31:30.637Z"
   },
   {
    "duration": 4,
    "start_time": "2025-04-05T08:31:30.643Z"
   },
   {
    "duration": 40,
    "start_time": "2025-04-05T08:31:30.648Z"
   },
   {
    "duration": 0,
    "start_time": "2025-04-05T08:31:30.690Z"
   },
   {
    "duration": 0,
    "start_time": "2025-04-05T08:31:30.691Z"
   },
   {
    "duration": 0,
    "start_time": "2025-04-05T08:31:30.692Z"
   },
   {
    "duration": 0,
    "start_time": "2025-04-05T08:31:30.693Z"
   },
   {
    "duration": 0,
    "start_time": "2025-04-05T08:31:30.694Z"
   },
   {
    "duration": 4,
    "start_time": "2025-04-05T08:32:09.594Z"
   },
   {
    "duration": 11,
    "start_time": "2025-04-05T08:32:24.602Z"
   },
   {
    "duration": 3,
    "start_time": "2025-04-05T08:32:29.184Z"
   },
   {
    "duration": 37,
    "start_time": "2025-04-05T08:32:29.189Z"
   },
   {
    "duration": 17,
    "start_time": "2025-04-05T08:32:29.228Z"
   },
   {
    "duration": 8,
    "start_time": "2025-04-05T08:32:29.247Z"
   },
   {
    "duration": 32,
    "start_time": "2025-04-05T08:32:29.258Z"
   },
   {
    "duration": 77,
    "start_time": "2025-04-05T08:32:29.292Z"
   },
   {
    "duration": 23,
    "start_time": "2025-04-05T08:32:29.371Z"
   },
   {
    "duration": 15,
    "start_time": "2025-04-05T08:32:29.396Z"
   },
   {
    "duration": 5,
    "start_time": "2025-04-05T08:32:29.413Z"
   },
   {
    "duration": 13,
    "start_time": "2025-04-05T08:32:29.419Z"
   },
   {
    "duration": 13,
    "start_time": "2025-04-05T08:32:29.434Z"
   },
   {
    "duration": 12,
    "start_time": "2025-04-05T08:32:29.487Z"
   },
   {
    "duration": 7,
    "start_time": "2025-04-05T08:32:29.501Z"
   },
   {
    "duration": 4,
    "start_time": "2025-04-05T08:32:29.512Z"
   },
   {
    "duration": 4,
    "start_time": "2025-04-05T08:32:29.518Z"
   },
   {
    "duration": 21,
    "start_time": "2025-04-05T08:32:29.523Z"
   },
   {
    "duration": 47,
    "start_time": "2025-04-05T08:32:29.546Z"
   },
   {
    "duration": 12,
    "start_time": "2025-04-05T08:32:29.595Z"
   },
   {
    "duration": 11,
    "start_time": "2025-04-05T08:32:29.609Z"
   },
   {
    "duration": 3,
    "start_time": "2025-04-05T08:32:29.622Z"
   },
   {
    "duration": 23,
    "start_time": "2025-04-05T08:32:29.627Z"
   },
   {
    "duration": 44,
    "start_time": "2025-04-05T08:32:29.652Z"
   },
   {
    "duration": 6,
    "start_time": "2025-04-05T08:32:29.697Z"
   },
   {
    "duration": 4,
    "start_time": "2025-04-05T08:32:29.704Z"
   },
   {
    "duration": 9,
    "start_time": "2025-04-05T08:32:29.710Z"
   },
   {
    "duration": 15,
    "start_time": "2025-04-05T08:32:29.721Z"
   },
   {
    "duration": 59,
    "start_time": "2025-04-05T08:32:29.738Z"
   },
   {
    "duration": 23,
    "start_time": "2025-04-05T08:32:29.799Z"
   },
   {
    "duration": 6,
    "start_time": "2025-04-05T08:32:29.824Z"
   },
   {
    "duration": 14,
    "start_time": "2025-04-05T08:32:29.832Z"
   },
   {
    "duration": 32,
    "start_time": "2025-04-05T08:32:48.470Z"
   },
   {
    "duration": 3,
    "start_time": "2025-04-05T08:38:53.407Z"
   },
   {
    "duration": 34,
    "start_time": "2025-04-05T08:38:53.414Z"
   },
   {
    "duration": 16,
    "start_time": "2025-04-05T08:38:53.451Z"
   },
   {
    "duration": 8,
    "start_time": "2025-04-05T08:38:53.470Z"
   },
   {
    "duration": 10,
    "start_time": "2025-04-05T08:38:53.479Z"
   },
   {
    "duration": 63,
    "start_time": "2025-04-05T08:38:53.492Z"
   },
   {
    "duration": 9,
    "start_time": "2025-04-05T08:38:53.557Z"
   },
   {
    "duration": 32,
    "start_time": "2025-04-05T08:38:53.568Z"
   },
   {
    "duration": 4,
    "start_time": "2025-04-05T08:38:53.602Z"
   },
   {
    "duration": 15,
    "start_time": "2025-04-05T08:38:53.608Z"
   },
   {
    "duration": 13,
    "start_time": "2025-04-05T08:38:53.624Z"
   },
   {
    "duration": 49,
    "start_time": "2025-04-05T08:38:53.638Z"
   },
   {
    "duration": 8,
    "start_time": "2025-04-05T08:38:53.689Z"
   },
   {
    "duration": 4,
    "start_time": "2025-04-05T08:38:53.699Z"
   },
   {
    "duration": 4,
    "start_time": "2025-04-05T08:38:53.706Z"
   },
   {
    "duration": 20,
    "start_time": "2025-04-05T08:38:53.711Z"
   },
   {
    "duration": 14,
    "start_time": "2025-04-05T08:38:53.733Z"
   },
   {
    "duration": 45,
    "start_time": "2025-04-05T08:38:53.748Z"
   },
   {
    "duration": 11,
    "start_time": "2025-04-05T08:38:53.795Z"
   },
   {
    "duration": 4,
    "start_time": "2025-04-05T08:38:53.808Z"
   },
   {
    "duration": 8,
    "start_time": "2025-04-05T08:38:53.813Z"
   },
   {
    "duration": 29,
    "start_time": "2025-04-05T08:38:53.823Z"
   },
   {
    "duration": 43,
    "start_time": "2025-04-05T08:38:53.854Z"
   },
   {
    "duration": 5,
    "start_time": "2025-04-05T08:38:53.898Z"
   },
   {
    "duration": 4,
    "start_time": "2025-04-05T08:38:53.905Z"
   },
   {
    "duration": 11,
    "start_time": "2025-04-05T08:38:53.910Z"
   },
   {
    "duration": 15,
    "start_time": "2025-04-05T08:38:53.923Z"
   },
   {
    "duration": 55,
    "start_time": "2025-04-05T08:38:53.939Z"
   },
   {
    "duration": 26,
    "start_time": "2025-04-05T08:38:53.996Z"
   },
   {
    "duration": 6,
    "start_time": "2025-04-05T08:38:54.024Z"
   },
   {
    "duration": 15,
    "start_time": "2025-04-05T08:38:54.031Z"
   },
   {
    "duration": 65,
    "start_time": "2025-04-05T08:38:54.048Z"
   },
   {
    "duration": 27,
    "start_time": "2025-04-05T08:38:54.114Z"
   },
   {
    "duration": 35,
    "start_time": "2025-04-05T08:39:20.079Z"
   },
   {
    "duration": 2,
    "start_time": "2025-04-05T08:40:38.195Z"
   },
   {
    "duration": 39,
    "start_time": "2025-04-05T08:40:38.201Z"
   },
   {
    "duration": 18,
    "start_time": "2025-04-05T08:40:38.242Z"
   },
   {
    "duration": 7,
    "start_time": "2025-04-05T08:40:38.261Z"
   },
   {
    "duration": 6,
    "start_time": "2025-04-05T08:40:38.286Z"
   },
   {
    "duration": 64,
    "start_time": "2025-04-05T08:40:38.295Z"
   },
   {
    "duration": 25,
    "start_time": "2025-04-05T08:40:38.361Z"
   },
   {
    "duration": 16,
    "start_time": "2025-04-05T08:40:38.388Z"
   },
   {
    "duration": 5,
    "start_time": "2025-04-05T08:40:38.405Z"
   },
   {
    "duration": 13,
    "start_time": "2025-04-05T08:40:38.412Z"
   },
   {
    "duration": 12,
    "start_time": "2025-04-05T08:40:38.426Z"
   },
   {
    "duration": 48,
    "start_time": "2025-04-05T08:40:38.440Z"
   },
   {
    "duration": 9,
    "start_time": "2025-04-05T08:40:38.489Z"
   },
   {
    "duration": 4,
    "start_time": "2025-04-05T08:40:38.499Z"
   },
   {
    "duration": 4,
    "start_time": "2025-04-05T08:40:38.506Z"
   },
   {
    "duration": 19,
    "start_time": "2025-04-05T08:40:38.512Z"
   },
   {
    "duration": 14,
    "start_time": "2025-04-05T08:40:38.533Z"
   },
   {
    "duration": 48,
    "start_time": "2025-04-05T08:40:38.549Z"
   },
   {
    "duration": 12,
    "start_time": "2025-04-05T08:40:38.600Z"
   },
   {
    "duration": 5,
    "start_time": "2025-04-05T08:40:38.614Z"
   },
   {
    "duration": 4,
    "start_time": "2025-04-05T08:40:38.621Z"
   },
   {
    "duration": 26,
    "start_time": "2025-04-05T08:40:38.626Z"
   },
   {
    "duration": 38,
    "start_time": "2025-04-05T08:40:38.654Z"
   },
   {
    "duration": 5,
    "start_time": "2025-04-05T08:40:38.694Z"
   },
   {
    "duration": 4,
    "start_time": "2025-04-05T08:40:38.700Z"
   },
   {
    "duration": 10,
    "start_time": "2025-04-05T08:40:38.705Z"
   },
   {
    "duration": 14,
    "start_time": "2025-04-05T08:40:38.717Z"
   },
   {
    "duration": 53,
    "start_time": "2025-04-05T08:40:38.733Z"
   },
   {
    "duration": 25,
    "start_time": "2025-04-05T08:40:38.789Z"
   },
   {
    "duration": 7,
    "start_time": "2025-04-05T08:40:38.816Z"
   },
   {
    "duration": 15,
    "start_time": "2025-04-05T08:40:38.824Z"
   },
   {
    "duration": 63,
    "start_time": "2025-04-05T08:40:38.840Z"
   },
   {
    "duration": 25,
    "start_time": "2025-04-05T08:40:38.905Z"
   },
   {
    "duration": 34,
    "start_time": "2025-04-05T08:40:38.932Z"
   },
   {
    "duration": 4,
    "start_time": "2025-04-05T08:42:00.442Z"
   },
   {
    "duration": 4,
    "start_time": "2025-04-05T08:42:24.609Z"
   },
   {
    "duration": 4,
    "start_time": "2025-04-05T08:42:51.985Z"
   },
   {
    "duration": 3,
    "start_time": "2025-04-05T08:43:04.853Z"
   },
   {
    "duration": 17,
    "start_time": "2025-04-05T08:44:11.755Z"
   },
   {
    "duration": 3,
    "start_time": "2025-04-05T08:44:15.690Z"
   },
   {
    "duration": 35,
    "start_time": "2025-04-05T08:44:15.696Z"
   },
   {
    "duration": 16,
    "start_time": "2025-04-05T08:44:15.732Z"
   },
   {
    "duration": 7,
    "start_time": "2025-04-05T08:44:15.751Z"
   },
   {
    "duration": 30,
    "start_time": "2025-04-05T08:44:15.759Z"
   },
   {
    "duration": 69,
    "start_time": "2025-04-05T08:44:15.791Z"
   },
   {
    "duration": 30,
    "start_time": "2025-04-05T08:44:15.862Z"
   },
   {
    "duration": 17,
    "start_time": "2025-04-05T08:44:15.893Z"
   },
   {
    "duration": 7,
    "start_time": "2025-04-05T08:44:15.913Z"
   },
   {
    "duration": 14,
    "start_time": "2025-04-05T08:44:15.922Z"
   },
   {
    "duration": 14,
    "start_time": "2025-04-05T08:44:15.937Z"
   },
   {
    "duration": 44,
    "start_time": "2025-04-05T08:44:15.953Z"
   },
   {
    "duration": 8,
    "start_time": "2025-04-05T08:44:16.000Z"
   },
   {
    "duration": 4,
    "start_time": "2025-04-05T08:44:16.010Z"
   },
   {
    "duration": 4,
    "start_time": "2025-04-05T08:44:16.016Z"
   },
   {
    "duration": 20,
    "start_time": "2025-04-05T08:44:16.021Z"
   },
   {
    "duration": 44,
    "start_time": "2025-04-05T08:44:16.043Z"
   },
   {
    "duration": 12,
    "start_time": "2025-04-05T08:44:16.089Z"
   },
   {
    "duration": 11,
    "start_time": "2025-04-05T08:44:16.103Z"
   },
   {
    "duration": 3,
    "start_time": "2025-04-05T08:44:16.116Z"
   },
   {
    "duration": 5,
    "start_time": "2025-04-05T08:44:16.121Z"
   },
   {
    "duration": 26,
    "start_time": "2025-04-05T08:44:16.127Z"
   },
   {
    "duration": 12,
    "start_time": "2025-04-05T08:44:16.187Z"
   },
   {
    "duration": 5,
    "start_time": "2025-04-05T08:44:16.203Z"
   },
   {
    "duration": 4,
    "start_time": "2025-04-05T08:44:16.210Z"
   },
   {
    "duration": 10,
    "start_time": "2025-04-05T08:44:16.215Z"
   },
   {
    "duration": 14,
    "start_time": "2025-04-05T08:44:16.227Z"
   },
   {
    "duration": 54,
    "start_time": "2025-04-05T08:44:16.243Z"
   },
   {
    "duration": 26,
    "start_time": "2025-04-05T08:44:16.298Z"
   },
   {
    "duration": 6,
    "start_time": "2025-04-05T08:44:16.327Z"
   },
   {
    "duration": 14,
    "start_time": "2025-04-05T08:44:16.335Z"
   },
   {
    "duration": 66,
    "start_time": "2025-04-05T08:44:16.351Z"
   },
   {
    "duration": 26,
    "start_time": "2025-04-05T08:44:16.418Z"
   },
   {
    "duration": 49,
    "start_time": "2025-04-05T08:44:16.446Z"
   },
   {
    "duration": 4,
    "start_time": "2025-04-05T08:44:16.497Z"
   },
   {
    "duration": 4,
    "start_time": "2025-04-05T08:44:16.503Z"
   },
   {
    "duration": 18,
    "start_time": "2025-04-05T08:44:16.509Z"
   },
   {
    "duration": 12,
    "start_time": "2025-04-05T08:44:33.153Z"
   },
   {
    "duration": 18,
    "start_time": "2025-04-05T08:44:47.725Z"
   },
   {
    "duration": 4,
    "start_time": "2025-04-05T08:50:30.172Z"
   },
   {
    "duration": 3,
    "start_time": "2025-04-05T08:50:52.041Z"
   },
   {
    "duration": 53,
    "start_time": "2025-04-05T08:50:52.046Z"
   },
   {
    "duration": 17,
    "start_time": "2025-04-05T08:50:52.101Z"
   },
   {
    "duration": 7,
    "start_time": "2025-04-05T08:50:52.120Z"
   },
   {
    "duration": 5,
    "start_time": "2025-04-05T08:50:52.129Z"
   },
   {
    "duration": 89,
    "start_time": "2025-04-05T08:50:52.136Z"
   },
   {
    "duration": 11,
    "start_time": "2025-04-05T08:50:52.227Z"
   },
   {
    "duration": 16,
    "start_time": "2025-04-05T08:50:52.239Z"
   },
   {
    "duration": 33,
    "start_time": "2025-04-05T08:50:52.257Z"
   },
   {
    "duration": 14,
    "start_time": "2025-04-05T08:50:52.292Z"
   },
   {
    "duration": 12,
    "start_time": "2025-04-05T08:50:52.308Z"
   },
   {
    "duration": 12,
    "start_time": "2025-04-05T08:50:52.323Z"
   },
   {
    "duration": 8,
    "start_time": "2025-04-05T08:50:52.337Z"
   },
   {
    "duration": 39,
    "start_time": "2025-04-05T08:50:52.349Z"
   },
   {
    "duration": 4,
    "start_time": "2025-04-05T08:50:52.390Z"
   },
   {
    "duration": 20,
    "start_time": "2025-04-05T08:50:52.396Z"
   },
   {
    "duration": 19,
    "start_time": "2025-04-05T08:50:52.418Z"
   },
   {
    "duration": 13,
    "start_time": "2025-04-05T08:50:52.439Z"
   },
   {
    "duration": 40,
    "start_time": "2025-04-05T08:50:52.453Z"
   },
   {
    "duration": 4,
    "start_time": "2025-04-05T08:50:52.494Z"
   },
   {
    "duration": 5,
    "start_time": "2025-04-05T08:50:52.501Z"
   },
   {
    "duration": 27,
    "start_time": "2025-04-05T08:50:52.507Z"
   },
   {
    "duration": 12,
    "start_time": "2025-04-05T08:50:52.536Z"
   },
   {
    "duration": 6,
    "start_time": "2025-04-05T08:50:52.586Z"
   },
   {
    "duration": 4,
    "start_time": "2025-04-05T08:50:52.593Z"
   },
   {
    "duration": 10,
    "start_time": "2025-04-05T08:50:52.599Z"
   },
   {
    "duration": 14,
    "start_time": "2025-04-05T08:50:52.611Z"
   },
   {
    "duration": 18,
    "start_time": "2025-04-05T08:50:52.627Z"
   },
   {
    "duration": 60,
    "start_time": "2025-04-05T08:50:52.646Z"
   },
   {
    "duration": 7,
    "start_time": "2025-04-05T08:50:52.707Z"
   },
   {
    "duration": 15,
    "start_time": "2025-04-05T08:50:52.715Z"
   },
   {
    "duration": 55,
    "start_time": "2025-04-05T08:50:52.732Z"
   },
   {
    "duration": 35,
    "start_time": "2025-04-05T08:50:52.789Z"
   },
   {
    "duration": 3,
    "start_time": "2025-04-05T08:50:52.826Z"
   },
   {
    "duration": 404,
    "start_time": "2025-04-05T08:50:52.831Z"
   },
   {
    "duration": 0,
    "start_time": "2025-04-05T08:50:53.237Z"
   },
   {
    "duration": 3,
    "start_time": "2025-04-05T08:51:42.401Z"
   },
   {
    "duration": 13,
    "start_time": "2025-04-05T08:51:56.467Z"
   },
   {
    "duration": 3,
    "start_time": "2025-04-05T08:52:34.041Z"
   },
   {
    "duration": 36,
    "start_time": "2025-04-05T08:52:34.046Z"
   },
   {
    "duration": 16,
    "start_time": "2025-04-05T08:52:34.084Z"
   },
   {
    "duration": 7,
    "start_time": "2025-04-05T08:52:34.102Z"
   },
   {
    "duration": 5,
    "start_time": "2025-04-05T08:52:34.111Z"
   },
   {
    "duration": 85,
    "start_time": "2025-04-05T08:52:34.118Z"
   },
   {
    "duration": 9,
    "start_time": "2025-04-05T08:52:34.205Z"
   },
   {
    "duration": 17,
    "start_time": "2025-04-05T08:52:34.216Z"
   },
   {
    "duration": 5,
    "start_time": "2025-04-05T08:52:34.234Z"
   },
   {
    "duration": 47,
    "start_time": "2025-04-05T08:52:34.241Z"
   },
   {
    "duration": 14,
    "start_time": "2025-04-05T08:52:34.289Z"
   },
   {
    "duration": 12,
    "start_time": "2025-04-05T08:52:34.305Z"
   },
   {
    "duration": 7,
    "start_time": "2025-04-05T08:52:34.319Z"
   },
   {
    "duration": 3,
    "start_time": "2025-04-05T08:52:34.330Z"
   },
   {
    "duration": 5,
    "start_time": "2025-04-05T08:52:34.335Z"
   },
   {
    "duration": 58,
    "start_time": "2025-04-05T08:52:34.341Z"
   },
   {
    "duration": 14,
    "start_time": "2025-04-05T08:52:34.401Z"
   },
   {
    "duration": 12,
    "start_time": "2025-04-05T08:52:34.417Z"
   },
   {
    "duration": 10,
    "start_time": "2025-04-05T08:52:34.431Z"
   },
   {
    "duration": 4,
    "start_time": "2025-04-05T08:52:34.443Z"
   },
   {
    "duration": 5,
    "start_time": "2025-04-05T08:52:34.448Z"
   },
   {
    "duration": 27,
    "start_time": "2025-04-05T08:52:34.487Z"
   },
   {
    "duration": 11,
    "start_time": "2025-04-05T08:52:34.515Z"
   },
   {
    "duration": 5,
    "start_time": "2025-04-05T08:52:34.528Z"
   },
   {
    "duration": 4,
    "start_time": "2025-04-05T08:52:34.535Z"
   },
   {
    "duration": 47,
    "start_time": "2025-04-05T08:52:34.541Z"
   },
   {
    "duration": 15,
    "start_time": "2025-04-05T08:52:34.590Z"
   },
   {
    "duration": 17,
    "start_time": "2025-04-05T08:52:34.607Z"
   },
   {
    "duration": 26,
    "start_time": "2025-04-05T08:52:34.626Z"
   },
   {
    "duration": 35,
    "start_time": "2025-04-05T08:52:34.654Z"
   },
   {
    "duration": 16,
    "start_time": "2025-04-05T08:52:34.691Z"
   },
   {
    "duration": 35,
    "start_time": "2025-04-05T08:52:34.709Z"
   },
   {
    "duration": 58,
    "start_time": "2025-04-05T08:52:34.746Z"
   },
   {
    "duration": 3,
    "start_time": "2025-04-05T08:52:34.806Z"
   },
   {
    "duration": 40,
    "start_time": "2025-04-05T08:52:34.811Z"
   },
   {
    "duration": 0,
    "start_time": "2025-04-05T08:52:34.853Z"
   },
   {
    "duration": 0,
    "start_time": "2025-04-05T08:52:34.855Z"
   },
   {
    "duration": 3,
    "start_time": "2025-04-05T08:53:27.288Z"
   },
   {
    "duration": 34,
    "start_time": "2025-04-05T08:53:27.293Z"
   },
   {
    "duration": 17,
    "start_time": "2025-04-05T08:53:27.329Z"
   },
   {
    "duration": 8,
    "start_time": "2025-04-05T08:53:27.348Z"
   },
   {
    "duration": 7,
    "start_time": "2025-04-05T08:53:27.386Z"
   },
   {
    "duration": 65,
    "start_time": "2025-04-05T08:53:27.395Z"
   },
   {
    "duration": 30,
    "start_time": "2025-04-05T08:53:27.463Z"
   },
   {
    "duration": 16,
    "start_time": "2025-04-05T08:53:27.495Z"
   },
   {
    "duration": 4,
    "start_time": "2025-04-05T08:53:27.513Z"
   },
   {
    "duration": 13,
    "start_time": "2025-04-05T08:53:27.519Z"
   },
   {
    "duration": 15,
    "start_time": "2025-04-05T08:53:27.534Z"
   },
   {
    "duration": 13,
    "start_time": "2025-04-05T08:53:27.587Z"
   },
   {
    "duration": 8,
    "start_time": "2025-04-05T08:53:27.602Z"
   },
   {
    "duration": 5,
    "start_time": "2025-04-05T08:53:27.614Z"
   },
   {
    "duration": 4,
    "start_time": "2025-04-05T08:53:27.620Z"
   },
   {
    "duration": 21,
    "start_time": "2025-04-05T08:53:27.626Z"
   },
   {
    "duration": 48,
    "start_time": "2025-04-05T08:53:27.649Z"
   },
   {
    "duration": 12,
    "start_time": "2025-04-05T08:53:27.699Z"
   },
   {
    "duration": 12,
    "start_time": "2025-04-05T08:53:27.712Z"
   },
   {
    "duration": 4,
    "start_time": "2025-04-05T08:53:27.726Z"
   },
   {
    "duration": 5,
    "start_time": "2025-04-05T08:53:27.732Z"
   },
   {
    "duration": 55,
    "start_time": "2025-04-05T08:53:27.739Z"
   },
   {
    "duration": 11,
    "start_time": "2025-04-05T08:53:27.796Z"
   },
   {
    "duration": 6,
    "start_time": "2025-04-05T08:53:27.809Z"
   },
   {
    "duration": 4,
    "start_time": "2025-04-05T08:53:27.817Z"
   },
   {
    "duration": 11,
    "start_time": "2025-04-05T08:53:27.823Z"
   },
   {
    "duration": 53,
    "start_time": "2025-04-05T08:53:27.836Z"
   },
   {
    "duration": 18,
    "start_time": "2025-04-05T08:53:27.891Z"
   },
   {
    "duration": 27,
    "start_time": "2025-04-05T08:53:27.911Z"
   },
   {
    "duration": 6,
    "start_time": "2025-04-05T08:53:27.940Z"
   },
   {
    "duration": 47,
    "start_time": "2025-04-05T08:53:27.948Z"
   },
   {
    "duration": 34,
    "start_time": "2025-04-05T08:53:27.997Z"
   },
   {
    "duration": 35,
    "start_time": "2025-04-05T08:53:28.032Z"
   },
   {
    "duration": 21,
    "start_time": "2025-04-05T08:53:28.068Z"
   },
   {
    "duration": 5,
    "start_time": "2025-04-05T08:53:28.091Z"
   },
   {
    "duration": 10,
    "start_time": "2025-04-05T08:53:28.098Z"
   },
   {
    "duration": 21,
    "start_time": "2025-04-05T08:53:28.109Z"
   },
   {
    "duration": 14,
    "start_time": "2025-04-05T08:54:00.421Z"
   },
   {
    "duration": 2,
    "start_time": "2025-04-05T08:54:26.238Z"
   },
   {
    "duration": 34,
    "start_time": "2025-04-05T08:54:26.245Z"
   },
   {
    "duration": 17,
    "start_time": "2025-04-05T08:54:26.282Z"
   },
   {
    "duration": 7,
    "start_time": "2025-04-05T08:54:26.301Z"
   },
   {
    "duration": 5,
    "start_time": "2025-04-05T08:54:26.310Z"
   },
   {
    "duration": 87,
    "start_time": "2025-04-05T08:54:26.317Z"
   },
   {
    "duration": 9,
    "start_time": "2025-04-05T08:54:26.407Z"
   },
   {
    "duration": 16,
    "start_time": "2025-04-05T08:54:26.417Z"
   },
   {
    "duration": 4,
    "start_time": "2025-04-05T08:54:26.435Z"
   },
   {
    "duration": 47,
    "start_time": "2025-04-05T08:54:26.441Z"
   },
   {
    "duration": 14,
    "start_time": "2025-04-05T08:54:26.490Z"
   },
   {
    "duration": 11,
    "start_time": "2025-04-05T08:54:26.506Z"
   },
   {
    "duration": 7,
    "start_time": "2025-04-05T08:54:26.519Z"
   },
   {
    "duration": 3,
    "start_time": "2025-04-05T08:54:26.528Z"
   },
   {
    "duration": 4,
    "start_time": "2025-04-05T08:54:26.535Z"
   },
   {
    "duration": 58,
    "start_time": "2025-04-05T08:54:26.541Z"
   },
   {
    "duration": 15,
    "start_time": "2025-04-05T08:54:26.601Z"
   },
   {
    "duration": 12,
    "start_time": "2025-04-05T08:54:26.618Z"
   },
   {
    "duration": 11,
    "start_time": "2025-04-05T08:54:26.632Z"
   },
   {
    "duration": 4,
    "start_time": "2025-04-05T08:54:26.644Z"
   },
   {
    "duration": 38,
    "start_time": "2025-04-05T08:54:26.650Z"
   },
   {
    "duration": 26,
    "start_time": "2025-04-05T08:54:26.690Z"
   },
   {
    "duration": 11,
    "start_time": "2025-04-05T08:54:26.718Z"
   },
   {
    "duration": 5,
    "start_time": "2025-04-05T08:54:26.730Z"
   },
   {
    "duration": 6,
    "start_time": "2025-04-05T08:54:26.736Z"
   },
   {
    "duration": 45,
    "start_time": "2025-04-05T08:54:26.743Z"
   },
   {
    "duration": 15,
    "start_time": "2025-04-05T08:54:26.790Z"
   },
   {
    "duration": 17,
    "start_time": "2025-04-05T08:54:26.807Z"
   },
   {
    "duration": 26,
    "start_time": "2025-04-05T08:54:26.826Z"
   },
   {
    "duration": 35,
    "start_time": "2025-04-05T08:54:26.853Z"
   },
   {
    "duration": 16,
    "start_time": "2025-04-05T08:54:26.890Z"
   },
   {
    "duration": 34,
    "start_time": "2025-04-05T08:54:26.908Z"
   },
   {
    "duration": 59,
    "start_time": "2025-04-05T08:54:26.944Z"
   },
   {
    "duration": 4,
    "start_time": "2025-04-05T08:54:27.006Z"
   },
   {
    "duration": 4,
    "start_time": "2025-04-05T08:54:27.012Z"
   },
   {
    "duration": 10,
    "start_time": "2025-04-05T08:54:27.018Z"
   },
   {
    "duration": 16,
    "start_time": "2025-04-05T08:54:27.030Z"
   },
   {
    "duration": 2462,
    "start_time": "2025-04-05T08:58:27.048Z"
   },
   {
    "duration": 36,
    "start_time": "2025-04-05T08:58:29.513Z"
   },
   {
    "duration": 18,
    "start_time": "2025-04-05T08:58:29.551Z"
   },
   {
    "duration": 21,
    "start_time": "2025-04-05T08:58:29.571Z"
   },
   {
    "duration": 6,
    "start_time": "2025-04-05T08:58:29.594Z"
   },
   {
    "duration": 66,
    "start_time": "2025-04-05T08:58:29.602Z"
   },
   {
    "duration": 10,
    "start_time": "2025-04-05T08:58:29.686Z"
   },
   {
    "duration": 17,
    "start_time": "2025-04-05T08:58:29.698Z"
   },
   {
    "duration": 5,
    "start_time": "2025-04-05T08:58:29.717Z"
   },
   {
    "duration": 16,
    "start_time": "2025-04-05T08:58:29.725Z"
   },
   {
    "duration": 53,
    "start_time": "2025-04-05T08:58:29.743Z"
   },
   {
    "duration": 12,
    "start_time": "2025-04-05T08:58:29.798Z"
   },
   {
    "duration": 9,
    "start_time": "2025-04-05T08:58:29.811Z"
   },
   {
    "duration": 6,
    "start_time": "2025-04-05T08:58:29.823Z"
   },
   {
    "duration": 5,
    "start_time": "2025-04-05T08:58:29.831Z"
   },
   {
    "duration": 54,
    "start_time": "2025-04-05T08:58:29.837Z"
   },
   {
    "duration": 16,
    "start_time": "2025-04-05T08:58:29.893Z"
   },
   {
    "duration": 13,
    "start_time": "2025-04-05T08:58:29.911Z"
   },
   {
    "duration": 11,
    "start_time": "2025-04-05T08:58:29.925Z"
   },
   {
    "duration": 4,
    "start_time": "2025-04-05T08:58:29.938Z"
   },
   {
    "duration": 42,
    "start_time": "2025-04-05T08:58:29.944Z"
   },
   {
    "duration": 28,
    "start_time": "2025-04-05T08:58:29.988Z"
   },
   {
    "duration": 11,
    "start_time": "2025-04-05T08:58:30.017Z"
   },
   {
    "duration": 6,
    "start_time": "2025-04-05T08:58:30.031Z"
   },
   {
    "duration": 5,
    "start_time": "2025-04-05T08:58:30.039Z"
   },
   {
    "duration": 43,
    "start_time": "2025-04-05T08:58:30.045Z"
   },
   {
    "duration": 15,
    "start_time": "2025-04-05T08:58:30.090Z"
   },
   {
    "duration": 17,
    "start_time": "2025-04-05T08:58:30.107Z"
   },
   {
    "duration": 27,
    "start_time": "2025-04-05T08:58:30.126Z"
   },
   {
    "duration": 36,
    "start_time": "2025-04-05T08:58:30.154Z"
   },
   {
    "duration": 16,
    "start_time": "2025-04-05T08:58:30.192Z"
   },
   {
    "duration": 34,
    "start_time": "2025-04-05T08:58:30.210Z"
   },
   {
    "duration": 60,
    "start_time": "2025-04-05T08:58:30.246Z"
   },
   {
    "duration": 4,
    "start_time": "2025-04-05T08:58:30.308Z"
   },
   {
    "duration": 4,
    "start_time": "2025-04-05T08:58:30.314Z"
   },
   {
    "duration": 10,
    "start_time": "2025-04-05T08:58:30.320Z"
   },
   {
    "duration": 17,
    "start_time": "2025-04-05T08:58:30.332Z"
   },
   {
    "duration": 662,
    "start_time": "2025-04-05T08:58:30.353Z"
   },
   {
    "duration": 240,
    "start_time": "2025-04-05T08:58:31.017Z"
   },
   {
    "duration": 280,
    "start_time": "2025-04-05T08:58:31.259Z"
   },
   {
    "duration": 160,
    "start_time": "2025-04-05T08:58:31.543Z"
   },
   {
    "duration": 357,
    "start_time": "2025-04-05T08:58:31.705Z"
   },
   {
    "duration": 305,
    "start_time": "2025-04-05T08:58:32.067Z"
   },
   {
    "duration": 133,
    "start_time": "2025-04-05T08:58:32.374Z"
   },
   {
    "duration": 239,
    "start_time": "2025-04-05T09:00:18.885Z"
   },
   {
    "duration": 158,
    "start_time": "2025-04-07T04:16:30.079Z"
   },
   {
    "duration": 3269,
    "start_time": "2025-04-07T04:16:33.633Z"
   },
   {
    "duration": 64,
    "start_time": "2025-04-07T04:16:36.904Z"
   },
   {
    "duration": 19,
    "start_time": "2025-04-07T04:16:36.969Z"
   },
   {
    "duration": 7,
    "start_time": "2025-04-07T04:16:36.990Z"
   },
   {
    "duration": 5,
    "start_time": "2025-04-07T04:16:36.999Z"
   },
   {
    "duration": 85,
    "start_time": "2025-04-07T04:16:37.005Z"
   },
   {
    "duration": 9,
    "start_time": "2025-04-07T04:16:37.092Z"
   },
   {
    "duration": 15,
    "start_time": "2025-04-07T04:16:37.103Z"
   },
   {
    "duration": 4,
    "start_time": "2025-04-07T04:16:37.120Z"
   },
   {
    "duration": 43,
    "start_time": "2025-04-07T04:16:37.127Z"
   },
   {
    "duration": 17,
    "start_time": "2025-04-07T04:16:37.172Z"
   },
   {
    "duration": 11,
    "start_time": "2025-04-07T04:16:37.191Z"
   },
   {
    "duration": 8,
    "start_time": "2025-04-07T04:16:37.204Z"
   },
   {
    "duration": 4,
    "start_time": "2025-04-07T04:16:37.214Z"
   },
   {
    "duration": 4,
    "start_time": "2025-04-07T04:16:37.219Z"
   },
   {
    "duration": 54,
    "start_time": "2025-04-07T04:16:37.224Z"
   },
   {
    "duration": 15,
    "start_time": "2025-04-07T04:16:37.279Z"
   },
   {
    "duration": 11,
    "start_time": "2025-04-07T04:16:37.296Z"
   },
   {
    "duration": 10,
    "start_time": "2025-04-07T04:16:37.309Z"
   },
   {
    "duration": 5,
    "start_time": "2025-04-07T04:16:37.320Z"
   },
   {
    "duration": 3,
    "start_time": "2025-04-07T04:16:37.327Z"
   },
   {
    "duration": 61,
    "start_time": "2025-04-07T04:16:37.332Z"
   },
   {
    "duration": 11,
    "start_time": "2025-04-07T04:16:37.394Z"
   },
   {
    "duration": 5,
    "start_time": "2025-04-07T04:16:37.407Z"
   },
   {
    "duration": 3,
    "start_time": "2025-04-07T04:16:37.414Z"
   },
   {
    "duration": 10,
    "start_time": "2025-04-07T04:16:37.419Z"
   },
   {
    "duration": 51,
    "start_time": "2025-04-07T04:16:37.430Z"
   },
   {
    "duration": 16,
    "start_time": "2025-04-07T04:16:37.485Z"
   },
   {
    "duration": 24,
    "start_time": "2025-04-07T04:16:37.503Z"
   },
   {
    "duration": 7,
    "start_time": "2025-04-07T04:16:37.529Z"
   },
   {
    "duration": 39,
    "start_time": "2025-04-07T04:16:37.537Z"
   },
   {
    "duration": 34,
    "start_time": "2025-04-07T04:16:37.577Z"
   },
   {
    "duration": 64,
    "start_time": "2025-04-07T04:16:37.613Z"
   },
   {
    "duration": 3,
    "start_time": "2025-04-07T04:16:37.679Z"
   },
   {
    "duration": 4,
    "start_time": "2025-04-07T04:16:37.684Z"
   },
   {
    "duration": 5,
    "start_time": "2025-04-07T04:16:37.689Z"
   },
   {
    "duration": 10,
    "start_time": "2025-04-07T04:16:37.695Z"
   },
   {
    "duration": 19,
    "start_time": "2025-04-07T04:16:37.706Z"
   },
   {
    "duration": 599,
    "start_time": "2025-04-07T04:16:37.727Z"
   },
   {
    "duration": 222,
    "start_time": "2025-04-07T04:16:38.328Z"
   },
   {
    "duration": 278,
    "start_time": "2025-04-07T04:16:38.551Z"
   },
   {
    "duration": 155,
    "start_time": "2025-04-07T04:16:38.830Z"
   },
   {
    "duration": 279,
    "start_time": "2025-04-07T04:16:38.987Z"
   },
   {
    "duration": 279,
    "start_time": "2025-04-07T04:16:39.270Z"
   },
   {
    "duration": 256,
    "start_time": "2025-04-07T04:16:39.551Z"
   },
   {
    "duration": 287,
    "start_time": "2025-04-07T04:28:36.161Z"
   },
   {
    "duration": 267,
    "start_time": "2025-04-07T04:28:40.519Z"
   },
   {
    "duration": 104,
    "start_time": "2025-04-07T04:38:14.039Z"
   },
   {
    "duration": 110,
    "start_time": "2025-04-07T04:38:19.209Z"
   },
   {
    "duration": 118,
    "start_time": "2025-04-07T04:43:59.107Z"
   },
   {
    "duration": 130,
    "start_time": "2025-04-07T04:49:47.269Z"
   },
   {
    "duration": 102,
    "start_time": "2025-04-07T04:51:08.447Z"
   },
   {
    "duration": 108,
    "start_time": "2025-04-07T04:52:37.752Z"
   },
   {
    "duration": 298,
    "start_time": "2025-04-07T04:57:01.475Z"
   },
   {
    "duration": 201,
    "start_time": "2025-04-07T05:07:54.906Z"
   },
   {
    "duration": 2,
    "start_time": "2025-04-07T05:08:38.583Z"
   },
   {
    "duration": 34,
    "start_time": "2025-04-07T05:08:38.590Z"
   },
   {
    "duration": 20,
    "start_time": "2025-04-07T05:08:38.626Z"
   },
   {
    "duration": 10,
    "start_time": "2025-04-07T05:08:38.648Z"
   },
   {
    "duration": 10,
    "start_time": "2025-04-07T05:08:38.660Z"
   },
   {
    "duration": 65,
    "start_time": "2025-04-07T05:08:38.673Z"
   },
   {
    "duration": 9,
    "start_time": "2025-04-07T05:08:38.740Z"
   },
   {
    "duration": 18,
    "start_time": "2025-04-07T05:08:38.770Z"
   },
   {
    "duration": 4,
    "start_time": "2025-04-07T05:08:38.790Z"
   },
   {
    "duration": 13,
    "start_time": "2025-04-07T05:08:38.796Z"
   },
   {
    "duration": 14,
    "start_time": "2025-04-07T05:08:38.811Z"
   },
   {
    "duration": 48,
    "start_time": "2025-04-07T05:08:38.827Z"
   },
   {
    "duration": 9,
    "start_time": "2025-04-07T05:08:38.877Z"
   },
   {
    "duration": 5,
    "start_time": "2025-04-07T05:08:38.890Z"
   },
   {
    "duration": 4,
    "start_time": "2025-04-07T05:08:38.899Z"
   },
   {
    "duration": 18,
    "start_time": "2025-04-07T05:08:38.905Z"
   },
   {
    "duration": 14,
    "start_time": "2025-04-07T05:08:38.925Z"
   },
   {
    "duration": 43,
    "start_time": "2025-04-07T05:08:38.940Z"
   },
   {
    "duration": 12,
    "start_time": "2025-04-07T05:08:38.984Z"
   },
   {
    "duration": 4,
    "start_time": "2025-04-07T05:08:38.997Z"
   },
   {
    "duration": 5,
    "start_time": "2025-04-07T05:08:39.003Z"
   },
   {
    "duration": 25,
    "start_time": "2025-04-07T05:08:39.009Z"
   },
   {
    "duration": 44,
    "start_time": "2025-04-07T05:08:39.036Z"
   },
   {
    "duration": 7,
    "start_time": "2025-04-07T05:08:39.081Z"
   },
   {
    "duration": 4,
    "start_time": "2025-04-07T05:08:39.090Z"
   },
   {
    "duration": 10,
    "start_time": "2025-04-07T05:08:39.096Z"
   },
   {
    "duration": 15,
    "start_time": "2025-04-07T05:08:39.107Z"
   },
   {
    "duration": 49,
    "start_time": "2025-04-07T05:08:39.124Z"
   },
   {
    "duration": 25,
    "start_time": "2025-04-07T05:08:39.175Z"
   },
   {
    "duration": 6,
    "start_time": "2025-04-07T05:08:39.203Z"
   },
   {
    "duration": 17,
    "start_time": "2025-04-07T05:08:39.211Z"
   },
   {
    "duration": 73,
    "start_time": "2025-04-07T05:08:39.229Z"
   },
   {
    "duration": 39,
    "start_time": "2025-04-07T05:08:39.303Z"
   },
   {
    "duration": 3,
    "start_time": "2025-04-07T05:08:39.344Z"
   },
   {
    "duration": 3,
    "start_time": "2025-04-07T05:08:39.349Z"
   },
   {
    "duration": 6,
    "start_time": "2025-04-07T05:08:39.370Z"
   },
   {
    "duration": 11,
    "start_time": "2025-04-07T05:08:39.379Z"
   },
   {
    "duration": 15,
    "start_time": "2025-04-07T05:08:39.392Z"
   },
   {
    "duration": 302,
    "start_time": "2025-04-07T05:08:39.409Z"
   },
   {
    "duration": 268,
    "start_time": "2025-04-07T05:08:39.713Z"
   },
   {
    "duration": 132,
    "start_time": "2025-04-07T05:08:39.984Z"
   },
   {
    "duration": 114,
    "start_time": "2025-04-07T05:08:40.123Z"
   },
   {
    "duration": 290,
    "start_time": "2025-04-07T05:08:40.239Z"
   },
   {
    "duration": 158,
    "start_time": "2025-04-07T05:08:40.531Z"
   },
   {
    "duration": 149,
    "start_time": "2025-04-07T05:08:40.690Z"
   },
   {
    "duration": 236,
    "start_time": "2025-04-07T05:08:40.841Z"
   },
   {
    "duration": 382,
    "start_time": "2025-04-07T05:08:41.079Z"
   },
   {
    "duration": 248,
    "start_time": "2025-04-07T05:08:41.463Z"
   },
   {
    "duration": 160,
    "start_time": "2025-04-07T06:16:34.225Z"
   },
   {
    "duration": 2535,
    "start_time": "2025-04-07T06:16:44.809Z"
   },
   {
    "duration": 69,
    "start_time": "2025-04-07T06:16:47.346Z"
   },
   {
    "duration": 18,
    "start_time": "2025-04-07T06:16:47.416Z"
   },
   {
    "duration": 8,
    "start_time": "2025-04-07T06:16:47.436Z"
   },
   {
    "duration": 5,
    "start_time": "2025-04-07T06:16:47.446Z"
   },
   {
    "duration": 80,
    "start_time": "2025-04-07T06:16:47.452Z"
   },
   {
    "duration": 8,
    "start_time": "2025-04-07T06:16:47.534Z"
   },
   {
    "duration": 17,
    "start_time": "2025-04-07T06:16:47.544Z"
   },
   {
    "duration": 4,
    "start_time": "2025-04-07T06:16:47.562Z"
   },
   {
    "duration": 42,
    "start_time": "2025-04-07T06:16:47.568Z"
   },
   {
    "duration": 12,
    "start_time": "2025-04-07T06:16:47.611Z"
   },
   {
    "duration": 10,
    "start_time": "2025-04-07T06:16:47.625Z"
   },
   {
    "duration": 8,
    "start_time": "2025-04-07T06:16:47.637Z"
   },
   {
    "duration": 3,
    "start_time": "2025-04-07T06:16:47.649Z"
   },
   {
    "duration": 4,
    "start_time": "2025-04-07T06:16:47.654Z"
   },
   {
    "duration": 54,
    "start_time": "2025-04-07T06:16:47.660Z"
   },
   {
    "duration": 14,
    "start_time": "2025-04-07T06:16:47.716Z"
   },
   {
    "duration": 12,
    "start_time": "2025-04-07T06:16:47.732Z"
   },
   {
    "duration": 9,
    "start_time": "2025-04-07T06:16:47.746Z"
   },
   {
    "duration": 3,
    "start_time": "2025-04-07T06:16:47.757Z"
   },
   {
    "duration": 3,
    "start_time": "2025-04-07T06:16:47.763Z"
   },
   {
    "duration": 56,
    "start_time": "2025-04-07T06:16:47.768Z"
   },
   {
    "duration": 11,
    "start_time": "2025-04-07T06:16:47.825Z"
   },
   {
    "duration": 4,
    "start_time": "2025-04-07T06:16:47.838Z"
   },
   {
    "duration": 4,
    "start_time": "2025-04-07T06:16:47.844Z"
   },
   {
    "duration": 10,
    "start_time": "2025-04-07T06:16:47.849Z"
   },
   {
    "duration": 13,
    "start_time": "2025-04-07T06:16:47.860Z"
   },
   {
    "duration": 17,
    "start_time": "2025-04-07T06:16:47.909Z"
   },
   {
    "duration": 23,
    "start_time": "2025-04-07T06:16:47.927Z"
   },
   {
    "duration": 5,
    "start_time": "2025-04-07T06:16:47.952Z"
   },
   {
    "duration": 14,
    "start_time": "2025-04-07T06:16:47.959Z"
   },
   {
    "duration": 61,
    "start_time": "2025-04-07T06:16:47.975Z"
   },
   {
    "duration": 32,
    "start_time": "2025-04-07T06:16:48.038Z"
   },
   {
    "duration": 3,
    "start_time": "2025-04-07T06:16:48.072Z"
   },
   {
    "duration": 4,
    "start_time": "2025-04-07T06:16:48.077Z"
   },
   {
    "duration": 27,
    "start_time": "2025-04-07T06:16:48.083Z"
   },
   {
    "duration": 9,
    "start_time": "2025-04-07T06:16:48.111Z"
   },
   {
    "duration": 16,
    "start_time": "2025-04-07T06:16:48.122Z"
   },
   {
    "duration": 301,
    "start_time": "2025-04-07T06:16:48.140Z"
   },
   {
    "duration": 294,
    "start_time": "2025-04-07T06:16:48.443Z"
   },
   {
    "duration": 130,
    "start_time": "2025-04-07T06:16:48.741Z"
   },
   {
    "duration": 117,
    "start_time": "2025-04-07T06:16:48.873Z"
   },
   {
    "duration": 327,
    "start_time": "2025-04-07T06:16:48.992Z"
   },
   {
    "duration": 137,
    "start_time": "2025-04-07T06:16:49.320Z"
   },
   {
    "duration": 266,
    "start_time": "2025-04-07T06:16:49.458Z"
   },
   {
    "duration": 216,
    "start_time": "2025-04-07T06:16:49.726Z"
   },
   {
    "duration": 131,
    "start_time": "2025-04-07T06:21:49.537Z"
   },
   {
    "duration": 2,
    "start_time": "2025-04-07T06:22:09.606Z"
   },
   {
    "duration": 32,
    "start_time": "2025-04-07T06:22:09.612Z"
   },
   {
    "duration": 18,
    "start_time": "2025-04-07T06:22:09.647Z"
   },
   {
    "duration": 8,
    "start_time": "2025-04-07T06:22:09.668Z"
   },
   {
    "duration": 5,
    "start_time": "2025-04-07T06:22:09.678Z"
   },
   {
    "duration": 74,
    "start_time": "2025-04-07T06:22:09.711Z"
   },
   {
    "duration": 30,
    "start_time": "2025-04-07T06:22:09.786Z"
   },
   {
    "duration": 14,
    "start_time": "2025-04-07T06:22:09.818Z"
   },
   {
    "duration": 5,
    "start_time": "2025-04-07T06:22:09.834Z"
   },
   {
    "duration": 11,
    "start_time": "2025-04-07T06:22:09.841Z"
   },
   {
    "duration": 11,
    "start_time": "2025-04-07T06:22:09.854Z"
   },
   {
    "duration": 46,
    "start_time": "2025-04-07T06:22:09.867Z"
   },
   {
    "duration": 8,
    "start_time": "2025-04-07T06:22:09.914Z"
   },
   {
    "duration": 4,
    "start_time": "2025-04-07T06:22:09.924Z"
   },
   {
    "duration": 4,
    "start_time": "2025-04-07T06:22:09.932Z"
   },
   {
    "duration": 18,
    "start_time": "2025-04-07T06:22:09.937Z"
   },
   {
    "duration": 14,
    "start_time": "2025-04-07T06:22:09.956Z"
   },
   {
    "duration": 48,
    "start_time": "2025-04-07T06:22:09.971Z"
   },
   {
    "duration": 10,
    "start_time": "2025-04-07T06:22:10.021Z"
   },
   {
    "duration": 3,
    "start_time": "2025-04-07T06:22:10.033Z"
   },
   {
    "duration": 4,
    "start_time": "2025-04-07T06:22:10.037Z"
   },
   {
    "duration": 23,
    "start_time": "2025-04-07T06:22:10.042Z"
   },
   {
    "duration": 11,
    "start_time": "2025-04-07T06:22:10.067Z"
   },
   {
    "duration": 4,
    "start_time": "2025-04-07T06:22:10.110Z"
   },
   {
    "duration": 3,
    "start_time": "2025-04-07T06:22:10.116Z"
   },
   {
    "duration": 9,
    "start_time": "2025-04-07T06:22:10.121Z"
   },
   {
    "duration": 13,
    "start_time": "2025-04-07T06:22:10.132Z"
   },
   {
    "duration": 20,
    "start_time": "2025-04-07T06:22:10.146Z"
   },
   {
    "duration": 56,
    "start_time": "2025-04-07T06:22:10.168Z"
   },
   {
    "duration": 6,
    "start_time": "2025-04-07T06:22:10.227Z"
   },
   {
    "duration": 13,
    "start_time": "2025-04-07T06:22:10.235Z"
   },
   {
    "duration": 32,
    "start_time": "2025-04-07T06:22:10.250Z"
   },
   {
    "duration": 32,
    "start_time": "2025-04-07T06:22:10.309Z"
   },
   {
    "duration": 3,
    "start_time": "2025-04-07T06:22:10.343Z"
   },
   {
    "duration": 4,
    "start_time": "2025-04-07T06:22:10.348Z"
   },
   {
    "duration": 4,
    "start_time": "2025-04-07T06:22:10.353Z"
   },
   {
    "duration": 9,
    "start_time": "2025-04-07T06:22:10.359Z"
   },
   {
    "duration": 47,
    "start_time": "2025-04-07T06:22:10.370Z"
   },
   {
    "duration": 309,
    "start_time": "2025-04-07T06:22:10.419Z"
   },
   {
    "duration": 294,
    "start_time": "2025-04-07T06:22:10.729Z"
   },
   {
    "duration": 131,
    "start_time": "2025-04-07T06:22:11.024Z"
   },
   {
    "duration": 114,
    "start_time": "2025-04-07T06:22:11.160Z"
   },
   {
    "duration": 269,
    "start_time": "2025-04-07T06:22:11.276Z"
   },
   {
    "duration": 134,
    "start_time": "2025-04-07T06:22:11.547Z"
   },
   {
    "duration": 275,
    "start_time": "2025-04-07T06:22:11.683Z"
   },
   {
    "duration": 199,
    "start_time": "2025-04-07T06:22:11.959Z"
   },
   {
    "duration": 2,
    "start_time": "2025-04-07T06:23:52.901Z"
   },
   {
    "duration": 31,
    "start_time": "2025-04-07T06:23:52.907Z"
   },
   {
    "duration": 15,
    "start_time": "2025-04-07T06:23:52.941Z"
   },
   {
    "duration": 6,
    "start_time": "2025-04-07T06:23:52.958Z"
   },
   {
    "duration": 6,
    "start_time": "2025-04-07T06:23:52.966Z"
   },
   {
    "duration": 90,
    "start_time": "2025-04-07T06:23:52.974Z"
   },
   {
    "duration": 9,
    "start_time": "2025-04-07T06:23:53.065Z"
   },
   {
    "duration": 36,
    "start_time": "2025-04-07T06:23:53.075Z"
   },
   {
    "duration": 5,
    "start_time": "2025-04-07T06:23:53.112Z"
   },
   {
    "duration": 12,
    "start_time": "2025-04-07T06:23:53.120Z"
   },
   {
    "duration": 12,
    "start_time": "2025-04-07T06:23:53.135Z"
   },
   {
    "duration": 12,
    "start_time": "2025-04-07T06:23:53.149Z"
   },
   {
    "duration": 8,
    "start_time": "2025-04-07T06:23:53.162Z"
   },
   {
    "duration": 39,
    "start_time": "2025-04-07T06:23:53.172Z"
   },
   {
    "duration": 4,
    "start_time": "2025-04-07T06:23:53.213Z"
   },
   {
    "duration": 20,
    "start_time": "2025-04-07T06:23:53.218Z"
   },
   {
    "duration": 15,
    "start_time": "2025-04-07T06:23:53.239Z"
   },
   {
    "duration": 12,
    "start_time": "2025-04-07T06:23:53.256Z"
   },
   {
    "duration": 40,
    "start_time": "2025-04-07T06:23:53.270Z"
   },
   {
    "duration": 3,
    "start_time": "2025-04-07T06:23:53.312Z"
   },
   {
    "duration": 4,
    "start_time": "2025-04-07T06:23:53.316Z"
   },
   {
    "duration": 22,
    "start_time": "2025-04-07T06:23:53.322Z"
   },
   {
    "duration": 10,
    "start_time": "2025-04-07T06:23:53.346Z"
   },
   {
    "duration": 5,
    "start_time": "2025-04-07T06:23:53.358Z"
   },
   {
    "duration": 3,
    "start_time": "2025-04-07T06:23:53.367Z"
   },
   {
    "duration": 47,
    "start_time": "2025-04-07T06:23:53.371Z"
   },
   {
    "duration": 14,
    "start_time": "2025-04-07T06:23:53.419Z"
   },
   {
    "duration": 16,
    "start_time": "2025-04-07T06:23:53.435Z"
   },
   {
    "duration": 54,
    "start_time": "2025-04-07T06:23:53.455Z"
   },
   {
    "duration": 6,
    "start_time": "2025-04-07T06:23:53.510Z"
   },
   {
    "duration": 14,
    "start_time": "2025-04-07T06:23:53.517Z"
   },
   {
    "duration": 32,
    "start_time": "2025-04-07T06:23:53.533Z"
   },
   {
    "duration": 56,
    "start_time": "2025-04-07T06:23:53.566Z"
   },
   {
    "duration": 3,
    "start_time": "2025-04-07T06:23:53.624Z"
   },
   {
    "duration": 5,
    "start_time": "2025-04-07T06:23:53.628Z"
   },
   {
    "duration": 4,
    "start_time": "2025-04-07T06:23:53.634Z"
   },
   {
    "duration": 9,
    "start_time": "2025-04-07T06:23:53.639Z"
   },
   {
    "duration": 17,
    "start_time": "2025-04-07T06:23:53.649Z"
   },
   {
    "duration": 4,
    "start_time": "2025-04-07T06:23:53.667Z"
   },
   {
    "duration": 300,
    "start_time": "2025-04-07T06:23:53.710Z"
   },
   {
    "duration": 302,
    "start_time": "2025-04-07T06:23:54.011Z"
   },
   {
    "duration": 123,
    "start_time": "2025-04-07T06:23:54.315Z"
   },
   {
    "duration": 111,
    "start_time": "2025-04-07T06:23:54.440Z"
   },
   {
    "duration": 280,
    "start_time": "2025-04-07T06:23:54.553Z"
   },
   {
    "duration": 127,
    "start_time": "2025-04-07T06:23:54.835Z"
   },
   {
    "duration": 209,
    "start_time": "2025-04-07T06:23:54.964Z"
   },
   {
    "duration": 261,
    "start_time": "2025-04-07T06:23:55.175Z"
   },
   {
    "duration": 11,
    "start_time": "2025-04-07T06:24:45.630Z"
   },
   {
    "duration": 193,
    "start_time": "2025-04-07T06:28:01.857Z"
   },
   {
    "duration": 124,
    "start_time": "2025-04-07T06:28:13.741Z"
   },
   {
    "duration": 122,
    "start_time": "2025-04-07T06:28:42.395Z"
   },
   {
    "duration": 128,
    "start_time": "2025-04-07T06:33:46.552Z"
   },
   {
    "duration": 297,
    "start_time": "2025-04-07T06:39:53.363Z"
   },
   {
    "duration": 5,
    "start_time": "2025-04-07T06:41:26.291Z"
   },
   {
    "duration": 124,
    "start_time": "2025-04-07T06:42:57.373Z"
   },
   {
    "duration": 313,
    "start_time": "2025-04-07T06:43:46.110Z"
   },
   {
    "duration": 2,
    "start_time": "2025-04-07T06:44:00.919Z"
   },
   {
    "duration": 36,
    "start_time": "2025-04-07T06:44:00.923Z"
   },
   {
    "duration": 17,
    "start_time": "2025-04-07T06:44:00.960Z"
   },
   {
    "duration": 7,
    "start_time": "2025-04-07T06:44:00.979Z"
   },
   {
    "duration": 6,
    "start_time": "2025-04-07T06:44:00.988Z"
   },
   {
    "duration": 77,
    "start_time": "2025-04-07T06:44:00.995Z"
   },
   {
    "duration": 8,
    "start_time": "2025-04-07T06:44:01.074Z"
   },
   {
    "duration": 35,
    "start_time": "2025-04-07T06:44:01.084Z"
   },
   {
    "duration": 4,
    "start_time": "2025-04-07T06:44:01.120Z"
   },
   {
    "duration": 12,
    "start_time": "2025-04-07T06:44:01.126Z"
   },
   {
    "duration": 12,
    "start_time": "2025-04-07T06:44:01.139Z"
   },
   {
    "duration": 10,
    "start_time": "2025-04-07T06:44:01.153Z"
   },
   {
    "duration": 44,
    "start_time": "2025-04-07T06:44:01.165Z"
   },
   {
    "duration": 3,
    "start_time": "2025-04-07T06:44:01.212Z"
   },
   {
    "duration": 4,
    "start_time": "2025-04-07T06:44:01.217Z"
   },
   {
    "duration": 18,
    "start_time": "2025-04-07T06:44:01.222Z"
   },
   {
    "duration": 14,
    "start_time": "2025-04-07T06:44:01.241Z"
   },
   {
    "duration": 12,
    "start_time": "2025-04-07T06:44:01.257Z"
   },
   {
    "duration": 46,
    "start_time": "2025-04-07T06:44:01.270Z"
   },
   {
    "duration": 4,
    "start_time": "2025-04-07T06:44:01.317Z"
   },
   {
    "duration": 3,
    "start_time": "2025-04-07T06:44:01.323Z"
   },
   {
    "duration": 23,
    "start_time": "2025-04-07T06:44:01.328Z"
   },
   {
    "duration": 11,
    "start_time": "2025-04-07T06:44:01.352Z"
   },
   {
    "duration": 4,
    "start_time": "2025-04-07T06:44:01.365Z"
   },
   {
    "duration": 40,
    "start_time": "2025-04-07T06:44:01.371Z"
   },
   {
    "duration": 10,
    "start_time": "2025-04-07T06:44:01.412Z"
   },
   {
    "duration": 13,
    "start_time": "2025-04-07T06:44:01.423Z"
   },
   {
    "duration": 16,
    "start_time": "2025-04-07T06:44:01.437Z"
   },
   {
    "duration": 54,
    "start_time": "2025-04-07T06:44:01.454Z"
   },
   {
    "duration": 6,
    "start_time": "2025-04-07T06:44:01.510Z"
   },
   {
    "duration": 14,
    "start_time": "2025-04-07T06:44:01.519Z"
   },
   {
    "duration": 32,
    "start_time": "2025-04-07T06:44:01.534Z"
   },
   {
    "duration": 61,
    "start_time": "2025-04-07T06:44:01.567Z"
   },
   {
    "duration": 4,
    "start_time": "2025-04-07T06:44:01.630Z"
   },
   {
    "duration": 5,
    "start_time": "2025-04-07T06:44:01.635Z"
   },
   {
    "duration": 5,
    "start_time": "2025-04-07T06:44:01.642Z"
   },
   {
    "duration": 10,
    "start_time": "2025-04-07T06:44:01.648Z"
   },
   {
    "duration": 19,
    "start_time": "2025-04-07T06:44:01.659Z"
   },
   {
    "duration": 300,
    "start_time": "2025-04-07T06:44:01.709Z"
   },
   {
    "duration": 296,
    "start_time": "2025-04-07T06:44:02.010Z"
   },
   {
    "duration": 119,
    "start_time": "2025-04-07T06:44:02.310Z"
   },
   {
    "duration": 117,
    "start_time": "2025-04-07T06:44:02.431Z"
   },
   {
    "duration": 282,
    "start_time": "2025-04-07T06:44:02.550Z"
   },
   {
    "duration": 131,
    "start_time": "2025-04-07T06:44:02.834Z"
   },
   {
    "duration": 262,
    "start_time": "2025-04-07T06:44:02.967Z"
   },
   {
    "duration": 4,
    "start_time": "2025-04-07T06:44:03.232Z"
   },
   {
    "duration": 138,
    "start_time": "2025-04-07T06:44:03.237Z"
   },
   {
    "duration": 213,
    "start_time": "2025-04-07T06:44:03.377Z"
   },
   {
    "duration": 352,
    "start_time": "2025-04-07T06:44:03.592Z"
   },
   {
    "duration": 2,
    "start_time": "2025-04-07T06:44:39.106Z"
   },
   {
    "duration": 34,
    "start_time": "2025-04-07T06:44:39.113Z"
   },
   {
    "duration": 16,
    "start_time": "2025-04-07T06:44:39.149Z"
   },
   {
    "duration": 7,
    "start_time": "2025-04-07T06:44:39.167Z"
   },
   {
    "duration": 32,
    "start_time": "2025-04-07T06:44:39.177Z"
   },
   {
    "duration": 66,
    "start_time": "2025-04-07T06:44:39.211Z"
   },
   {
    "duration": 8,
    "start_time": "2025-04-07T06:44:39.278Z"
   },
   {
    "duration": 14,
    "start_time": "2025-04-07T06:44:39.308Z"
   },
   {
    "duration": 4,
    "start_time": "2025-04-07T06:44:39.324Z"
   },
   {
    "duration": 117,
    "start_time": "2025-04-07T06:44:39.329Z"
   },
   {
    "duration": 12,
    "start_time": "2025-04-07T06:44:39.450Z"
   },
   {
    "duration": 12,
    "start_time": "2025-04-07T06:44:39.464Z"
   },
   {
    "duration": 8,
    "start_time": "2025-04-07T06:44:39.477Z"
   },
   {
    "duration": 3,
    "start_time": "2025-04-07T06:44:39.510Z"
   },
   {
    "duration": 3,
    "start_time": "2025-04-07T06:44:39.515Z"
   },
   {
    "duration": 18,
    "start_time": "2025-04-07T06:44:39.520Z"
   },
   {
    "duration": 13,
    "start_time": "2025-04-07T06:44:39.540Z"
   },
   {
    "duration": 12,
    "start_time": "2025-04-07T06:44:39.555Z"
   },
   {
    "duration": 43,
    "start_time": "2025-04-07T06:44:39.569Z"
   },
   {
    "duration": 4,
    "start_time": "2025-04-07T06:44:39.613Z"
   },
   {
    "duration": 3,
    "start_time": "2025-04-07T06:44:39.619Z"
   },
   {
    "duration": 23,
    "start_time": "2025-04-07T06:44:39.624Z"
   },
   {
    "duration": 10,
    "start_time": "2025-04-07T06:44:39.649Z"
   },
   {
    "duration": 6,
    "start_time": "2025-04-07T06:44:39.660Z"
   },
   {
    "duration": 3,
    "start_time": "2025-04-07T06:44:39.667Z"
   },
   {
    "duration": 11,
    "start_time": "2025-04-07T06:44:39.708Z"
   },
   {
    "duration": 13,
    "start_time": "2025-04-07T06:44:39.720Z"
   },
   {
    "duration": 15,
    "start_time": "2025-04-07T06:44:39.735Z"
   },
   {
    "duration": 59,
    "start_time": "2025-04-07T06:44:39.754Z"
   },
   {
    "duration": 6,
    "start_time": "2025-04-07T06:44:39.814Z"
   },
   {
    "duration": 13,
    "start_time": "2025-04-07T06:44:39.821Z"
   },
   {
    "duration": 32,
    "start_time": "2025-04-07T06:44:39.836Z"
   },
   {
    "duration": 57,
    "start_time": "2025-04-07T06:44:39.869Z"
   },
   {
    "duration": 3,
    "start_time": "2025-04-07T06:44:39.927Z"
   },
   {
    "duration": 4,
    "start_time": "2025-04-07T06:44:39.932Z"
   },
   {
    "duration": 4,
    "start_time": "2025-04-07T06:44:39.937Z"
   },
   {
    "duration": 9,
    "start_time": "2025-04-07T06:44:39.942Z"
   },
   {
    "duration": 17,
    "start_time": "2025-04-07T06:44:39.952Z"
   },
   {
    "duration": 313,
    "start_time": "2025-04-07T06:44:39.971Z"
   },
   {
    "duration": 282,
    "start_time": "2025-04-07T06:44:40.286Z"
   },
   {
    "duration": 134,
    "start_time": "2025-04-07T06:44:40.569Z"
   },
   {
    "duration": 116,
    "start_time": "2025-04-07T06:44:40.705Z"
   },
   {
    "duration": 298,
    "start_time": "2025-04-07T06:44:40.822Z"
   },
   {
    "duration": 133,
    "start_time": "2025-04-07T06:44:41.122Z"
   },
   {
    "duration": 143,
    "start_time": "2025-04-07T06:44:41.257Z"
   },
   {
    "duration": 9,
    "start_time": "2025-04-07T06:44:41.402Z"
   },
   {
    "duration": 136,
    "start_time": "2025-04-07T06:44:41.412Z"
   },
   {
    "duration": 213,
    "start_time": "2025-04-07T06:44:41.549Z"
   },
   {
    "duration": 191,
    "start_time": "2025-04-07T06:44:41.764Z"
   },
   {
    "duration": 3,
    "start_time": "2025-04-07T06:48:11.648Z"
   },
   {
    "duration": 34,
    "start_time": "2025-04-07T06:48:11.653Z"
   },
   {
    "duration": 15,
    "start_time": "2025-04-07T06:48:11.689Z"
   },
   {
    "duration": 7,
    "start_time": "2025-04-07T06:48:11.706Z"
   },
   {
    "duration": 4,
    "start_time": "2025-04-07T06:48:11.716Z"
   },
   {
    "duration": 64,
    "start_time": "2025-04-07T06:48:11.722Z"
   },
   {
    "duration": 26,
    "start_time": "2025-04-07T06:48:11.787Z"
   },
   {
    "duration": 14,
    "start_time": "2025-04-07T06:48:11.815Z"
   },
   {
    "duration": 4,
    "start_time": "2025-04-07T06:48:11.831Z"
   },
   {
    "duration": 12,
    "start_time": "2025-04-07T06:48:11.837Z"
   },
   {
    "duration": 13,
    "start_time": "2025-04-07T06:48:11.851Z"
   },
   {
    "duration": 53,
    "start_time": "2025-04-07T06:48:11.865Z"
   },
   {
    "duration": 7,
    "start_time": "2025-04-07T06:48:11.920Z"
   },
   {
    "duration": 4,
    "start_time": "2025-04-07T06:48:11.931Z"
   },
   {
    "duration": 4,
    "start_time": "2025-04-07T06:48:11.936Z"
   },
   {
    "duration": 18,
    "start_time": "2025-04-07T06:48:11.941Z"
   },
   {
    "duration": 14,
    "start_time": "2025-04-07T06:48:11.961Z"
   },
   {
    "duration": 42,
    "start_time": "2025-04-07T06:48:11.976Z"
   },
   {
    "duration": 10,
    "start_time": "2025-04-07T06:48:12.020Z"
   },
   {
    "duration": 3,
    "start_time": "2025-04-07T06:48:12.031Z"
   },
   {
    "duration": 4,
    "start_time": "2025-04-07T06:48:12.036Z"
   },
   {
    "duration": 24,
    "start_time": "2025-04-07T06:48:12.041Z"
   },
   {
    "duration": 43,
    "start_time": "2025-04-07T06:48:12.068Z"
   },
   {
    "duration": 5,
    "start_time": "2025-04-07T06:48:12.112Z"
   },
   {
    "duration": 4,
    "start_time": "2025-04-07T06:48:12.119Z"
   },
   {
    "duration": 9,
    "start_time": "2025-04-07T06:48:12.125Z"
   },
   {
    "duration": 13,
    "start_time": "2025-04-07T06:48:12.137Z"
   },
   {
    "duration": 15,
    "start_time": "2025-04-07T06:48:12.152Z"
   },
   {
    "duration": 63,
    "start_time": "2025-04-07T06:48:12.168Z"
   },
   {
    "duration": 5,
    "start_time": "2025-04-07T06:48:12.233Z"
   },
   {
    "duration": 13,
    "start_time": "2025-04-07T06:48:12.240Z"
   },
   {
    "duration": 56,
    "start_time": "2025-04-07T06:48:12.254Z"
   },
   {
    "duration": 31,
    "start_time": "2025-04-07T06:48:12.312Z"
   },
   {
    "duration": 4,
    "start_time": "2025-04-07T06:48:12.344Z"
   },
   {
    "duration": 4,
    "start_time": "2025-04-07T06:48:12.350Z"
   },
   {
    "duration": 4,
    "start_time": "2025-04-07T06:48:12.356Z"
   },
   {
    "duration": 10,
    "start_time": "2025-04-07T06:48:12.361Z"
   },
   {
    "duration": 50,
    "start_time": "2025-04-07T06:48:12.373Z"
   },
   {
    "duration": 296,
    "start_time": "2025-04-07T06:48:12.424Z"
   },
   {
    "duration": 370,
    "start_time": "2025-04-07T06:48:12.722Z"
   },
   {
    "duration": 129,
    "start_time": "2025-04-07T06:48:13.097Z"
   },
   {
    "duration": 109,
    "start_time": "2025-04-07T06:48:13.228Z"
   },
   {
    "duration": 287,
    "start_time": "2025-04-07T06:48:13.339Z"
   },
   {
    "duration": 134,
    "start_time": "2025-04-07T06:48:13.628Z"
   },
   {
    "duration": 139,
    "start_time": "2025-04-07T06:48:13.764Z"
   },
   {
    "duration": 8,
    "start_time": "2025-04-07T06:48:13.906Z"
   },
   {
    "duration": 0,
    "start_time": "2025-04-07T06:48:13.916Z"
   },
   {
    "duration": 0,
    "start_time": "2025-04-07T06:48:13.918Z"
   },
   {
    "duration": 6,
    "start_time": "2025-04-07T06:48:21.975Z"
   },
   {
    "duration": 210,
    "start_time": "2025-04-07T06:48:24.092Z"
   },
   {
    "duration": 206,
    "start_time": "2025-04-07T06:48:27.358Z"
   },
   {
    "duration": 2,
    "start_time": "2025-04-07T06:48:36.445Z"
   },
   {
    "duration": 36,
    "start_time": "2025-04-07T06:48:36.455Z"
   },
   {
    "duration": 17,
    "start_time": "2025-04-07T06:48:36.494Z"
   },
   {
    "duration": 7,
    "start_time": "2025-04-07T06:48:36.514Z"
   },
   {
    "duration": 6,
    "start_time": "2025-04-07T06:48:36.522Z"
   },
   {
    "duration": 84,
    "start_time": "2025-04-07T06:48:36.530Z"
   },
   {
    "duration": 8,
    "start_time": "2025-04-07T06:48:36.616Z"
   },
   {
    "duration": 15,
    "start_time": "2025-04-07T06:48:36.626Z"
   },
   {
    "duration": 4,
    "start_time": "2025-04-07T06:48:36.642Z"
   },
   {
    "duration": 12,
    "start_time": "2025-04-07T06:48:36.648Z"
   },
   {
    "duration": 48,
    "start_time": "2025-04-07T06:48:36.661Z"
   },
   {
    "duration": 11,
    "start_time": "2025-04-07T06:48:36.711Z"
   },
   {
    "duration": 8,
    "start_time": "2025-04-07T06:48:36.723Z"
   },
   {
    "duration": 4,
    "start_time": "2025-04-07T06:48:36.732Z"
   },
   {
    "duration": 4,
    "start_time": "2025-04-07T06:48:36.740Z"
   },
   {
    "duration": 18,
    "start_time": "2025-04-07T06:48:36.746Z"
   },
   {
    "duration": 53,
    "start_time": "2025-04-07T06:48:36.765Z"
   },
   {
    "duration": 12,
    "start_time": "2025-04-07T06:48:36.819Z"
   },
   {
    "duration": 10,
    "start_time": "2025-04-07T06:48:36.833Z"
   },
   {
    "duration": 4,
    "start_time": "2025-04-07T06:48:36.844Z"
   },
   {
    "duration": 4,
    "start_time": "2025-04-07T06:48:36.850Z"
   },
   {
    "duration": 54,
    "start_time": "2025-04-07T06:48:36.855Z"
   },
   {
    "duration": 10,
    "start_time": "2025-04-07T06:48:36.911Z"
   },
   {
    "duration": 5,
    "start_time": "2025-04-07T06:48:36.923Z"
   },
   {
    "duration": 3,
    "start_time": "2025-04-07T06:48:36.930Z"
   },
   {
    "duration": 9,
    "start_time": "2025-04-07T06:48:36.935Z"
   },
   {
    "duration": 13,
    "start_time": "2025-04-07T06:48:36.945Z"
   },
   {
    "duration": 51,
    "start_time": "2025-04-07T06:48:36.960Z"
   },
   {
    "duration": 24,
    "start_time": "2025-04-07T06:48:37.012Z"
   },
   {
    "duration": 6,
    "start_time": "2025-04-07T06:48:37.038Z"
   },
   {
    "duration": 15,
    "start_time": "2025-04-07T06:48:37.045Z"
   },
   {
    "duration": 61,
    "start_time": "2025-04-07T06:48:37.061Z"
   },
   {
    "duration": 31,
    "start_time": "2025-04-07T06:48:37.123Z"
   },
   {
    "duration": 3,
    "start_time": "2025-04-07T06:48:37.156Z"
   },
   {
    "duration": 3,
    "start_time": "2025-04-07T06:48:37.161Z"
   },
   {
    "duration": 4,
    "start_time": "2025-04-07T06:48:37.166Z"
   },
   {
    "duration": 14,
    "start_time": "2025-04-07T06:48:37.171Z"
   },
   {
    "duration": 16,
    "start_time": "2025-04-07T06:48:37.209Z"
   },
   {
    "duration": 296,
    "start_time": "2025-04-07T06:48:37.226Z"
   },
   {
    "duration": 302,
    "start_time": "2025-04-07T06:48:37.524Z"
   },
   {
    "duration": 124,
    "start_time": "2025-04-07T06:48:37.828Z"
   },
   {
    "duration": 115,
    "start_time": "2025-04-07T06:48:37.957Z"
   },
   {
    "duration": 265,
    "start_time": "2025-04-07T06:48:38.073Z"
   },
   {
    "duration": 234,
    "start_time": "2025-04-07T06:48:38.340Z"
   },
   {
    "duration": 141,
    "start_time": "2025-04-07T06:48:38.575Z"
   },
   {
    "duration": 8,
    "start_time": "2025-04-07T06:48:38.718Z"
   },
   {
    "duration": 230,
    "start_time": "2025-04-07T06:48:38.728Z"
   },
   {
    "duration": 264,
    "start_time": "2025-04-07T06:48:38.960Z"
   },
   {
    "duration": 3,
    "start_time": "2025-04-07T06:49:49.651Z"
   },
   {
    "duration": 30,
    "start_time": "2025-04-07T06:49:49.656Z"
   },
   {
    "duration": 16,
    "start_time": "2025-04-07T06:49:49.688Z"
   },
   {
    "duration": 7,
    "start_time": "2025-04-07T06:49:49.705Z"
   },
   {
    "duration": 5,
    "start_time": "2025-04-07T06:49:49.714Z"
   },
   {
    "duration": 91,
    "start_time": "2025-04-07T06:49:49.720Z"
   },
   {
    "duration": 9,
    "start_time": "2025-04-07T06:49:49.813Z"
   },
   {
    "duration": 15,
    "start_time": "2025-04-07T06:49:49.823Z"
   },
   {
    "duration": 4,
    "start_time": "2025-04-07T06:49:49.839Z"
   },
   {
    "duration": 12,
    "start_time": "2025-04-07T06:49:49.844Z"
   },
   {
    "duration": 13,
    "start_time": "2025-04-07T06:49:49.857Z"
   },
   {
    "duration": 42,
    "start_time": "2025-04-07T06:49:49.872Z"
   },
   {
    "duration": 8,
    "start_time": "2025-04-07T06:49:49.916Z"
   },
   {
    "duration": 4,
    "start_time": "2025-04-07T06:49:49.927Z"
   },
   {
    "duration": 4,
    "start_time": "2025-04-07T06:49:49.932Z"
   },
   {
    "duration": 18,
    "start_time": "2025-04-07T06:49:49.938Z"
   },
   {
    "duration": 52,
    "start_time": "2025-04-07T06:49:49.957Z"
   },
   {
    "duration": 12,
    "start_time": "2025-04-07T06:49:50.011Z"
   },
   {
    "duration": 10,
    "start_time": "2025-04-07T06:49:50.024Z"
   },
   {
    "duration": 4,
    "start_time": "2025-04-07T06:49:50.035Z"
   },
   {
    "duration": 5,
    "start_time": "2025-04-07T06:49:50.041Z"
   },
   {
    "duration": 23,
    "start_time": "2025-04-07T06:49:50.047Z"
   },
   {
    "duration": 45,
    "start_time": "2025-04-07T06:49:50.071Z"
   },
   {
    "duration": 5,
    "start_time": "2025-04-07T06:49:50.118Z"
   },
   {
    "duration": 4,
    "start_time": "2025-04-07T06:49:50.125Z"
   },
   {
    "duration": 10,
    "start_time": "2025-04-07T06:49:50.130Z"
   },
   {
    "duration": 13,
    "start_time": "2025-04-07T06:49:50.141Z"
   },
   {
    "duration": 16,
    "start_time": "2025-04-07T06:49:50.156Z"
   },
   {
    "duration": 61,
    "start_time": "2025-04-07T06:49:50.173Z"
   },
   {
    "duration": 6,
    "start_time": "2025-04-07T06:49:50.235Z"
   },
   {
    "duration": 14,
    "start_time": "2025-04-07T06:49:50.243Z"
   },
   {
    "duration": 60,
    "start_time": "2025-04-07T06:49:50.259Z"
   },
   {
    "duration": 32,
    "start_time": "2025-04-07T06:49:50.321Z"
   },
   {
    "duration": 4,
    "start_time": "2025-04-07T06:49:50.354Z"
   },
   {
    "duration": 4,
    "start_time": "2025-04-07T06:49:50.359Z"
   },
   {
    "duration": 4,
    "start_time": "2025-04-07T06:49:50.364Z"
   },
   {
    "duration": 40,
    "start_time": "2025-04-07T06:49:50.369Z"
   },
   {
    "duration": 17,
    "start_time": "2025-04-07T06:49:50.410Z"
   },
   {
    "duration": 291,
    "start_time": "2025-04-07T06:49:50.429Z"
   },
   {
    "duration": 305,
    "start_time": "2025-04-07T06:49:50.721Z"
   },
   {
    "duration": 122,
    "start_time": "2025-04-07T06:49:51.031Z"
   },
   {
    "duration": 115,
    "start_time": "2025-04-07T06:49:51.155Z"
   },
   {
    "duration": 272,
    "start_time": "2025-04-07T06:49:51.272Z"
   },
   {
    "duration": 137,
    "start_time": "2025-04-07T06:49:51.546Z"
   },
   {
    "duration": 135,
    "start_time": "2025-04-07T06:49:51.684Z"
   },
   {
    "duration": 6,
    "start_time": "2025-04-07T06:49:51.820Z"
   },
   {
    "duration": 294,
    "start_time": "2025-04-07T06:49:51.828Z"
   },
   {
    "duration": 223,
    "start_time": "2025-04-07T06:49:52.123Z"
   },
   {
    "duration": 171,
    "start_time": "2025-04-07T06:56:03.729Z"
   },
   {
    "duration": 426,
    "start_time": "2025-04-07T06:56:24.630Z"
   },
   {
    "duration": 371,
    "start_time": "2025-04-07T07:09:05.570Z"
   },
   {
    "duration": 337,
    "start_time": "2025-04-07T07:10:39.787Z"
   },
   {
    "duration": 451,
    "start_time": "2025-04-07T07:11:23.465Z"
   },
   {
    "duration": 99,
    "start_time": "2025-04-07T07:16:43.035Z"
   },
   {
    "duration": 99,
    "start_time": "2025-04-07T07:17:31.066Z"
   },
   {
    "duration": 77,
    "start_time": "2025-04-07T07:18:54.272Z"
   },
   {
    "duration": 184,
    "start_time": "2025-04-07T07:19:24.345Z"
   },
   {
    "duration": 171,
    "start_time": "2025-04-07T07:19:46.451Z"
   },
   {
    "duration": 156,
    "start_time": "2025-04-07T07:20:45.176Z"
   },
   {
    "duration": 24,
    "start_time": "2025-04-07T07:24:19.790Z"
   },
   {
    "duration": 9,
    "start_time": "2025-04-07T07:26:16.748Z"
   },
   {
    "duration": 5,
    "start_time": "2025-04-07T07:27:55.557Z"
   },
   {
    "duration": 14,
    "start_time": "2025-04-07T07:28:49.329Z"
   },
   {
    "duration": 178,
    "start_time": "2025-04-07T07:29:37.300Z"
   },
   {
    "duration": 46,
    "start_time": "2025-04-07T07:29:37.480Z"
   },
   {
    "duration": 15,
    "start_time": "2025-04-07T07:29:37.527Z"
   },
   {
    "duration": 7,
    "start_time": "2025-04-07T07:29:37.544Z"
   },
   {
    "duration": 5,
    "start_time": "2025-04-07T07:29:37.553Z"
   },
   {
    "duration": 79,
    "start_time": "2025-04-07T07:29:37.560Z"
   },
   {
    "duration": 8,
    "start_time": "2025-04-07T07:29:37.641Z"
   },
   {
    "duration": 15,
    "start_time": "2025-04-07T07:29:37.651Z"
   },
   {
    "duration": 5,
    "start_time": "2025-04-07T07:29:37.668Z"
   },
   {
    "duration": 37,
    "start_time": "2025-04-07T07:29:37.675Z"
   },
   {
    "duration": 12,
    "start_time": "2025-04-07T07:29:37.713Z"
   },
   {
    "duration": 12,
    "start_time": "2025-04-07T07:29:37.727Z"
   },
   {
    "duration": 7,
    "start_time": "2025-04-07T07:29:37.740Z"
   },
   {
    "duration": 3,
    "start_time": "2025-04-07T07:29:37.751Z"
   },
   {
    "duration": 4,
    "start_time": "2025-04-07T07:29:37.756Z"
   },
   {
    "duration": 57,
    "start_time": "2025-04-07T07:29:37.763Z"
   },
   {
    "duration": 14,
    "start_time": "2025-04-07T07:29:37.821Z"
   },
   {
    "duration": 12,
    "start_time": "2025-04-07T07:29:37.837Z"
   },
   {
    "duration": 9,
    "start_time": "2025-04-07T07:29:37.851Z"
   },
   {
    "duration": 3,
    "start_time": "2025-04-07T07:29:37.862Z"
   },
   {
    "duration": 4,
    "start_time": "2025-04-07T07:29:37.868Z"
   },
   {
    "duration": 55,
    "start_time": "2025-04-07T07:29:37.873Z"
   },
   {
    "duration": 10,
    "start_time": "2025-04-07T07:29:37.930Z"
   },
   {
    "duration": 4,
    "start_time": "2025-04-07T07:29:37.943Z"
   },
   {
    "duration": 4,
    "start_time": "2025-04-07T07:29:37.948Z"
   },
   {
    "duration": 10,
    "start_time": "2025-04-07T07:29:37.953Z"
   },
   {
    "duration": 46,
    "start_time": "2025-04-07T07:29:37.964Z"
   },
   {
    "duration": 18,
    "start_time": "2025-04-07T07:29:38.012Z"
   },
   {
    "duration": 27,
    "start_time": "2025-04-07T07:29:38.032Z"
   },
   {
    "duration": 6,
    "start_time": "2025-04-07T07:29:38.060Z"
   },
   {
    "duration": 41,
    "start_time": "2025-04-07T07:29:38.068Z"
   },
   {
    "duration": 31,
    "start_time": "2025-04-07T07:29:38.110Z"
   },
   {
    "duration": 31,
    "start_time": "2025-04-07T07:29:38.143Z"
   },
   {
    "duration": 3,
    "start_time": "2025-04-07T07:29:38.176Z"
   },
   {
    "duration": 3,
    "start_time": "2025-04-07T07:29:38.181Z"
   },
   {
    "duration": 6,
    "start_time": "2025-04-07T07:29:38.208Z"
   },
   {
    "duration": 9,
    "start_time": "2025-04-07T07:29:38.215Z"
   },
   {
    "duration": 16,
    "start_time": "2025-04-07T07:29:38.226Z"
   },
   {
    "duration": 293,
    "start_time": "2025-04-07T07:29:38.244Z"
   },
   {
    "duration": 293,
    "start_time": "2025-04-07T07:29:38.539Z"
   },
   {
    "duration": 128,
    "start_time": "2025-04-07T07:29:38.836Z"
   },
   {
    "duration": 117,
    "start_time": "2025-04-07T07:29:38.966Z"
   },
   {
    "duration": 292,
    "start_time": "2025-04-07T07:29:39.084Z"
   },
   {
    "duration": 137,
    "start_time": "2025-04-07T07:29:39.377Z"
   },
   {
    "duration": 139,
    "start_time": "2025-04-07T07:29:39.516Z"
   },
   {
    "duration": 6,
    "start_time": "2025-04-07T07:29:39.656Z"
   },
   {
    "duration": 223,
    "start_time": "2025-04-07T07:29:39.664Z"
   },
   {
    "duration": 250,
    "start_time": "2025-04-07T07:29:39.889Z"
   },
   {
    "duration": 472,
    "start_time": "2025-04-07T07:29:40.141Z"
   },
   {
    "duration": 102,
    "start_time": "2025-04-07T07:29:40.614Z"
   },
   {
    "duration": 162,
    "start_time": "2025-04-07T07:29:40.717Z"
   },
   {
    "duration": 9,
    "start_time": "2025-04-07T07:29:40.880Z"
   },
   {
    "duration": 4,
    "start_time": "2025-04-07T07:29:40.890Z"
   },
   {
    "duration": 16,
    "start_time": "2025-04-07T07:29:40.895Z"
   },
   {
    "duration": 673,
    "start_time": "2025-04-07T07:29:40.912Z"
   },
   {
    "duration": 23,
    "start_time": "2025-04-07T07:36:11.651Z"
   },
   {
    "duration": 11,
    "start_time": "2025-04-07T07:36:27.192Z"
   },
   {
    "duration": 125,
    "start_time": "2025-04-07T07:37:02.670Z"
   },
   {
    "duration": 2677,
    "start_time": "2025-04-10T08:14:15.958Z"
   },
   {
    "duration": 65,
    "start_time": "2025-04-10T08:14:18.637Z"
   },
   {
    "duration": 17,
    "start_time": "2025-04-10T08:14:18.704Z"
   },
   {
    "duration": 7,
    "start_time": "2025-04-10T08:14:18.724Z"
   },
   {
    "duration": 5,
    "start_time": "2025-04-10T08:14:18.733Z"
   },
   {
    "duration": 63,
    "start_time": "2025-04-10T08:14:18.740Z"
   },
   {
    "duration": 9,
    "start_time": "2025-04-10T08:14:18.804Z"
   },
   {
    "duration": 14,
    "start_time": "2025-04-10T08:14:18.815Z"
   },
   {
    "duration": 15,
    "start_time": "2025-04-10T08:14:18.830Z"
   },
   {
    "duration": 13,
    "start_time": "2025-04-10T08:14:18.848Z"
   },
   {
    "duration": 12,
    "start_time": "2025-04-10T08:14:18.862Z"
   },
   {
    "duration": 10,
    "start_time": "2025-04-10T08:14:18.876Z"
   },
   {
    "duration": 7,
    "start_time": "2025-04-10T08:14:18.888Z"
   },
   {
    "duration": 4,
    "start_time": "2025-04-10T08:14:18.896Z"
   },
   {
    "duration": 5,
    "start_time": "2025-04-10T08:14:18.942Z"
   },
   {
    "duration": 26,
    "start_time": "2025-04-10T08:14:18.950Z"
   },
   {
    "duration": 16,
    "start_time": "2025-04-10T08:14:18.977Z"
   },
   {
    "duration": 12,
    "start_time": "2025-04-10T08:14:18.995Z"
   },
   {
    "duration": 37,
    "start_time": "2025-04-10T08:14:19.009Z"
   },
   {
    "duration": 4,
    "start_time": "2025-04-10T08:14:19.047Z"
   },
   {
    "duration": 4,
    "start_time": "2025-04-10T08:14:19.053Z"
   },
   {
    "duration": 26,
    "start_time": "2025-04-10T08:14:19.058Z"
   },
   {
    "duration": 10,
    "start_time": "2025-04-10T08:14:19.086Z"
   },
   {
    "duration": 5,
    "start_time": "2025-04-10T08:14:19.097Z"
   },
   {
    "duration": 40,
    "start_time": "2025-04-10T08:14:19.103Z"
   },
   {
    "duration": 9,
    "start_time": "2025-04-10T08:14:19.144Z"
   },
   {
    "duration": 14,
    "start_time": "2025-04-10T08:14:19.155Z"
   },
   {
    "duration": 15,
    "start_time": "2025-04-10T08:14:19.173Z"
   },
   {
    "duration": 62,
    "start_time": "2025-04-10T08:14:19.190Z"
   },
   {
    "duration": 7,
    "start_time": "2025-04-10T08:14:19.253Z"
   },
   {
    "duration": 13,
    "start_time": "2025-04-10T08:14:19.262Z"
   },
   {
    "duration": 33,
    "start_time": "2025-04-10T08:14:19.277Z"
   },
   {
    "duration": 58,
    "start_time": "2025-04-10T08:14:19.311Z"
   },
   {
    "duration": 3,
    "start_time": "2025-04-10T08:14:19.371Z"
   },
   {
    "duration": 5,
    "start_time": "2025-04-10T08:14:19.376Z"
   },
   {
    "duration": 5,
    "start_time": "2025-04-10T08:14:19.382Z"
   },
   {
    "duration": 9,
    "start_time": "2025-04-10T08:14:19.389Z"
   },
   {
    "duration": 45,
    "start_time": "2025-04-10T08:14:19.400Z"
   },
   {
    "duration": 314,
    "start_time": "2025-04-10T08:14:19.447Z"
   },
   {
    "duration": 326,
    "start_time": "2025-04-10T08:14:19.762Z"
   },
   {
    "duration": 130,
    "start_time": "2025-04-10T08:14:20.090Z"
   },
   {
    "duration": 127,
    "start_time": "2025-04-10T08:14:20.222Z"
   },
   {
    "duration": 328,
    "start_time": "2025-04-10T08:14:20.351Z"
   },
   {
    "duration": 136,
    "start_time": "2025-04-10T08:14:20.681Z"
   },
   {
    "duration": 140,
    "start_time": "2025-04-10T08:14:20.819Z"
   },
   {
    "duration": 6,
    "start_time": "2025-04-10T08:14:20.961Z"
   },
   {
    "duration": 219,
    "start_time": "2025-04-10T08:14:20.969Z"
   },
   {
    "duration": 209,
    "start_time": "2025-04-10T08:14:21.190Z"
   },
   {
    "duration": 378,
    "start_time": "2025-04-10T08:14:21.401Z"
   },
   {
    "duration": 171,
    "start_time": "2025-04-10T08:14:21.782Z"
   },
   {
    "duration": 156,
    "start_time": "2025-04-10T08:14:21.955Z"
   },
   {
    "duration": 1350,
    "start_time": "2025-04-10T08:14:22.113Z"
   },
   {
    "duration": 642,
    "start_time": "2025-04-10T08:14:23.542Z"
   },
   {
    "duration": 0,
    "start_time": "2025-04-10T08:14:24.185Z"
   },
   {
    "duration": 0,
    "start_time": "2025-04-10T08:14:24.187Z"
   },
   {
    "duration": 0,
    "start_time": "2025-04-10T08:14:24.188Z"
   },
   {
    "duration": 0,
    "start_time": "2025-04-10T08:14:24.189Z"
   },
   {
    "duration": 0,
    "start_time": "2025-04-10T08:14:24.190Z"
   },
   {
    "duration": 3,
    "start_time": "2025-04-10T08:32:05.567Z"
   },
   {
    "duration": 39,
    "start_time": "2025-04-10T08:32:05.572Z"
   },
   {
    "duration": 16,
    "start_time": "2025-04-10T08:32:05.612Z"
   },
   {
    "duration": 7,
    "start_time": "2025-04-10T08:32:05.629Z"
   },
   {
    "duration": 4,
    "start_time": "2025-04-10T08:32:05.639Z"
   },
   {
    "duration": 63,
    "start_time": "2025-04-10T08:32:05.645Z"
   },
   {
    "duration": 9,
    "start_time": "2025-04-10T08:32:05.710Z"
   },
   {
    "duration": 31,
    "start_time": "2025-04-10T08:32:05.720Z"
   },
   {
    "duration": 4,
    "start_time": "2025-04-10T08:32:05.752Z"
   },
   {
    "duration": 13,
    "start_time": "2025-04-10T08:32:05.758Z"
   },
   {
    "duration": 13,
    "start_time": "2025-04-10T08:32:05.772Z"
   },
   {
    "duration": 10,
    "start_time": "2025-04-10T08:32:05.787Z"
   },
   {
    "duration": 48,
    "start_time": "2025-04-10T08:32:05.801Z"
   },
   {
    "duration": 4,
    "start_time": "2025-04-10T08:32:05.850Z"
   },
   {
    "duration": 4,
    "start_time": "2025-04-10T08:32:05.856Z"
   },
   {
    "duration": 18,
    "start_time": "2025-04-10T08:32:05.862Z"
   },
   {
    "duration": 14,
    "start_time": "2025-04-10T08:32:05.882Z"
   },
   {
    "duration": 12,
    "start_time": "2025-04-10T08:32:05.898Z"
   },
   {
    "duration": 10,
    "start_time": "2025-04-10T08:32:05.942Z"
   },
   {
    "duration": 5,
    "start_time": "2025-04-10T08:32:05.953Z"
   },
   {
    "duration": 5,
    "start_time": "2025-04-10T08:32:05.959Z"
   },
   {
    "duration": 23,
    "start_time": "2025-04-10T08:32:05.966Z"
   },
   {
    "duration": 11,
    "start_time": "2025-04-10T08:32:05.990Z"
   },
   {
    "duration": 5,
    "start_time": "2025-04-10T08:32:06.002Z"
   },
   {
    "duration": 4,
    "start_time": "2025-04-10T08:32:06.042Z"
   },
   {
    "duration": 10,
    "start_time": "2025-04-10T08:32:06.048Z"
   },
   {
    "duration": 13,
    "start_time": "2025-04-10T08:32:06.059Z"
   },
   {
    "duration": 15,
    "start_time": "2025-04-10T08:32:06.074Z"
   },
   {
    "duration": 57,
    "start_time": "2025-04-10T08:32:06.090Z"
   },
   {
    "duration": 7,
    "start_time": "2025-04-10T08:32:06.149Z"
   },
   {
    "duration": 15,
    "start_time": "2025-04-10T08:32:06.158Z"
   },
   {
    "duration": 33,
    "start_time": "2025-04-10T08:32:06.175Z"
   },
   {
    "duration": 62,
    "start_time": "2025-04-10T08:32:06.210Z"
   },
   {
    "duration": 3,
    "start_time": "2025-04-10T08:32:06.274Z"
   },
   {
    "duration": 4,
    "start_time": "2025-04-10T08:32:06.279Z"
   },
   {
    "duration": 4,
    "start_time": "2025-04-10T08:32:06.285Z"
   },
   {
    "duration": 10,
    "start_time": "2025-04-10T08:32:06.293Z"
   },
   {
    "duration": 44,
    "start_time": "2025-04-10T08:32:06.304Z"
   },
   {
    "duration": 301,
    "start_time": "2025-04-10T08:32:06.350Z"
   },
   {
    "duration": 302,
    "start_time": "2025-04-10T08:32:06.653Z"
   },
   {
    "duration": 128,
    "start_time": "2025-04-10T08:32:06.957Z"
   },
   {
    "duration": 119,
    "start_time": "2025-04-10T08:32:07.087Z"
   },
   {
    "duration": 281,
    "start_time": "2025-04-10T08:32:07.208Z"
   },
   {
    "duration": 227,
    "start_time": "2025-04-10T08:32:07.490Z"
   },
   {
    "duration": 137,
    "start_time": "2025-04-10T08:32:07.719Z"
   },
   {
    "duration": 6,
    "start_time": "2025-04-10T08:32:07.858Z"
   },
   {
    "duration": 216,
    "start_time": "2025-04-10T08:32:07.866Z"
   },
   {
    "duration": 206,
    "start_time": "2025-04-10T08:32:08.084Z"
   },
   {
    "duration": 361,
    "start_time": "2025-04-10T08:32:08.292Z"
   },
   {
    "duration": 104,
    "start_time": "2025-04-10T08:32:08.655Z"
   },
   {
    "duration": 162,
    "start_time": "2025-04-10T08:32:08.761Z"
   },
   {
    "duration": 1422,
    "start_time": "2025-04-10T08:32:08.924Z"
   },
   {
    "duration": 158,
    "start_time": "2025-04-14T12:26:25.126Z"
   },
   {
    "duration": 2779,
    "start_time": "2025-04-14T12:26:30.972Z"
   },
   {
    "duration": 68,
    "start_time": "2025-04-14T12:26:33.753Z"
   },
   {
    "duration": 27,
    "start_time": "2025-04-14T12:26:33.823Z"
   },
   {
    "duration": 19,
    "start_time": "2025-04-14T12:26:33.851Z"
   },
   {
    "duration": 9,
    "start_time": "2025-04-14T12:26:33.873Z"
   },
   {
    "duration": 5,
    "start_time": "2025-04-14T12:26:33.884Z"
   },
   {
    "duration": 92,
    "start_time": "2025-04-14T12:26:33.891Z"
   },
   {
    "duration": 9,
    "start_time": "2025-04-14T12:26:33.985Z"
   },
   {
    "duration": 35,
    "start_time": "2025-04-14T12:26:33.996Z"
   },
   {
    "duration": 5,
    "start_time": "2025-04-14T12:26:34.033Z"
   },
   {
    "duration": 13,
    "start_time": "2025-04-14T12:26:34.040Z"
   },
   {
    "duration": 13,
    "start_time": "2025-04-14T12:26:34.055Z"
   },
   {
    "duration": 16,
    "start_time": "2025-04-14T12:26:34.070Z"
   },
   {
    "duration": 8,
    "start_time": "2025-04-14T12:26:34.091Z"
   },
   {
    "duration": 5,
    "start_time": "2025-04-14T12:26:34.131Z"
   },
   {
    "duration": 4,
    "start_time": "2025-04-14T12:26:34.138Z"
   },
   {
    "duration": 20,
    "start_time": "2025-04-14T12:26:34.144Z"
   },
   {
    "duration": 14,
    "start_time": "2025-04-14T12:26:34.165Z"
   },
   {
    "duration": 12,
    "start_time": "2025-04-14T12:26:34.181Z"
   },
   {
    "duration": 43,
    "start_time": "2025-04-14T12:26:34.194Z"
   },
   {
    "duration": 4,
    "start_time": "2025-04-14T12:26:34.239Z"
   },
   {
    "duration": 5,
    "start_time": "2025-04-14T12:26:34.244Z"
   },
   {
    "duration": 24,
    "start_time": "2025-04-14T12:26:34.251Z"
   },
   {
    "duration": 11,
    "start_time": "2025-04-14T12:26:34.277Z"
   },
   {
    "duration": 6,
    "start_time": "2025-04-14T12:26:34.289Z"
   },
   {
    "duration": 36,
    "start_time": "2025-04-14T12:26:34.296Z"
   },
   {
    "duration": 9,
    "start_time": "2025-04-14T12:26:34.334Z"
   },
   {
    "duration": 14,
    "start_time": "2025-04-14T12:26:34.345Z"
   },
   {
    "duration": 16,
    "start_time": "2025-04-14T12:26:34.361Z"
   },
   {
    "duration": 59,
    "start_time": "2025-04-14T12:26:34.378Z"
   },
   {
    "duration": 6,
    "start_time": "2025-04-14T12:26:34.439Z"
   },
   {
    "duration": 14,
    "start_time": "2025-04-14T12:26:34.447Z"
   },
   {
    "duration": 34,
    "start_time": "2025-04-14T12:26:34.463Z"
   },
   {
    "duration": 66,
    "start_time": "2025-04-14T12:26:34.499Z"
   },
   {
    "duration": 4,
    "start_time": "2025-04-14T12:26:34.566Z"
   },
   {
    "duration": 4,
    "start_time": "2025-04-14T12:26:34.572Z"
   },
   {
    "duration": 3,
    "start_time": "2025-04-14T12:26:34.578Z"
   },
   {
    "duration": 10,
    "start_time": "2025-04-14T12:26:34.583Z"
   },
   {
    "duration": 46,
    "start_time": "2025-04-14T12:26:34.594Z"
   },
   {
    "duration": 322,
    "start_time": "2025-04-14T12:26:34.643Z"
   },
   {
    "duration": 286,
    "start_time": "2025-04-14T12:26:34.969Z"
   },
   {
    "duration": 131,
    "start_time": "2025-04-14T12:26:35.257Z"
   },
   {
    "duration": 118,
    "start_time": "2025-04-14T12:26:35.390Z"
   },
   {
    "duration": 310,
    "start_time": "2025-04-14T12:26:35.510Z"
   },
   {
    "duration": 218,
    "start_time": "2025-04-14T12:26:35.822Z"
   },
   {
    "duration": 149,
    "start_time": "2025-04-14T12:26:36.042Z"
   },
   {
    "duration": 6,
    "start_time": "2025-04-14T12:26:36.193Z"
   },
   {
    "duration": 245,
    "start_time": "2025-04-14T12:26:36.201Z"
   },
   {
    "duration": 229,
    "start_time": "2025-04-14T12:26:36.448Z"
   },
   {
    "duration": 385,
    "start_time": "2025-04-14T12:26:36.679Z"
   },
   {
    "duration": 104,
    "start_time": "2025-04-14T12:26:37.065Z"
   },
   {
    "duration": 164,
    "start_time": "2025-04-14T12:26:37.171Z"
   },
   {
    "duration": 1414,
    "start_time": "2025-04-14T12:26:37.337Z"
   },
   {
    "duration": 10,
    "start_time": "2025-04-15T05:03:27.780Z"
   }
  ],
  "kernelspec": {
   "display_name": "Python 3 (ipykernel)",
   "language": "python",
   "name": "python3"
  },
  "language_info": {
   "codemirror_mode": {
    "name": "ipython",
    "version": 3
   },
   "file_extension": ".py",
   "mimetype": "text/x-python",
   "name": "python",
   "nbconvert_exporter": "python",
   "pygments_lexer": "ipython3",
   "version": "3.9.19"
  },
  "toc": {
   "base_numbering": 1,
   "nav_menu": {},
   "number_sections": true,
   "sideBar": true,
   "skip_h1_title": true,
   "title_cell": "Table of Contents",
   "title_sidebar": "Contents",
   "toc_cell": false,
   "toc_position": {
    "height": "calc(100% - 180px)",
    "left": "10px",
    "top": "150px",
    "width": "228.797px"
   },
   "toc_section_display": true,
   "toc_window_display": false
  }
 },
 "nbformat": 4,
 "nbformat_minor": 2
}
